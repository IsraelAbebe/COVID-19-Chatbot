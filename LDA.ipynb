{
  "nbformat": 4,
  "nbformat_minor": 0,
  "metadata": {
    "colab": {
      "name": "LDA",
      "provenance": [],
      "collapsed_sections": [],
      "authorship_tag": "ABX9TyPpJv+Pyo7+zRGSPsDoBJla",
      "include_colab_link": true
    },
    "kernelspec": {
      "name": "python3",
      "display_name": "Python 3"
    }
  },
  "cells": [
    {
      "cell_type": "markdown",
      "metadata": {
        "id": "view-in-github",
        "colab_type": "text"
      },
      "source": [
        "<a href=\"https://colab.research.google.com/github/IsraelAbebe/COVID-19-Chatbot/blob/master/LDA.ipynb\" target=\"_parent\"><img src=\"https://colab.research.google.com/assets/colab-badge.svg\" alt=\"Open In Colab\"/></a>"
      ]
    },
    {
      "cell_type": "code",
      "metadata": {
        "id": "5r-GbJcj09N8",
        "colab_type": "code",
        "colab": {}
      },
      "source": [
        "!pip install pyLDAvis --q"
      ],
      "execution_count": 192,
      "outputs": []
    },
    {
      "cell_type": "code",
      "metadata": {
        "id": "ZkE91E9lPok9",
        "colab_type": "code",
        "colab": {}
      },
      "source": [
        "import pandas as pd\n",
        "import re"
      ],
      "execution_count": 193,
      "outputs": []
    },
    {
      "cell_type": "markdown",
      "metadata": {
        "id": "xRTYbdjZzmFI",
        "colab_type": "text"
      },
      "source": [
        "### Read Dataset from "
      ]
    },
    {
      "cell_type": "code",
      "metadata": {
        "id": "Qwu8aJIPPrui",
        "colab_type": "code",
        "colab": {
          "base_uri": "https://localhost:8080/",
          "height": 599
        },
        "outputId": "d9141f13-e118-4455-a8fd-76a102a4c657"
      },
      "source": [
        "twb_data = pd.read_excel(\"Copy of twb-chatbot-data.xlsx\")\n",
        "data.info()"
      ],
      "execution_count": 174,
      "outputs": [
        {
          "output_type": "stream",
          "text": [
            "<class 'pandas.core.frame.DataFrame'>\n",
            "RangeIndex: 35 entries, 0 to 34\n",
            "Data columns (total 25 columns):\n",
            " #   Column                          Non-Null Count  Dtype \n",
            "---  ------                          --------------  ----- \n",
            " 0   ask_for_stats                   25 non-null     object\n",
            " 1   covid_call_a_doctor             10 non-null     object\n",
            " 2   covid_disinfect                 6 non-null      object\n",
            " 3   covid_explain_pandemic          6 non-null      object\n",
            " 4   covid_gloves                    19 non-null     object\n",
            " 5   covid_hospital                  8 non-null      object\n",
            " 6   covid_how_spread                9 non-null      object\n",
            " 7   covid_infection_sources         14 non-null     object\n",
            " 8   covid_masks_how_to              13 non-null     object\n",
            " 9   covid_masks_effectiveness       17 non-null     object\n",
            " 10  covid_myth_antibiotics          7 non-null      object\n",
            " 11  covid_myth_mosquitos            7 non-null      object\n",
            " 12  covid_myth_only_old             7 non-null      object\n",
            " 13  covid_myth_UV                   7 non-null      object\n",
            " 14  covid_protection                21 non-null     object\n",
            " 15  covid_protection_wash_hands     9 non-null      object\n",
            " 16  covid_protection_keep_distance  5 non-null      object\n",
            " 17  covid_risk_most_at_risk         9 non-null      object\n",
            " 18  covid_SARS                      6 non-null      object\n",
            " 19  covid_stress                    6 non-null      object\n",
            " 20  covid_symptoms                  25 non-null     object\n",
            " 21  covid_treatments                33 non-null     object\n",
            " 22  covid_wash_hands_how            7 non-null      object\n",
            " 23  covid_what_is_corona_covid-19   10 non-null     object\n",
            " 24  covid_myth_hot_tea              10 non-null     object\n",
            "dtypes: object(25)\n",
            "memory usage: 7.0+ KB\n"
          ],
          "name": "stdout"
        }
      ]
    },
    {
      "cell_type": "markdown",
      "metadata": {
        "id": "FYT3ASxJzx5R",
        "colab_type": "text"
      },
      "source": [
        "### Visualize Dataset"
      ]
    },
    {
      "cell_type": "code",
      "metadata": {
        "id": "rD3n9yRGP_0J",
        "colab_type": "code",
        "colab": {
          "base_uri": "https://localhost:8080/",
          "height": 477
        },
        "outputId": "d45b0026-27bf-4aba-8a44-c35e8eeea07d"
      },
      "source": [
        "data.head()"
      ],
      "execution_count": 175,
      "outputs": [
        {
          "output_type": "execute_result",
          "data": {
            "text/html": [
              "<div>\n",
              "<style scoped>\n",
              "    .dataframe tbody tr th:only-of-type {\n",
              "        vertical-align: middle;\n",
              "    }\n",
              "\n",
              "    .dataframe tbody tr th {\n",
              "        vertical-align: top;\n",
              "    }\n",
              "\n",
              "    .dataframe thead th {\n",
              "        text-align: right;\n",
              "    }\n",
              "</style>\n",
              "<table border=\"1\" class=\"dataframe\">\n",
              "  <thead>\n",
              "    <tr style=\"text-align: right;\">\n",
              "      <th></th>\n",
              "      <th>ask_for_stats</th>\n",
              "      <th>covid_call_a_doctor</th>\n",
              "      <th>covid_disinfect</th>\n",
              "      <th>covid_explain_pandemic</th>\n",
              "      <th>covid_gloves</th>\n",
              "      <th>covid_hospital</th>\n",
              "      <th>covid_how_spread</th>\n",
              "      <th>covid_infection_sources</th>\n",
              "      <th>covid_masks_how_to</th>\n",
              "      <th>covid_masks_effectiveness</th>\n",
              "      <th>covid_myth_antibiotics</th>\n",
              "      <th>covid_myth_mosquitos</th>\n",
              "      <th>covid_myth_only_old</th>\n",
              "      <th>covid_myth_UV</th>\n",
              "      <th>covid_protection</th>\n",
              "      <th>covid_protection_wash_hands</th>\n",
              "      <th>covid_protection_keep_distance</th>\n",
              "      <th>covid_risk_most_at_risk</th>\n",
              "      <th>covid_SARS</th>\n",
              "      <th>covid_stress</th>\n",
              "      <th>covid_symptoms</th>\n",
              "      <th>covid_treatments</th>\n",
              "      <th>covid_wash_hands_how</th>\n",
              "      <th>covid_what_is_corona_covid-19</th>\n",
              "      <th>covid_myth_hot_tea</th>\n",
              "    </tr>\n",
              "  </thead>\n",
              "  <tbody>\n",
              "    <tr>\n",
              "      <th>0</th>\n",
              "      <td>What are the current COVID-19 statistics for DRC?</td>\n",
              "      <td>Where can I get tested?</td>\n",
              "      <td>Can disinfectant hurt me in any way?</td>\n",
              "      <td>What's a pandemic?</td>\n",
              "      <td>Should I wear gloves to protect against COVID?</td>\n",
              "      <td>Should I go to the hospital if I have corona?</td>\n",
              "      <td>How do people catch the virus?</td>\n",
              "      <td>I wanted to know the origin not the treatment</td>\n",
              "      <td>How should I wear a mask?</td>\n",
              "      <td>What kind of mask should I wear?</td>\n",
              "      <td>Is there any proof of antibiotics killing COVI...</td>\n",
              "      <td>Is it true that you can get corona form mosqui...</td>\n",
              "      <td>Can young people get infected with COVID-19?</td>\n",
              "      <td>Does ultraviolet light disinfect against COVID...</td>\n",
              "      <td>I need protection from the virus?</td>\n",
              "      <td>Why should you wash your hands?</td>\n",
              "      <td>Do I have to be away from people to avoid corona?</td>\n",
              "      <td>Why do whites die more than blacks?</td>\n",
              "      <td>Is corona SARS?</td>\n",
              "      <td>Are there any resources to help cope with stress?</td>\n",
              "      <td>What are the signs of Covid-19?</td>\n",
              "      <td>Do cold temperatures kill COVID-19?</td>\n",
              "      <td>Is sanitizer better than soap?</td>\n",
              "      <td>Are covid-19 and coronavirus the same thing?</td>\n",
              "      <td>It is also said that hot tea with ginger can c...</td>\n",
              "    </tr>\n",
              "    <tr>\n",
              "      <th>1</th>\n",
              "      <td>Statistics for DRC?</td>\n",
              "      <td>What should I do if I have symptoms?</td>\n",
              "      <td>Do I have to use disinfectant?</td>\n",
              "      <td>What's the difference between a pandemic and a...</td>\n",
              "      <td>Does wearing gloves help?</td>\n",
              "      <td>Do I need to visit a doctor if I have covid?</td>\n",
              "      <td>How do people catch the disease?</td>\n",
              "      <td>What is the origin of the coronavirus</td>\n",
              "      <td>Was your mask made here at home or from other ...</td>\n",
              "      <td>Anyone who wears a mask can't get a corona?</td>\n",
              "      <td>How do antibiotics prevent infection of COVID-19?</td>\n",
              "      <td>Can a mosquito bite contain corona?</td>\n",
              "      <td>Who is most likely to get infected with the co...</td>\n",
              "      <td>IS it possible to use ultaviolet light to disi...</td>\n",
              "      <td>What's the best way to protect against coronav...</td>\n",
              "      <td>Why wash your hands?</td>\n",
              "      <td>How far should I be from people?</td>\n",
              "      <td>Why don't crazy people get coronavirus?</td>\n",
              "      <td>Is corona different from SARS?</td>\n",
              "      <td>How can I keep my mental health up during quar...</td>\n",
              "      <td>What are the symptoms</td>\n",
              "      <td>Has research found a cure for Covid-19?</td>\n",
              "      <td>Should I use sanitizer instead of soap?</td>\n",
              "      <td>Can you explain what coronavirus is?</td>\n",
              "      <td>hot tea, can it treat corona</td>\n",
              "    </tr>\n",
              "    <tr>\n",
              "      <th>2</th>\n",
              "      <td>What's the total number of people tested posit...</td>\n",
              "      <td>I have a dry cough and fever</td>\n",
              "      <td>Is drinking disinfectant bad for me?</td>\n",
              "      <td>What's the difference between a epidemic and a...</td>\n",
              "      <td>Will gloves protect me?</td>\n",
              "      <td>Should I just stay at home if i have the disease?</td>\n",
              "      <td>How can I catch the disease?</td>\n",
              "      <td>What country is COVID-19 from?</td>\n",
              "      <td>Do you have to wear a mask every day?</td>\n",
              "      <td>When does the mask help?</td>\n",
              "      <td>Can corona be cured with antibiotics?</td>\n",
              "      <td>Can mosquitos transfer the coronavirus?</td>\n",
              "      <td>Can only old people get COVID-19?</td>\n",
              "      <td>How does ultraviolet light disinfect?</td>\n",
              "      <td>What's the best way to protect against covid-19</td>\n",
              "      <td>How should I wash my hands?\\n</td>\n",
              "      <td>Should I be away from anyone?</td>\n",
              "      <td>Is the coronavirus more dangerous to some people?</td>\n",
              "      <td>How is the coronavirus different from SARS?</td>\n",
              "      <td>How do I deal with stress during quarantine?</td>\n",
              "      <td>What are the signs of being sick with coronavi...</td>\n",
              "      <td>Can people be cured of COVID-19?</td>\n",
              "      <td>How long should I wash my hands?</td>\n",
              "      <td>Can you explain what COVID-19 is?</td>\n",
              "      <td>If someone takes hot tea they will not be infe...</td>\n",
              "    </tr>\n",
              "    <tr>\n",
              "      <th>3</th>\n",
              "      <td>How many people have tested positive for coron...</td>\n",
              "      <td>Should I call a doctor?</td>\n",
              "      <td>Should I drink disinfectant?</td>\n",
              "      <td>Why is coronavirus called a pandemic?</td>\n",
              "      <td>Are gloves a good idea?</td>\n",
              "      <td>Is it okay to not go to the hospital if I have...</td>\n",
              "      <td>How does the disease spread?</td>\n",
              "      <td>Where does Corona come from?</td>\n",
              "      <td>How should you wear a mask?</td>\n",
              "      <td>Does the mask send missiles to catch the coron...</td>\n",
              "      <td>Are there any antibiotics that can kill the co...</td>\n",
              "      <td>Is there any way a mosquito can give me COVID-19?</td>\n",
              "      <td>Who is most likely to get corona?</td>\n",
              "      <td>Is it true that ultraviolet light kills COVID-19?</td>\n",
              "      <td>How can I stop the virus from spreading?</td>\n",
              "      <td>How to wash your hands</td>\n",
              "      <td>NaN</td>\n",
              "      <td>NaN</td>\n",
              "      <td>NaN</td>\n",
              "      <td>NaN</td>\n",
              "      <td>NaN</td>\n",
              "      <td>NaN</td>\n",
              "      <td>NaN</td>\n",
              "      <td>NaN</td>\n",
              "      <td>NaN</td>\n",
              "    </tr>\n",
              "    <tr>\n",
              "      <th>4</th>\n",
              "      <td>If I am away from someone who is infected, I w...</td>\n",
              "      <td>Are there people more at risk of being harmed ...</td>\n",
              "      <td>Are there any differences between the coronavi...</td>\n",
              "      <td>What do I do against feeling stress during the...</td>\n",
              "      <td>Am I sick?</td>\n",
              "      <td>Is there anything that cures the corona virus?</td>\n",
              "      <td>What's the minimum time to wash hands?</td>\n",
              "      <td>Is COVID-19 and coronavirus the same?</td>\n",
              "      <td>Can I drink hot tea on the floor and not infec...</td>\n",
              "      <td>NaN</td>\n",
              "      <td>NaN</td>\n",
              "      <td>NaN</td>\n",
              "      <td>NaN</td>\n",
              "      <td>NaN</td>\n",
              "      <td>NaN</td>\n",
              "      <td>NaN</td>\n",
              "      <td>NaN</td>\n",
              "      <td>NaN</td>\n",
              "      <td>NaN</td>\n",
              "      <td>NaN</td>\n",
              "      <td>NaN</td>\n",
              "      <td>NaN</td>\n",
              "      <td>NaN</td>\n",
              "      <td>NaN</td>\n",
              "      <td>NaN</td>\n",
              "    </tr>\n",
              "  </tbody>\n",
              "</table>\n",
              "</div>"
            ],
            "text/plain": [
              "                                       ask_for_stats  ...                                 covid_myth_hot_tea\n",
              "0  What are the current COVID-19 statistics for DRC?  ...  It is also said that hot tea with ginger can c...\n",
              "1                                Statistics for DRC?  ...                       hot tea, can it treat corona\n",
              "2  What's the total number of people tested posit...  ...  If someone takes hot tea they will not be infe...\n",
              "3  How many people have tested positive for coron...  ...                                                NaN\n",
              "4  If I am away from someone who is infected, I w...  ...                                                NaN\n",
              "\n",
              "[5 rows x 25 columns]"
            ]
          },
          "metadata": {
            "tags": []
          },
          "execution_count": 175
        }
      ]
    },
    {
      "cell_type": "markdown",
      "metadata": {
        "id": "ZGGF0zaXz7Gi",
        "colab_type": "text"
      },
      "source": [
        "### Convert the dataset into new format to make it easy for training"
      ]
    },
    {
      "cell_type": "code",
      "metadata": {
        "id": "2ggxUqUERQrA",
        "colab_type": "code",
        "colab": {}
      },
      "source": [
        "data_dict = data.to_dict()\n",
        "new_data_dict = []\n",
        "for i in data_dict.keys():\n",
        "    for j in data_dict[i].values():\n",
        "        if str(j) != 'nan':\n",
        "            new_data_dict.append([i,j])"
      ],
      "execution_count": 176,
      "outputs": []
    },
    {
      "cell_type": "code",
      "metadata": {
        "id": "S8Qo2OJsSCKp",
        "colab_type": "code",
        "colab": {
          "base_uri": "https://localhost:8080/",
          "height": 198
        },
        "outputId": "97f45675-9b63-436f-9bf6-56673324b500"
      },
      "source": [
        "new_data = pd.DataFrame(new_data_dict)\n",
        "new_data.columns = ['Topic','Text']\n",
        "new_data.head()"
      ],
      "execution_count": 177,
      "outputs": [
        {
          "output_type": "execute_result",
          "data": {
            "text/html": [
              "<div>\n",
              "<style scoped>\n",
              "    .dataframe tbody tr th:only-of-type {\n",
              "        vertical-align: middle;\n",
              "    }\n",
              "\n",
              "    .dataframe tbody tr th {\n",
              "        vertical-align: top;\n",
              "    }\n",
              "\n",
              "    .dataframe thead th {\n",
              "        text-align: right;\n",
              "    }\n",
              "</style>\n",
              "<table border=\"1\" class=\"dataframe\">\n",
              "  <thead>\n",
              "    <tr style=\"text-align: right;\">\n",
              "      <th></th>\n",
              "      <th>Topic</th>\n",
              "      <th>Text</th>\n",
              "    </tr>\n",
              "  </thead>\n",
              "  <tbody>\n",
              "    <tr>\n",
              "      <th>0</th>\n",
              "      <td>ask_for_stats</td>\n",
              "      <td>What are the current COVID-19 statistics for DRC?</td>\n",
              "    </tr>\n",
              "    <tr>\n",
              "      <th>1</th>\n",
              "      <td>ask_for_stats</td>\n",
              "      <td>Statistics for DRC?</td>\n",
              "    </tr>\n",
              "    <tr>\n",
              "      <th>2</th>\n",
              "      <td>ask_for_stats</td>\n",
              "      <td>What's the total number of people tested posit...</td>\n",
              "    </tr>\n",
              "    <tr>\n",
              "      <th>3</th>\n",
              "      <td>ask_for_stats</td>\n",
              "      <td>How many people have tested positive for coron...</td>\n",
              "    </tr>\n",
              "    <tr>\n",
              "      <th>4</th>\n",
              "      <td>ask_for_stats</td>\n",
              "      <td>If I am away from someone who is infected, I w...</td>\n",
              "    </tr>\n",
              "  </tbody>\n",
              "</table>\n",
              "</div>"
            ],
            "text/plain": [
              "           Topic                                               Text\n",
              "0  ask_for_stats  What are the current COVID-19 statistics for DRC?\n",
              "1  ask_for_stats                                Statistics for DRC?\n",
              "2  ask_for_stats  What's the total number of people tested posit...\n",
              "3  ask_for_stats  How many people have tested positive for coron...\n",
              "4  ask_for_stats  If I am away from someone who is infected, I w..."
            ]
          },
          "metadata": {
            "tags": []
          },
          "execution_count": 177
        }
      ]
    },
    {
      "cell_type": "code",
      "metadata": {
        "id": "L5dwDHLaYEzL",
        "colab_type": "code",
        "colab": {
          "base_uri": "https://localhost:8080/",
          "height": 35
        },
        "outputId": "9b5d54fc-b87d-4506-d310-8274593b26b7"
      },
      "source": [
        "new_data['Topic'] = new_data['Topic'].map(lambda x: re.sub('[\\d,.!?]', '', x))\n",
        "new_data['Text'] = new_data['Text'].map(lambda x: re.sub('[\\d,.!?]', '', x))\n",
        "\n",
        "new_data['Topic'] = new_data['Topic'].map(lambda x: x.lower())\n",
        "new_data['Text'] = new_data['Text'].map(lambda x: x.lower())\n",
        "\n",
        "new_data['Topic'] = new_data['Topic'].map(lambda x: x.strip())\n",
        "\n",
        "len(new_data.Topic.unique())"
      ],
      "execution_count": 178,
      "outputs": [
        {
          "output_type": "execute_result",
          "data": {
            "text/plain": [
              "25"
            ]
          },
          "metadata": {
            "tags": []
          },
          "execution_count": 178
        }
      ]
    },
    {
      "cell_type": "code",
      "metadata": {
        "id": "VJVjRQ--eKRT",
        "colab_type": "code",
        "colab": {
          "base_uri": "https://localhost:8080/",
          "height": 181
        },
        "outputId": "8c4d9e92-fdb6-4fd8-b772-d06cddab38f8"
      },
      "source": [
        "new_data.info()"
      ],
      "execution_count": 191,
      "outputs": [
        {
          "output_type": "stream",
          "text": [
            "<class 'pandas.core.frame.DataFrame'>\n",
            "RangeIndex: 296 entries, 0 to 295\n",
            "Data columns (total 2 columns):\n",
            " #   Column  Non-Null Count  Dtype \n",
            "---  ------  --------------  ----- \n",
            " 0   Topic   296 non-null    object\n",
            " 1   Text    296 non-null    object\n",
            "dtypes: object(2)\n",
            "memory usage: 4.8+ KB\n"
          ],
          "name": "stdout"
        }
      ]
    },
    {
      "cell_type": "code",
      "metadata": {
        "id": "iruu3g8UYnDC",
        "colab_type": "code",
        "colab": {
          "base_uri": "https://localhost:8080/",
          "height": 198
        },
        "outputId": "83dbfbc8-67e8-4f28-a998-ed88327ba098"
      },
      "source": [
        "new_data.head()"
      ],
      "execution_count": 180,
      "outputs": [
        {
          "output_type": "execute_result",
          "data": {
            "text/html": [
              "<div>\n",
              "<style scoped>\n",
              "    .dataframe tbody tr th:only-of-type {\n",
              "        vertical-align: middle;\n",
              "    }\n",
              "\n",
              "    .dataframe tbody tr th {\n",
              "        vertical-align: top;\n",
              "    }\n",
              "\n",
              "    .dataframe thead th {\n",
              "        text-align: right;\n",
              "    }\n",
              "</style>\n",
              "<table border=\"1\" class=\"dataframe\">\n",
              "  <thead>\n",
              "    <tr style=\"text-align: right;\">\n",
              "      <th></th>\n",
              "      <th>Topic</th>\n",
              "      <th>Text</th>\n",
              "    </tr>\n",
              "  </thead>\n",
              "  <tbody>\n",
              "    <tr>\n",
              "      <th>0</th>\n",
              "      <td>ask_for_stats</td>\n",
              "      <td>what are the current covid- statistics for drc</td>\n",
              "    </tr>\n",
              "    <tr>\n",
              "      <th>1</th>\n",
              "      <td>ask_for_stats</td>\n",
              "      <td>statistics for drc</td>\n",
              "    </tr>\n",
              "    <tr>\n",
              "      <th>2</th>\n",
              "      <td>ask_for_stats</td>\n",
              "      <td>what's the total number of people tested posit...</td>\n",
              "    </tr>\n",
              "    <tr>\n",
              "      <th>3</th>\n",
              "      <td>ask_for_stats</td>\n",
              "      <td>how many people have tested positive for coron...</td>\n",
              "    </tr>\n",
              "    <tr>\n",
              "      <th>4</th>\n",
              "      <td>ask_for_stats</td>\n",
              "      <td>if i am away from someone who is infected i wi...</td>\n",
              "    </tr>\n",
              "  </tbody>\n",
              "</table>\n",
              "</div>"
            ],
            "text/plain": [
              "           Topic                                               Text\n",
              "0  ask_for_stats     what are the current covid- statistics for drc\n",
              "1  ask_for_stats                                 statistics for drc\n",
              "2  ask_for_stats  what's the total number of people tested posit...\n",
              "3  ask_for_stats  how many people have tested positive for coron...\n",
              "4  ask_for_stats  if i am away from someone who is infected i wi..."
            ]
          },
          "metadata": {
            "tags": []
          },
          "execution_count": 180
        }
      ]
    },
    {
      "cell_type": "markdown",
      "metadata": {
        "id": "DyJBt-fY0ioC",
        "colab_type": "text"
      },
      "source": [
        "# EDA"
      ]
    },
    {
      "cell_type": "markdown",
      "metadata": {
        "id": "HjQrVENj0sxk",
        "colab_type": "text"
      },
      "source": [
        "# Getting Most Friquent Words"
      ]
    },
    {
      "cell_type": "code",
      "metadata": {
        "id": "rN7e1Sj4Zd6g",
        "colab_type": "code",
        "colab": {
          "base_uri": "https://localhost:8080/",
          "height": 662
        },
        "outputId": "676354cb-3147-42bc-804c-70f85538d2d8"
      },
      "source": [
        "from sklearn.feature_extraction.text import CountVectorizer\n",
        "import numpy as np\n",
        "import matplotlib.pyplot as plt\n",
        "import seaborn as sns\n",
        "%matplotlib inline\n",
        "\n",
        "\n",
        "def plot_10_most_common_words(count_data, count_vectorizer):\n",
        "    import matplotlib.pyplot as plt\n",
        "    words = count_vectorizer.get_feature_names()\n",
        "    total_counts = np.zeros(len(words))\n",
        "    for t in count_data:\n",
        "        total_counts+=t.toarray()[0]\n",
        "    \n",
        "    count_dict = (zip(words, total_counts))\n",
        "    count_dict = sorted(count_dict, key=lambda x:x[1], reverse=True)[0:10]\n",
        "    words = [w[0] for w in count_dict]\n",
        "    counts = [w[1] for w in count_dict]\n",
        "    x_pos = np.arange(len(words)) \n",
        "    \n",
        "    plt.figure(2, figsize=(15, 15/1.6180))\n",
        "    plt.subplot(title='10 most common words')\n",
        "    sns.set_context(\"notebook\", font_scale=1.25, rc={\"lines.linewidth\": 2.5})\n",
        "    sns.barplot(x_pos, counts, palette='husl')\n",
        "    plt.xticks(x_pos, words, rotation=90) \n",
        "    plt.xlabel('words')\n",
        "    plt.ylabel('counts')\n",
        "    plt.show()\n",
        "\n",
        "\n",
        "count_vectorizer = CountVectorizer(stop_words='english')\n",
        "count_data = count_vectorizer.fit_transform(new_data['Text'])\n",
        "plot_10_most_common_words(count_data, count_vectorizer)\n"
      ],
      "execution_count": 181,
      "outputs": [
        {
          "output_type": "display_data",
          "data": {
            "image/png": "[encoded data removed]",
            "text/plain": [
              "<Figure size 1080x667.491 with 1 Axes>"
            ]
          },
          "metadata": {
            "tags": [],
            "needs_background": "light"
          }
        }
      ]
    },
    {
      "cell_type": "markdown",
      "metadata": {
        "id": "0JtF5U6r1MHu",
        "colab_type": "text"
      },
      "source": [
        "# LDA Model "
      ]
    },
    {
      "cell_type": "code",
      "metadata": {
        "id": "l2k-_K0d1w_T",
        "colab_type": "code",
        "colab": {}
      },
      "source": [
        "def print_topics(model, count_vectorizer, n_top_words):\n",
        "    words = count_vectorizer.get_feature_names()\n",
        "    for topic_idx, topic in enumerate(model.components_):\n",
        "        print(\"\\nTopic #%d:\" % topic_idx)\n",
        "        print(\" \".join([words[i]\n",
        "                        for i in topic.argsort()[:-n_top_words - 1:-1]]))"
      ],
      "execution_count": 190,
      "outputs": []
    },
    {
      "cell_type": "code",
      "metadata": {
        "id": "KiDVqd7gZ1IA",
        "colab_type": "code",
        "colab": {
          "base_uri": "https://localhost:8080/",
          "height": 1000
        },
        "outputId": "2d14ea3f-4b8d-4576-e3cd-c8ecc8dc014e"
      },
      "source": [
        "from sklearn.decomposition import LatentDirichletAllocation as LDA      \n",
        "\n",
        "\n",
        "number_topics = 25\n",
        "number_words = 20\n",
        "lda = LDA(n_components=number_topics, n_jobs=-1)\n",
        "lda.fit(count_data)\n",
        "\n",
        "print(\"Topics found via LDA:\")\n",
        "print_topics(lda, count_vectorizer, number_words)"
      ],
      "execution_count": 182,
      "outputs": [
        {
          "output_type": "stream",
          "text": [
            "Topics found via LDA:\n",
            "\n",
            "Topic #0:\n",
            "light use ultraviolet does soap sick sanitizer coronavirus signs surface sterilize better transfer mosquitos disinfect instead kill true kills ultaviolet\n",
            "\n",
            "Topic #1:\n",
            "prevent corona mask wearing does covid hospital infected catching antibiotics far away person infection okay sick won point stop help\n",
            "\n",
            "Topic #2:\n",
            "virus tea corona hot catch drink send disease crown cure said infections ginger regularly free amo containing effective sick vaccines\n",
            "\n",
            "Topic #3:\n",
            "corona help animals gants won coronavirus resources cope helped sausage stress stick avoid kind instead crown getting gloves wear sanitizer\n",
            "\n",
            "Topic #4:\n",
            "wear mask away know drinking wanted important treatment origin bad disinfectant total missiles number kind don properly tell correct day\n",
            "\n",
            "Topic #5:\n",
            "coronavirus antibiotics kill covid treat bad flu like say illness created recover origin cured people virus cure does prevent corona\n",
            "\n",
            "Topic #6:\n",
            "covid people congo succumbed zone good gloves ginger getting gerome gants function free form forever flu floor fight fever feeling\n",
            "\n",
            "Topic #7:\n",
            "does spread coronavirus help mask disease disinfectant virus feeling hurt way granddaughter mother wearing stress protect covid gloves come drinking\n",
            "\n",
            "Topic #8:\n",
            "people drc coronavirus covid tested cured positive disease statistics infected corona stay just current country throat want sore home protecting\n",
            "\n",
            "Topic #9:\n",
            "corona sars coronavirus way mask different best protect home age group countries wears exactly differences pet thing immune function correct\n",
            "\n",
            "Topic #10:\n",
            "corona cases temperature cures dangerous crown add daily toxins prevents help avoid tea right medicine way touch covid virus hands\n",
            "\n",
            "Topic #11:\n",
            "avoid covid coronavirus treatments therapies epidemiological situation fatalities stop away cure prevent disease people getting corona form gerome gants ginger\n",
            "\n",
            "Topic #12:\n",
            "gloves virus protect pandemic coronavirus corona epidemic difference life gonna patient affected explain disinfect possible skin ultaviolet infected protected called\n",
            "\n",
            "Topic #13:\n",
            "covid deaths masks know infected test congo died people don prevent coronavirus mask corona wear function free getting gants gerome\n",
            "\n",
            "Topic #14:\n",
            "symptoms coronavirus infected likely protection like covid getting feel risk corona fever gants function gerome ginger free gloves form forever\n",
            "\n",
            "Topic #15:\n",
            "stress health deal covid sick quarantine zone structures ituri province refer komanda fight flu daughter come point corona wearing mask\n",
            "\n",
            "Topic #16:\n",
            "fever doctor gerome medicine feel covid sale visit stressed grandson husband need son wife like granddaughter mother cough dry daughter\n",
            "\n",
            "Topic #17:\n",
            "covid disinfectant difference people coronavirus drink infected thing young cold temperatures old mental forever signs quarantine drinking kill taking health\n",
            "\n",
            "Topic #18:\n",
            "covid like number know killing antibiotics statistics yesterday patients problem proof contaminated vaccine treat corona hot tea free flu gants\n",
            "\n",
            "Topic #19:\n",
            "risk corona harmed children day possible immune need seriously bites protection mosquito times virus coronavirus covid people getting symptoms protect\n",
            "\n",
            "Topic #20:\n",
            "protect covid getting disease gloves wearing good taking blacks start whites idea family ask makeup die extension kills true antibiotics\n",
            "\n",
            "Topic #21:\n",
            "wash hands cure covid long treatment disinfect time minimum protocol wife corona research touch everyday way right times day soap\n",
            "\n",
            "Topic #22:\n",
            "coronavirus stop true test vaccines like child spreading far form virus everyday know mosquitos fever people corona wash hands fatalities\n",
            "\n",
            "Topic #23:\n",
            "covid medicine corona mosquito cure bite origin prevent possible contain prevention modes headache way animals disease protected virus coronavirus gloves\n",
            "\n",
            "Topic #24:\n",
            "corona likely don covid mosquitos explain die treated hi think takes crazy vaccines infected come form vaccine possible dog away\n"
          ],
          "name": "stdout"
        }
      ]
    },
    {
      "cell_type": "code",
      "metadata": {
        "id": "A4kIDasmaJaT",
        "colab_type": "code",
        "colab": {
          "base_uri": "https://localhost:8080/",
          "height": 54
        },
        "outputId": "8c76f75f-e954-42f2-e66f-650ff5b0b876"
      },
      "source": [
        "%%time\n",
        "import os\n",
        "from pyLDAvis import sklearn as sklearn_lda\n",
        "import pickle \n",
        "import pyLDAvis\n",
        "\n",
        "LDAvis_data_filepath = os.path.join('./ldavis_prepared_'+str(number_topics))\n",
        "\n",
        "if 1 == 1:\n",
        "    LDAvis_prepared = sklearn_lda.prepare(lda, count_data, count_vectorizer)\n",
        "\n",
        "with open(LDAvis_data_filepath, 'wb') as f:\n",
        "        pickle.dump(LDAvis_prepared, f)\n",
        "        \n",
        "with open(LDAvis_data_filepath,'rb') as f:\n",
        "    LDAvis_prepared = pickle.load(f)\n",
        "\n",
        "pyLDAvis.save_html(LDAvis_prepared, './ldavis_prepared_'+ str(number_topics) +'.html')"
      ],
      "execution_count": 183,
      "outputs": [
        {
          "output_type": "stream",
          "text": [
            "CPU times: user 517 ms, sys: 6.86 ms, total: 524 ms\n",
            "Wall time: 2.18 s\n"
          ],
          "name": "stdout"
        }
      ]
    },
    {
      "cell_type": "code",
      "metadata": {
        "id": "8ZI7NGLi1Uvs",
        "colab_type": "code",
        "colab": {
          "base_uri": "https://localhost:8080/",
          "height": 861
        },
        "outputId": "6ab48e1e-9bab-417e-aa4a-b8a187d10dfb"
      },
      "source": [
        "from IPython.display import HTML\n",
        "\n",
        "HTML(filename='./ldavis_prepared_'+ str(number_topics) +'.html')"
      ],
      "execution_count": 184,
      "outputs": [
        {
          "output_type": "execute_result",
          "data": {
            "text/html": [
              "\n",
              "<link rel=\"stylesheet\" type=\"text/css\" href=\"https://cdn.rawgit.com/bmabey/pyLDAvis/files/ldavis.v1.0.0.css\">\n",
              "\n",
              "\n",
              "<div id=\"ldavis_el1001399076554782729973977145\"></div>\n",
              "<script type=\"text/javascript\">\n",
              "\n",
              "var ldavis_el1001399076554782729973977145_data = {\"mdsDat\": {\"x\": [0.08177553355935198, -0.2540501916759923, 0.10882462813424454, -0.08399796014535144, -0.10104817263431687, 0.09360745778012022, 0.006210825143824127, -0.1429467163949254, -0.21112133194163005, 0.010413038536480403, 0.14204353293738564, -0.001761955255747694, -0.05064489114461336, 0.0771881267648167, 0.11887563299476106, -0.1388433685673903, -0.11892027909349069, -0.07821661548995353, 0.06575486630931161, 0.10123243733919476, 0.0391960700470971, 0.10110064044658618, 0.0945317474993462, 0.0715508099296631, 0.06924613492122746], \"y\": [0.010217369643004064, -0.03649380571652877, -0.20730117607971693, -0.032535018257465714, 0.10069106857627598, -0.05453831983708451, 0.06477656981995471, 0.09341128244183666, -0.10492129850198335, 0.1741852972083412, -0.03418670856942104, 0.15226137522004743, -0.17268109071420865, -0.11229838109327425, 0.10356044024062476, -0.08354071975192245, 0.05688481490394631, -0.008351557621961492, -0.04850299730942014, -0.01928632314590501, 0.13760359369296454, -0.03245362670934855, 0.015660578554952728, 0.07051950497737142, -0.03268087197107861], \"topics\": [1, 2, 3, 4, 5, 6, 7, 8, 9, 10, 11, 12, 13, 14, 15, 16, 17, 18, 19, 20, 21, 22, 23, 24, 25], \"cluster\": [1, 1, 1, 1, 1, 1, 1, 1, 1, 1, 1, 1, 1, 1, 1, 1, 1, 1, 1, 1, 1, 1, 1, 1, 1], \"Freq\": [7.722870031791748, 7.669313706689948, 5.809272563017624, 5.609115500228781, 5.070292844906393, 4.859376378752922, 4.8558338170898345, 4.8000982465473605, 4.688365352688969, 4.431964906458257, 4.355912096216803, 4.344576518353655, 3.7658988289635507, 3.480135739121221, 3.3259317991059176, 3.142496095266706, 3.11821360449991, 3.0556241876232524, 2.972413681416807, 2.521284334671287, 2.377393367570573, 2.3302157478690178, 2.2827622358558264, 2.0587375158723735, 1.3519008994212625]}, \"tinfo\": {\"Term\": [\"corona\", \"wear\", \"people\", \"mask\", \"does\", \"coronavirus\", \"covid\", \"fever\", \"wash\", \"hands\", \"gloves\", \"protect\", \"virus\", \"prevent\", \"cure\", \"symptoms\", \"tea\", \"light\", \"hot\", \"avoid\", \"antibiotics\", \"use\", \"ultraviolet\", \"sars\", \"help\", \"getting\", \"medicine\", \"risk\", \"stop\", \"drc\", \"drc\", \"tested\", \"cured\", \"people\", \"positive\", \"stay\", \"current\", \"just\", \"country\", \"throat\", \"want\", \"sore\", \"protecting\", \"really\", \"dog\", \"cough\", \"dry\", \"called\", \"son\", \"statistics\", \"good\", \"home\", \"dangerous\", \"test\", \"possible\", \"infected\", \"disease\", \"sick\", \"coronavirus\", \"covid\", \"corona\", \"hot\", \"tea\", \"catch\", \"send\", \"drink\", \"virus\", \"ginger\", \"said\", \"infections\", \"regularly\", \"amo\", \"containing\", \"free\", \"effective\", \"got\", \"research\", \"crown\", \"killing\", \"vaccines\", \"disease\", \"sick\", \"corona\", \"use\", \"cure\", \"spreading\", \"child\", \"everyday\", \"form\", \"patient\", \"affected\", \"life\", \"gonna\", \"people\", \"missiles\", \"floor\", \"infect\", \"treat\", \"taking\", \"hands\", \"wash\", \"long\", \"cure\", \"minimum\", \"time\", \"protocol\", \"wife\", \"disinfect\", \"treatment\", \"covid\", \"everyday\", \"spreading\", \"child\", \"form\", \"patient\", \"affected\", \"gonna\", \"life\", \"skin\", \"ultaviolet\", \"grandson\", \"husband\", \"stressed\", \"sale\", \"visit\", \"important\", \"wanted\", \"total\", \"missiles\", \"corona\", \"research\", \"touch\", \"way\", \"right\", \"times\", \"day\", \"soap\", \"does\", \"coronavirus\", \"use\", \"ultraviolet\", \"prevent\", \"treatments\", \"light\", \"fever\", \"floor\", \"fight\", \"hospital\", \"prevent\", \"catching\", \"wearing\", \"person\", \"infection\", \"okay\", \"far\", \"away\", \"won\", \"mask\", \"infected\", \"does\", \"sick\", \"antibiotics\", \"corona\", \"covid\", \"spreading\", \"child\", \"everyday\", \"form\", \"affected\", \"patient\", \"gonna\", \"life\", \"skin\", \"ultaviolet\", \"protocol\", \"time\", \"minimum\", \"wife\", \"point\", \"stop\", \"help\", \"extension\", \"disease\", \"getting\", \"cure\", \"coronavirus\", \"treatments\", \"virus\", \"protect\", \"function\", \"fever\", \"pandemic\", \"gloves\", \"epidemic\", \"life\", \"gonna\", \"affected\", \"patient\", \"skin\", \"ultaviolet\", \"difference\", \"explain\", \"protect\", \"disinfect\", \"virus\", \"possible\", \"infected\", \"coronavirus\", \"corona\", \"child\", \"spreading\", \"everyday\", \"form\", \"protocol\", \"time\", \"minimum\", \"wife\", \"grandson\", \"husband\", \"stressed\", \"sale\", \"visit\", \"protected\", \"called\", \"function\", \"good\", \"protecting\", \"really\", \"use\", \"wearing\", \"light\", \"don\", \"send\", \"won\", \"getting\", \"protect\", \"blacks\", \"whites\", \"start\", \"idea\", \"family\", \"makeup\", \"ask\", \"extension\", \"kills\", \"good\", \"taking\", \"die\", \"true\", \"disease\", \"stop\", \"wearing\", \"gloves\", \"covid\", \"antibiotics\", \"spreading\", \"child\", \"everyday\", \"form\", \"patient\", \"affected\", \"life\", \"gonna\", \"skin\", \"ultaviolet\", \"best\", \"children\", \"way\", \"avoid\", \"prevent\", \"wear\", \"ultraviolet\", \"mask\", \"does\", \"wear\", \"mask\", \"wanted\", \"important\", \"total\", \"missiles\", \"away\", \"bad\", \"drinking\", \"number\", \"treatment\", \"origin\", \"know\", \"disinfectant\", \"spreading\", \"child\", \"everyday\", \"form\", \"patient\", \"affected\", \"life\", \"gonna\", \"ultaviolet\", \"skin\", \"protocol\", \"time\", \"minimum\", \"wife\", \"husband\", \"grandson\", \"stressed\", \"sale\", \"kind\", \"don\", \"properly\", \"tell\", \"correct\", \"day\", \"gloves\", \"way\", \"positive\", \"corona\", \"send\", \"tested\", \"catch\", \"won\", \"does\", \"use\", \"sars\", \"different\", \"best\", \"group\", \"age\", \"countries\", \"wears\", \"exactly\", \"differences\", \"pet\", \"function\", \"correct\", \"floor\", \"infect\", \"way\", \"home\", \"thing\", \"immune\", \"congo\", \"coronavirus\", \"corona\", \"mask\", \"protect\", \"child\", \"spreading\", \"everyday\", \"form\", \"patient\", \"affected\", \"gonna\", \"life\", \"drink\", \"gloves\", \"covid\", \"hot\", \"wear\", \"tea\", \"virus\", \"hi\", \"treated\", \"think\", \"takes\", \"crazy\", \"likely\", \"don\", \"mosquitos\", \"corona\", \"explain\", \"die\", \"vaccines\", \"infected\", \"covid\", \"form\", \"child\", \"spreading\", \"everyday\", \"patient\", \"affected\", \"life\", \"gonna\", \"ultaviolet\", \"skin\", \"protocol\", \"minimum\", \"time\", \"wife\", \"husband\", \"grandson\", \"stressed\", \"visit\", \"sale\", \"come\", \"vaccine\", \"possible\", \"dog\", \"away\", \"cure\", \"cured\", \"true\", \"coronavirus\", \"treatment\", \"gloves\", \"hot\", \"tea\", \"wear\", \"deaths\", \"light\", \"ultraviolet\", \"soap\", \"use\", \"sanitizer\", \"surface\", \"sterilize\", \"better\", \"transfer\", \"signs\", \"sick\", \"mosquitos\", \"does\", \"coronavirus\", \"spreading\", \"child\", \"everyday\", \"form\", \"ultaviolet\", \"skin\", \"affected\", \"patient\", \"life\", \"gonna\", \"protocol\", \"minimum\", \"time\", \"wife\", \"grandson\", \"husband\", \"stressed\", \"visit\", \"sale\", \"disinfect\", \"instead\", \"kill\", \"true\", \"kills\", \"possible\", \"virus\", \"covid\", \"disinfectant\", \"hands\", \"wash\", \"mask\", \"feeling\", \"flu\", \"young\", \"temperatures\", \"cold\", \"mental\", \"old\", \"forever\", \"tell\", \"properly\", \"disinfectant\", \"difference\", \"drinking\", \"taking\", \"thing\", \"signs\", \"quarantine\", \"health\", \"kill\", \"drink\", \"covid\", \"sars\", \"infected\", \"people\", \"coronavirus\", \"spreading\", \"child\", \"everyday\", \"form\", \"patient\", \"affected\", \"life\", \"gonna\", \"use\", \"does\", \"hot\", \"tea\", \"mask\", \"wear\", \"floor\", \"spread\", \"does\", \"hurt\", \"feeling\", \"mother\", \"granddaughter\", \"help\", \"disinfectant\", \"stress\", \"disease\", \"way\", \"wearing\", \"mask\", \"coronavirus\", \"protect\", \"virus\", \"spreading\", \"child\", \"everyday\", \"form\", \"patient\", \"affected\", \"life\", \"gonna\", \"ultaviolet\", \"skin\", \"protocol\", \"minimum\", \"time\", \"wife\", \"covid\", \"gloves\", \"come\", \"drinking\", \"missiles\", \"pandemic\", \"corona\", \"cure\", \"fever\", \"send\", \"catch\", \"prevent\", \"floor\", \"fight\", \"bite\", \"mosquito\", \"contain\", \"modes\", \"prevention\", \"headache\", \"protected\", \"origin\", \"medicine\", \"animals\", \"possible\", \"prevent\", \"cure\", \"way\", \"disease\", \"covid\", \"corona\", \"spreading\", \"child\", \"everyday\", \"form\", \"affected\", \"patient\", \"gonna\", \"life\", \"skin\", \"ultaviolet\", \"protocol\", \"time\", \"minimum\", \"wife\", \"virus\", \"coronavirus\", \"gloves\", \"gants\", \"gerome\", \"function\", \"getting\", \"ginger\", \"zone\", \"free\", \"flu\", \"floor\", \"fever\", \"doctor\", \"gerome\", \"feel\", \"sale\", \"visit\", \"stressed\", \"husband\", \"grandson\", \"need\", \"medicine\", \"covid\", \"child\", \"spreading\", \"everyday\", \"form\", \"affected\", \"patient\", \"gonna\", \"life\", \"skin\", \"ultaviolet\", \"wife\", \"protocol\", \"minimum\", \"time\", \"important\", \"wanted\", \"total\", \"missiles\", \"son\", \"like\", \"granddaughter\", \"mother\", \"cough\", \"dry\", \"daughter\", \"know\", \"coronavirus\", \"corona\", \"fatalities\", \"infected\", \"forever\", \"flu\", \"floor\", \"fight\", \"kill\", \"antibiotics\", \"say\", \"illness\", \"created\", \"recover\", \"bad\", \"flu\", \"treat\", \"coronavirus\", \"like\", \"covid\", \"spreading\", \"child\", \"everyday\", \"form\", \"patient\", \"affected\", \"life\", \"gonna\", \"skin\", \"ultaviolet\", \"protocol\", \"minimum\", \"time\", \"wife\", \"grandson\", \"husband\", \"stressed\", \"sale\", \"visit\", \"origin\", \"cured\", \"people\", \"virus\", \"cure\", \"does\", \"prevent\", \"corona\", \"ultraviolet\", \"light\", \"feel\", \"exactly\", \"explain\", \"extension\", \"gloves\", \"ginger\", \"getting\", \"cases\", \"temperature\", \"cures\", \"add\", \"daily\", \"toxins\", \"prevents\", \"right\", \"touch\", \"dangerous\", \"crown\", \"avoid\", \"way\", \"medicine\", \"help\", \"tea\", \"corona\", \"spreading\", \"child\", \"everyday\", \"form\", \"patient\", \"affected\", \"gonna\", \"life\", \"ultaviolet\", \"skin\", \"protocol\", \"minimum\", \"time\", \"covid\", \"wife\", \"virus\", \"hands\", \"wash\", \"hospital\", \"fever\", \"infected\", \"free\", \"infection\", \"infections\", \"instead\", \"forever\", \"gants\", \"helped\", \"resources\", \"sausage\", \"cope\", \"stick\", \"kind\", \"instead\", \"animals\", \"won\", \"help\", \"stress\", \"avoid\", \"corona\", \"coronavirus\", \"child\", \"spreading\", \"everyday\", \"form\", \"patient\", \"affected\", \"life\", \"gonna\", \"skin\", \"ultaviolet\", \"protocol\", \"minimum\", \"time\", \"wife\", \"grandson\", \"visit\", \"crown\", \"getting\", \"gloves\", \"wear\", \"sanitizer\", \"hot\", \"tea\", \"soap\", \"use\", \"mask\", \"free\", \"epidemic\", \"forever\", \"effective\", \"risk\", \"harmed\", \"children\", \"day\", \"seriously\", \"bites\", \"times\", \"protection\", \"need\", \"immune\", \"possible\", \"mosquito\", \"virus\", \"corona\", \"coronavirus\", \"child\", \"spreading\", \"everyday\", \"form\", \"patient\", \"affected\", \"gonna\", \"life\", \"ultaviolet\", \"skin\", \"protocol\", \"minimum\", \"time\", \"wife\", \"grandson\", \"covid\", \"people\", \"getting\", \"symptoms\", \"protect\", \"hands\", \"wash\", \"mask\", \"wear\", \"explain\", \"epidemic\", \"epidemiological\", \"function\", \"exactly\", \"deal\", \"zone\", \"structures\", \"ituri\", \"province\", \"refer\", \"komanda\", \"fight\", \"daughter\", \"come\", \"point\", \"health\", \"stress\", \"flu\", \"quarantine\", \"sick\", \"covid\", \"spreading\", \"child\", \"everyday\", \"form\", \"affected\", \"patient\", \"gonna\", \"life\", \"ultaviolet\", \"skin\", \"protocol\", \"minimum\", \"time\", \"corona\", \"wife\", \"wearing\", \"mask\", \"does\", \"fever\", \"function\", \"free\", \"feeling\", \"forever\", \"floor\", \"gants\", \"want\", \"deaths\", \"masks\", \"died\", \"know\", \"test\", \"don\", \"congo\", \"infected\", \"prevent\", \"covid\", \"people\", \"coronavirus\", \"child\", \"spreading\", \"everyday\", \"form\", \"patient\", \"affected\", \"life\", \"gonna\", \"skin\", \"ultaviolet\", \"protocol\", \"time\", \"minimum\", \"wife\", \"grandson\", \"husband\", \"stressed\", \"sale\", \"visit\", \"mask\", \"corona\", \"wear\", \"function\", \"free\", \"getting\", \"gants\", \"gerome\", \"ginger\", \"gloves\", \"zone\", \"forever\", \"flu\", \"fight\", \"fever\", \"feeling\", \"child\", \"spreading\", \"form\", \"everyday\", \"true\", \"stop\", \"far\", \"test\", \"vaccines\", \"like\", \"know\", \"coronavirus\", \"virus\", \"affected\", \"patient\", \"gonna\", \"life\", \"ultaviolet\", \"skin\", \"protocol\", \"minimum\", \"time\", \"wife\", \"husband\", \"grandson\", \"stressed\", \"sale\", \"visit\", \"important\", \"wanted\", \"total\", \"mosquitos\", \"fever\", \"people\", \"corona\", \"wash\", \"hands\", \"fatalities\", \"explain\", \"ginger\", \"getting\", \"exactly\", \"gerome\", \"gants\", \"function\", \"free\", \"effective\", \"feel\", \"yesterday\", \"problem\", \"patients\", \"proof\", \"contaminated\", \"vaccine\", \"number\", \"treat\", \"killing\", \"statistics\", \"like\", \"know\", \"antibiotics\", \"covid\", \"spreading\", \"child\", \"everyday\", \"form\", \"affected\", \"patient\", \"life\", \"gonna\", \"ultaviolet\", \"skin\", \"protocol\", \"time\", \"minimum\", \"wife\", \"grandson\", \"husband\", \"stressed\", \"visit\", \"corona\", \"hot\", \"tea\", \"free\", \"flu\", \"gants\", \"gerome\", \"forever\", \"getting\", \"function\", \"zone\", \"floor\", \"fight\", \"ginger\", \"feeling\", \"treatments\", \"avoid\", \"therapies\", \"epidemiological\", \"situation\", \"fatalities\", \"stop\", \"covid\", \"coronavirus\", \"spreading\", \"child\", \"everyday\", \"form\", \"patient\", \"affected\", \"gonna\", \"life\", \"skin\", \"ultaviolet\", \"protocol\", \"minimum\", \"time\", \"wife\", \"husband\", \"grandson\", \"stressed\", \"sale\", \"visit\", \"important\", \"wanted\", \"away\", \"cure\", \"prevent\", \"disease\", \"people\", \"getting\", \"corona\", \"gerome\", \"gants\", \"ginger\", \"function\", \"free\", \"gloves\", \"floor\", \"forever\", \"flu\", \"fight\", \"fever\", \"feeling\", \"feel\", \"symptoms\", \"protection\", \"likely\", \"like\", \"infected\", \"coronavirus\", \"child\", \"spreading\", \"everyday\", \"form\", \"affected\", \"patient\", \"gonna\", \"life\", \"ultaviolet\", \"skin\", \"protocol\", \"time\", \"minimum\", \"wife\", \"grandson\", \"husband\", \"stressed\", \"sale\", \"visit\", \"important\", \"wanted\", \"total\", \"missiles\", \"recover\", \"covid\", \"getting\", \"feel\", \"risk\", \"corona\", \"fever\", \"gants\", \"function\", \"gerome\", \"ginger\", \"free\", \"gloves\", \"forever\", \"zone\", \"flu\", \"floor\", \"fight\", \"feeling\", \"fatalities\", \"far\", \"family\", \"extension\", \"explain\", \"succumbed\", \"congo\", \"people\", \"child\", \"spreading\", \"everyday\", \"form\", \"patient\", \"affected\", \"gonna\", \"life\", \"ultaviolet\", \"skin\", \"protocol\", \"minimum\", \"time\", \"wife\", \"husband\", \"grandson\", \"stressed\", \"sale\", \"visit\", \"important\", \"wanted\", \"total\", \"missiles\", \"recover\", \"created\", \"illness\", \"say\", \"covid\", \"zone\", \"good\", \"gloves\", \"ginger\", \"getting\", \"gerome\", \"gants\", \"function\", \"free\", \"forever\", \"flu\", \"floor\", \"fight\", \"fever\", \"feeling\", \"feel\", \"fatalities\", \"far\", \"family\", \"extension\", \"explain\", \"exactly\", \"epidemiological\", \"epidemic\"], \"Freq\": [53.0, 13.0, 19.0, 20.0, 17.0, 33.0, 47.0, 9.0, 12.0, 12.0, 12.0, 13.0, 15.0, 10.0, 10.0, 5.0, 9.0, 6.0, 8.0, 5.0, 6.0, 6.0, 5.0, 6.0, 6.0, 5.0, 6.0, 3.0, 4.0, 6.0, 5.3690938235280425, 3.0811277055473374, 3.081127705540667, 16.046268253548398, 2.318472332886295, 0.7931615875669434, 0.7931615875669434, 0.7931615875669434, 0.7931615875669351, 0.7931615875669349, 0.7931615875669349, 0.7931615875669349, 0.7931615875626552, 0.7931615875626552, 0.7931615875623278, 0.793161587557872, 0.793161587557872, 0.7931615875526996, 0.7931615875432052, 1.5558169602271283, 0.793161587561027, 0.7931615875654539, 0.7931615875620681, 0.793161587544753, 0.793161587542723, 1.5558169601984349, 1.8454640448009099, 0.7931615875537077, 4.350129802710093, 3.8437830780867337, 1.1486935362422488, 7.515512936132756, 8.346874986595223, 3.358702683845424, 2.52734063338754, 3.1589498354568257, 8.994270868025366, 0.8646165324760389, 0.8646165324760389, 0.8646165324760389, 0.8646165324760389, 0.864616532476038, 0.864616532476038, 0.864616532476038, 0.8646165324760366, 0.8646165324687298, 0.8646165324417476, 1.6959785827443097, 0.8646165324703342, 0.8646165324707699, 2.211599601730214, 0.8646165324716932, 7.974090626381656, 0.8646165324591323, 0.8824747314888152, 0.03325448201831029, 0.03325448201831029, 0.03325448201831029, 0.03325448201831029, 0.03325448201831029, 0.03325448201831029, 0.03325448201831029, 0.03325448201831029, 0.03325534017270015, 0.03325448203702556, 0.03325448203538336, 0.03325448203538336, 0.03325448203353189, 0.03325448202743478, 11.277280012690714, 11.277280012690714, 2.2794502153317, 7.512077659446882, 0.7798119157713536, 0.7798119157713536, 0.7798119157713516, 0.7798119157536949, 1.5296310655162313, 1.529631065550255, 4.5289076645772735, 0.029992766002428346, 0.029992765991206805, 0.029992765991206805, 0.029992765991206805, 0.029992765991206805, 0.029992765991206805, 0.029992765991206805, 0.029992765991206805, 0.029992765991206805, 0.029992765991206805, 0.029992765991206805, 0.029992765991206805, 0.029992765991206805, 0.029992765991206805, 0.029992765991206805, 0.029992765991206805, 0.029992765991206805, 0.029992765991206805, 0.029992765991206805, 0.03221685195557336, 0.029992766022035725, 0.029992766005085016, 0.02999276599651251, 0.02999276599651251, 0.0299927659964075, 0.02999276599319506, 0.02999276599294224, 0.029992765992628616, 0.029992765992156438, 0.029992765992006423, 0.02999276599188382, 0.029992765991853472, 0.029992765991787067, 0.029992765991780516, 0.029992765991526196, 0.029992765991206805, 0.029992765991206805, 2.472026118555412, 7.351025036763455, 1.658859632188497, 3.9938988407116662, 0.8456931458215733, 0.8456931458215722, 0.8456931458215704, 0.8456931458236238, 0.8456931458220837, 0.8456931458165865, 4.765847703033575, 1.658859632208735, 3.5517804830334008, 0.8456931458211017, 1.048596370395211, 5.103271140240029, 3.401518114478381, 0.032526659454676726, 0.032526659454676726, 0.032526659454676726, 0.032526659454676726, 0.032526659454676726, 0.032526659454676726, 0.032526659454676726, 0.032526659454676726, 0.032526659454676726, 0.032526659454676726, 0.032526659454676726, 0.032526659454676726, 0.032526659454676726, 0.032526659454676726, 0.03252665947091515, 0.03252665946714181, 0.03252665945873306, 0.03252665945864246, 0.0325266594561196, 0.032526659456021616, 0.03252665945547739, 0.032526659455386533, 0.032526659455386533, 0.03252665945498765, 0.03252665945492735, 0.032526659454676726, 0.032526659454676726, 3.7424489882411422, 10.320268966860256, 1.514800780956925, 0.7722513785270465, 0.7722513785270465, 0.7722513785270425, 0.7722513785270426, 0.7722513785214192, 0.7722513785214192, 1.5148007809550896, 0.7722513785257075, 3.7424489882478778, 0.7722513785236141, 3.893016982281376, 0.7722513785227724, 0.7722513784941458, 2.58024867427578, 1.9243267781891245, 0.029701976097194945, 0.029701976097194945, 0.029701976097194945, 0.029701976097194945, 0.029701976097194945, 0.029701976097194945, 0.029701976097194945, 0.029701976097194945, 0.029701976097194945, 0.029701976097194945, 0.029701976097194945, 0.029701976097194945, 0.029701976097194945, 0.029701976111610795, 0.02970197611101931, 0.029701976101900313, 0.02970197610135983, 0.02970197610135983, 0.02970197610135983, 0.02970197609923674, 0.02970197609915259, 0.029701976098925196, 0.02970197609856617, 0.02970197609852519, 0.02970197609844986, 4.629377352485158, 7.638775080011441, 0.7971113322192743, 0.7971113322192743, 0.7971113322192743, 0.7971113322192742, 0.7971113322192742, 0.7971113322192706, 0.7971113322192706, 0.797111332215523, 0.7971113322118021, 0.7971113322209109, 0.797111332219651, 0.7971113322188189, 0.7971113322000485, 2.3300177403567632, 0.7971113321806387, 0.8955707437948556, 1.6720706000834045, 5.885199684014679, 0.7971113321893628, 0.030658128162280595, 0.030658128162280595, 0.030658128162280595, 0.030658128162280595, 0.030658128162280595, 0.030658128162280595, 0.030658128162280595, 0.030658128162280595, 0.030658128162280595, 0.030658128162280595, 0.03065812816588939, 0.03065812816477633, 0.030658128164491, 0.030658128164477362, 0.03065812816440384, 0.030658128163937287, 0.03065812816391929, 0.0306581281638021, 0.030658128163767156, 12.955963729382676, 11.294704659613434, 0.7907395703383566, 0.7907395703383548, 0.7907395703234451, 0.7907395703157762, 1.5510660802631298, 0.7907395703359461, 0.7907395703394868, 0.790739570314912, 0.7907395703375707, 0.7907395703365473, 1.1104725961894564, 0.7907395703294597, 0.03041306039762985, 0.03041306039762985, 0.03041306039762985, 0.03041306039762985, 0.03041306039762985, 0.03041306039762985, 0.03041306039762985, 0.03041306039762985, 0.03041306039762985, 0.03041306039762985, 0.03041306039762985, 0.03041306039762985, 0.03041306039762985, 0.03041306039762985, 0.03041306039762985, 0.03041306039762985, 0.03041306039762985, 0.03041306039762985, 0.030413060414307337, 0.030413060408036322, 0.03041306040700631, 0.03041306040700631, 0.030413060406349984, 0.030413060404058972, 0.030413060399797055, 0.030413060399671787, 0.030413060399386047, 0.03041306039915691, 0.03041306039915527, 0.03041306039889375, 0.030413060398727664, 0.03041306039868903, 0.03041306039864058, 0.03041306039861833, 4.695862455186902, 1.586019769626105, 1.586019769622437, 0.8085590982407483, 0.8085590982407483, 0.8085590982407468, 0.8085590982407466, 0.8085590982407466, 0.8085590982407466, 0.8085590982407431, 0.8085590982358037, 0.8085590982318105, 0.8085590982247415, 0.8085590982247415, 2.363480441027903, 0.8085590982422654, 0.8085590982403196, 0.8085590982394543, 0.8085590982272246, 3.9184017838330294, 5.631906055469651, 1.6829391078316134, 0.8657843959364978, 0.03109842685541414, 0.03109842685541414, 0.03109842685541414, 0.03109842685541414, 0.03109842685541414, 0.03109842685541414, 0.03109842685541414, 0.03109842685541414, 0.031098426856734404, 0.031098426856474674, 0.031098426856428368, 0.031098426855925607, 0.031098426855887203, 0.031098426855872045, 0.031098426855837927, 0.8005796954489923, 0.8005796954489923, 0.8005796954489889, 0.8005796954442154, 0.8005796954429578, 1.5703678641477294, 1.5703678641469068, 1.5703630914316287, 19.799483318628745, 0.8005796954503729, 0.8005796954494494, 0.800579695442927, 0.8005796954360095, 1.5703678639874923, 0.030791526753963724, 0.030791526748038908, 0.030791526748038908, 0.030791526748038908, 0.030791526748038908, 0.030791526748038908, 0.030791526748038908, 0.030791526748038908, 0.030791526748038908, 0.030791526748038908, 0.030791526748038908, 0.030791526748038908, 0.030791526748038908, 0.030791526748038908, 0.030791526748038908, 0.030791526748038908, 0.030791526748038908, 0.030791526748038908, 0.030791526748038908, 0.030791526754040652, 0.030791526753305945, 0.030791526752679082, 0.030791526752679082, 0.030791526752097537, 0.030791526751090866, 0.03079152675066689, 0.03079152675030399, 0.030791526750222672, 0.030791526750134558, 0.030791526749816545, 0.030791526749719415, 0.030791526749543427, 0.03079152674948494, 0.03079152674940314, 5.623745076950679, 4.824917651248249, 2.428435374136944, 4.824917651261778, 1.6296079484343984, 0.8307805227319812, 0.8307805227319812, 0.8307805227319791, 0.8307805227319791, 0.8307805227337811, 1.6296079484384651, 0.8307805227291453, 3.227262799823163, 1.6296079483612267, 0.03195309702815378, 0.03195309702815378, 0.03195309702815378, 0.03195309702815378, 0.03195309703419929, 0.03195309703419929, 0.03195309702815378, 0.03195309702815378, 0.03195309702815378, 0.03195309702815378, 0.03195309702815378, 0.03195309702815378, 0.03195309702815378, 0.03195309702815378, 0.03195309702815378, 0.03195309702815378, 0.03195309702815378, 0.03195309702815378, 0.03195309702815378, 0.03195309706937881, 0.03195309706112478, 0.03195309703688011, 0.03195309703592891, 0.03195309703592891, 0.03195309703419929, 0.03195309703273723, 0.031953097031547306, 0.03195309703095614, 0.031953097028795334, 0.031953097028795334, 0.03195309702868678, 0.03195309702815378, 0.03195309702815378, 0.7980747007305717, 0.7980747007305717, 0.7980747007305717, 0.7980747007305704, 0.7980747007305705, 0.7980747007305671, 0.798074700721086, 0.798074700721086, 2.2304645451528513, 1.5654542206657307, 0.7980747007239052, 0.7980747007217476, 0.7980747007309918, 0.798074700728836, 0.7980747007285104, 0.7980747007211962, 0.7980747007234086, 0.9824543519534497, 9.23924942039412, 0.7980747007114397, 0.798074700732114, 1.5654542206429178, 1.5654542205873656, 0.030695180797330364, 0.030695180797330364, 0.030695180797330364, 0.030695180797330364, 0.030695180797330364, 0.030695180797330364, 0.030695180797330364, 0.030695180797330364, 0.03069518079845388, 0.030695180798341125, 0.03069518079827497, 0.03069518079817605, 0.03069518079783066, 0.030695180797764607, 0.030695180797330364, 3.1594387777845907, 9.941409325040034, 0.8133208734890869, 0.813320873489087, 0.8133208734759524, 0.8133208734759524, 2.3773994763400306, 0.9176456984534339, 0.8133208734735554, 1.5953601749317432, 0.813320873480578, 0.8133208734748513, 1.7825928963213689, 2.377399476346399, 0.8133208734601151, 0.8277973363350833, 0.031281572057273305, 0.031281572057273305, 0.031281572057273305, 0.031281572057273305, 0.031281572057273305, 0.031281572057273305, 0.031281572057273305, 0.031281572057273305, 0.031281572057273305, 0.031281572057273305, 0.031281572057273305, 0.031281572057273305, 0.031281572057273305, 0.031281572057273305, 0.8133208732797175, 0.03128432959689334, 0.031281572064159026, 0.03128157206288628, 0.03128157206283486, 0.031281572061883985, 0.031281572058842806, 0.03128157205822963, 0.03128157205820738, 0.03128157205807673, 0.03128157205785152, 0.03128157205776927, 0.031281572057273305, 0.031281572057273305, 1.5650704240727704, 2.3322618084262756, 0.7978790397233642, 0.79787903972336, 0.79787903972336, 0.797879039723349, 0.7978790397084342, 1.565070424070012, 3.099453192782056, 0.7978790397175459, 0.7978790397288719, 1.5650704240684414, 1.5650704240802464, 0.7978790397185861, 0.7978790397158753, 3.866644577261653, 2.701993525694854, 0.030687655373976126, 0.030687655373976126, 0.030687655373976126, 0.030687655373976126, 0.030687655373976126, 0.030687655373976126, 0.030687655373976126, 0.030687655373976126, 0.030687655373976126, 0.030687655373976126, 0.030687655373976126, 0.030687655373976126, 0.030687655373976126, 0.030687655373976126, 0.03068765537493421, 0.030687655374578005, 0.030687655374317717, 0.030687655373976126, 0.030687655373976126, 0.030687655373976126, 0.030687655373976126, 0.030687655373976126, 0.030687655373976126, 0.030687655373976126, 0.030687655373976126, 0.030687655373976126, 9.067306920744103, 3.042518269088758, 1.5363211061735267, 1.5363211061709476, 0.7832225247159071, 0.7832225247159071, 0.7832225247159058, 0.7832225247159034, 0.7832225247159034, 0.7832225247158872, 1.5363211061716147, 1.5363211061574154, 0.030123943258304656, 0.030123943258304656, 0.030123943258304656, 0.030123943258304656, 0.030123943258304656, 0.030123943258304656, 0.030123943258304656, 0.030123943258304656, 0.030123943258304656, 0.030123943258304656, 0.030123943275985846, 0.030123943258304656, 0.030123943258304656, 0.030123943258304656, 0.030123943258304656, 0.030123943258304656, 0.030123943258304656, 0.030123943258304656, 0.030123943281673105, 0.030123943274547833, 0.030123943270915707, 0.030123943270915707, 0.03012394326723852, 0.03012394326723852, 0.030123943266921555, 0.030123943261089418, 0.030123943258956752, 0.030123943258651288, 0.030123943258304656, 0.030123943258304656, 0.030123943258304656, 0.030123943258304656, 0.030123943258304656, 0.030123943258304656, 2.311420134424635, 3.6423705459951137, 0.7907489933566053, 0.7907489933566044, 0.790748993356602, 0.7907489933544952, 0.7907489933590142, 0.7907489933580758, 0.790748993359733, 7.558665323933724, 0.7907489933578206, 1.7171891120263414, 0.030413422821408416, 0.030413422821408416, 0.030413422821408416, 0.030413422821408416, 0.030413422821408416, 0.030413422821408416, 0.030413422821408416, 0.030413422821408416, 0.030413422821408416, 0.030413422821408416, 0.030413422821408416, 0.030413422821408416, 0.030413422821408416, 0.030413422821408416, 0.030413422821408416, 0.030413422821408416, 0.030413422821408416, 0.030413422821408416, 0.030413422821408416, 0.030413422825936506, 0.030413422825230553, 0.03041342282295974, 0.030413422822707162, 0.03041342282259403, 0.030413422821938183, 0.0304134228218345, 0.03041342282179281, 0.030413422821747582, 0.03041342282169583, 0.030413422821408416, 0.030413422821408416, 0.030413422821408416, 0.030413422821408416, 0.030413422821408416, 0.030413422821408416, 0.030413422821408416, 1.6076474810202366, 1.607647481020233, 1.6076474810185482, 0.8195849903240369, 0.8195849903240369, 0.8195849903240369, 0.8195849903240359, 0.8195849903184436, 0.8195849903094041, 0.8195849903290675, 0.8195849903264943, 0.8195849903206809, 0.8195849903108586, 0.8195849903152723, 0.8195849903216752, 0.8195849903201062, 3.60395658005654, 0.03152249962784802, 0.03152249962784802, 0.03152249962784802, 0.03152249962784802, 0.03152249962784802, 0.03152249962784802, 0.03152249962784802, 0.03152249962784802, 0.03152249962784802, 0.03152249962784802, 0.03152249962784802, 0.03152249962784802, 0.03152249962784802, 0.819584990086764, 0.03152249962784802, 0.03152249962942633, 0.031522499629070076, 0.031522499629070076, 0.03152249962784802, 0.03152249962784802, 0.03152249962784802, 0.03152249962784802, 0.03152249962784802, 0.03152249962784802, 0.03152249962784802, 0.03152249962784802, 1.6366833966076946, 0.8343876139568562, 0.8343876139568565, 0.8343876139568562, 0.8343876139568565, 0.8343876139492393, 0.8343876139392129, 0.8343876139236805, 1.6366833966137748, 1.6366833966072212, 2.438979179268029, 0.8343876139552305, 0.8343876139456, 2.9696772524591104, 1.6366833965437726, 0.03209183130603341, 0.03209183130603341, 0.03209183130603341, 0.03209183130603341, 0.03209183130603341, 0.03209183130603341, 0.03209183130603341, 0.03209183130603341, 0.03209183130603341, 0.03209183130603341, 0.03209183130603341, 0.03209183130603341, 0.03209183130603341, 0.03209183130603341, 0.03209183130603341, 0.03209183130603341, 0.03209183148639061, 0.03209183130986584, 0.0320918313093704, 0.03209183130782517, 0.03209183130746672, 0.03209183130717843, 0.03209183130705853, 0.032091831306911324, 0.03209183130643791, 0.032091831306327485, 0.03209183130603341, 0.03209183130603341, 0.03209183130603341, 0.03209183130603341, 3.197003965398009, 1.6143287350040956, 1.6143287350019462, 1.6143287349957216, 0.8229911198062259, 0.8229911198062256, 0.8229911198007215, 0.82299111980552, 0.8229911198062457, 0.8229911198075417, 0.8229911198194436, 0.8229911198019954, 0.8229911197859596, 1.9651846866204514, 0.8229911197493661, 0.03165350460793223, 0.03165350460793223, 0.03165350460793223, 0.03165350460793223, 0.03165350460793223, 0.03165350460793223, 0.03165350460793223, 0.03165350460793223, 0.03165350460793223, 0.03165350460793223, 0.03165350460793223, 0.03165350460793223, 0.03165350460793223, 0.03165350460793223, 0.03165350460793223, 0.8229911197343928, 0.03165350461186714, 0.031653504611470554, 0.031653504609458274, 0.03165350460906472, 0.0316535046088379, 0.0316535046088379, 0.03165350460821989, 0.031653504608181914, 0.03165350460793223, 0.03165350460793223, 0.03165350460793223, 0.03165350460793223, 0.03165350460793223, 1.6318775625452298, 0.8319375809057983, 0.8319375809057983, 0.8319375809057983, 0.8319375809057983, 0.8319375809057983, 0.8319375809057983, 0.8319375809057936, 0.831937580896616, 0.8319375808924765, 0.8319375808897783, 1.6318775625557735, 2.4318175442032355, 0.8319375809042466, 0.8319375809079433, 0.8319375809216789, 1.6318775624769881, 0.031997599265608044, 0.031997599265608044, 0.031997599265608044, 0.031997599265608044, 0.031997599265608044, 0.031997599265608044, 0.031997599265608044, 0.031997599265608044, 0.031997599265608044, 0.031997599265608044, 0.031997599265608044, 0.031997599265608044, 0.031997599265608044, 0.1818410552648033, 0.031997599265608044, 0.0319975992666541, 0.03199759926646894, 0.03199759926646694, 0.03199759926630721, 0.031997599265608044, 0.031997599265608044, 0.031997599265608044, 0.031997599265608044, 0.031997599265608044, 0.031997599265608044, 0.031997599265608044, 2.4088730168983994, 1.6164805771301296, 0.8240881373604543, 1.2832631644608818, 0.824088137362597, 0.8240881373488939, 0.8240881373617306, 0.8240881373828439, 0.8240881373484018, 2.408873017072896, 0.8240881373491904, 0.8240881373002971, 0.03169569759078709, 0.03169569759078709, 0.03169569759078709, 0.03169569759078709, 0.03169569759078709, 0.03169569759078709, 0.03169569759078709, 0.03169569759078709, 0.03169569759078709, 0.03169569759078709, 0.03169569759078709, 0.03169569759078709, 0.03169569759078709, 0.03169569759078709, 0.03169569759078709, 0.03169569759078709, 0.03169569759078709, 0.03169569759078709, 0.03169569759078709, 0.031695697591326684, 0.03169569759131966, 0.03169569759125544, 0.03169569759078709, 0.03169569759078709, 0.03169569759078709, 0.03169569759078709, 0.03169569759078709, 0.03169569759078709, 0.03169569759078709, 0.03169569759078709, 0.03169569759078709, 0.03169569759078709, 0.03169569759078709, 0.03169569759078709, 0.03169569759078709, 0.7653363058599045, 0.7653363058599045, 0.7653363058542293, 0.7653363058488578, 1.5012365999650945, 2.2371368940807668, 0.7653363058548422, 0.7653363058793091, 0.7653363058703625, 0.7653363058646776, 0.7653363058476478, 2.2371368941396024, 0.7653363058506881, 0.02943601176384288, 0.02943601176384288, 0.02943601176384288, 0.02943601176384288, 0.02943601176384288, 0.02943601176384288, 0.02943601176384288, 0.02943601176384288, 0.02943601176384288, 0.02943601176384288, 0.02943601176384288, 0.02943601176384288, 0.02943601176384288, 0.02943601176384288, 0.02943601176384288, 0.02943601176384288, 0.02943601176384288, 0.02943601176384288, 0.029440574378566755, 0.02943601176583312, 0.02943601176480016, 0.029436011764329226, 0.029436011764233213, 0.029436011764233213, 0.02943601176384288, 0.02943601176384288, 0.02943601176384288, 0.02943601176384288, 0.02943601176384288, 0.02943601176384288, 0.02943601176384288, 0.02943601176384288, 0.02943601176384288, 0.02943601176384288, 0.02943601176384288, 0.840600979910482, 0.840600979910482, 0.840600979910482, 0.8406009799104811, 0.8406009799104787, 0.8406009799049295, 0.8406009799195531, 0.8406009798923109, 0.840600979916025, 0.8406009799108666, 0.8406009799239633, 0.8406009799171977, 0.840600979915071, 1.6488711529802311, 0.03233080691963425, 0.03233080691963425, 0.03233080691963425, 0.03233080691963425, 0.03233080691963425, 0.03233080691963425, 0.03233080691963425, 0.03233080691963425, 0.03233080691963425, 0.03233080691963425, 0.03233080691963425, 0.03233080691963425, 0.03233080691963425, 0.03233080691963425, 0.03233080691963425, 0.03233080691963425, 0.03233080691963425, 0.03233080691963425, 0.032330806920808045, 0.03233080692023066, 0.0323308069201682, 0.03233080691963425, 0.03233080691963425, 0.03233080691963425, 0.03233080691963425, 0.03233080691963425, 0.03233080691963425, 0.03233080691963425, 0.03233080691963425, 0.03233080691963425, 0.03233080691963425, 0.03233080691963425, 0.03233080691963425, 1.5528781187891583, 3.075307647025834, 0.7916633546774613, 0.7916633546774595, 0.7916633546774595, 0.7916633546774527, 0.7916633546744389, 2.3140928830656, 1.5528781187933667, 0.030448590564518117, 0.030448590564518117, 0.030448590564518117, 0.030448590564518117, 0.030448590564518117, 0.030448590564518117, 0.030448590564518117, 0.030448590564518117, 0.030448590564518117, 0.030448590564518117, 0.030448590564518117, 0.030448590564518117, 0.030448590564518117, 0.030448590564518117, 0.030448590564518117, 0.030448590564518117, 0.030448590564518117, 0.030448590564518117, 0.030448590564518117, 0.030448590564518117, 0.030448590564518117, 0.030448590573213665, 0.03044859056907702, 0.030448590569022254, 0.030448590566539573, 0.03044859056548984, 0.030448590565449518, 0.030448590565084227, 0.030448590564518117, 0.030448590564518117, 0.030448590564518117, 0.030448590564518117, 0.030448590564518117, 0.030448590564518117, 0.030448590564518117, 0.030448590564518117, 0.030448590564518117, 0.030448590564518117, 0.030448590564518117, 0.030448590564518117, 0.030448590564518117, 4.493806732085839, 0.7737680465853245, 0.7737680465868274, 0.7737680465501631, 0.7737680466128705, 2.261783520915367, 0.02976030948402585, 0.02976030948402585, 0.02976030948402585, 0.02976030948402585, 0.02976030948402585, 0.02976030948402585, 0.02976030948402585, 0.02976030948402585, 0.02976030948402585, 0.02976030948402585, 0.02976030948402585, 0.02976030948402585, 0.02976030948402585, 0.02976030948402585, 0.02976030948402585, 0.02976030948402585, 0.02976030948402585, 0.02976030948402585, 0.02976030948402585, 0.02976030948402585, 0.02976030948402585, 0.02976030948402585, 0.02976030948402585, 0.02976030948402585, 0.7737680464681228, 0.029760309486610723, 0.029760309486569415, 0.02976030948537886, 0.029760309485076318, 0.02976030948437082, 0.02976030948402585, 0.02976030948402585, 0.02976030948402585, 0.02976030948402585, 0.02976030948402585, 0.02976030948402585, 0.02976030948402585, 0.02976030948402585, 0.02976030948402585, 0.02976030948402585, 0.02976030948402585, 0.02976030948402585, 0.02976030948402585, 0.02976030948402585, 0.02976030948402585, 0.02976030948402585, 0.02976030948402585, 0.8741773020430988, 0.8741773020563642, 0.8741773020637472, 0.03362220392473478, 0.03362220392473478, 0.03362220392473478, 0.03362220392473478, 0.03362220392473478, 0.03362220392473478, 0.03362220392473478, 0.03362220392473478, 0.03362220392473478, 0.03362220392473478, 0.03362220392473478, 0.03362220392473478, 0.03362220392473478, 0.03362220392473478, 0.03362220392473478, 0.03362220392473478, 0.03362220392473478, 0.03362220392473478, 0.03362220392473478, 0.03362220392473478, 0.03362220392473478, 0.03362220392473478, 0.03362220392473478, 0.03362220392473478, 0.03362220392473478, 0.03362220392473478, 0.03362220392473478, 0.8741773021317387, 0.03362220392473478, 0.03362220392473478, 0.03362220392473478, 0.03362220392473478, 0.03362220392473478, 0.03362220392473478, 0.03362220392473478, 0.03362220392473478, 0.03362220392473478, 0.03362220392473478, 0.03362220392473478, 0.03362220392473478, 0.03362220392473478, 0.03362220392473478, 0.03362220392473478, 0.03362220392473478, 0.03362220392473478, 0.03362220392473478, 0.03362220392473478, 0.03362220392473478, 0.03362220392473478, 0.03362220392473478, 0.03362220392473478, 0.03362220392473478], \"Total\": [53.0, 13.0, 19.0, 20.0, 17.0, 33.0, 47.0, 9.0, 12.0, 12.0, 12.0, 13.0, 15.0, 10.0, 10.0, 5.0, 9.0, 6.0, 8.0, 5.0, 6.0, 6.0, 5.0, 6.0, 6.0, 5.0, 6.0, 3.0, 4.0, 6.0, 6.117244775646566, 3.8292786576647644, 3.8292786576648985, 19.96212664157105, 3.0666232850042143, 1.5413125396831069, 1.5413125396831069, 1.5413125396831069, 1.5413125396830987, 1.5413125396830984, 1.5413125396830984, 1.5413125396830984, 1.5413125396829837, 1.5413125396829837, 1.5413125396831313, 1.5413125396829692, 1.5413125396829692, 1.5413125396826874, 1.5413125396827372, 3.1122380853345235, 2.307765743739985, 2.318773211068468, 2.3293750303794507, 3.0696052735481922, 3.842390941661556, 7.746418153014409, 9.402589716044517, 5.58343590955606, 33.69338974863674, 47.91468645375263, 53.43947343198176, 8.260915621142054, 9.880340162296253, 4.104105368853268, 3.2727433183954737, 4.856111691618909, 15.926742232767484, 1.6100192174803143, 1.6100192174803143, 1.6100192174803143, 1.6100192174803143, 1.6100192174803134, 1.6100192174803134, 1.6100192174803134, 1.610019217480312, 1.6100192174796857, 1.610019217476852, 3.2294437586275886, 2.418289390471, 3.1157076802764516, 9.402589716044517, 5.58343590955606, 53.43947343198176, 6.402983771702391, 10.644345078665593, 1.5145574611186472, 1.5145574611186472, 1.5145574611188222, 1.5145574611188968, 1.5212065694524333, 1.5212065694524333, 1.5212065694524373, 1.5212065694524373, 19.96212664157105, 1.538983676965009, 1.556117838408986, 1.556117838408986, 2.3472629105488085, 2.312489891013497, 12.02594441372525, 12.02594441372525, 3.028114616363078, 10.644345078665593, 1.5284763168027324, 1.5284763168027324, 1.5284763168027304, 1.5284763168027549, 3.020844869015254, 3.0386219765236695, 47.91468645375263, 1.5145574611188222, 1.5145574611186472, 1.5145574611186472, 1.5145574611188968, 1.5212065694524333, 1.5212065694524333, 1.5212065694524373, 1.5212065694524373, 1.5212065694528554, 1.5212065694528554, 1.5317557484801843, 1.5317557484801843, 1.5317557484801867, 1.531755748480188, 1.531755748480188, 1.5389836769633107, 1.5389836769633125, 1.5389836769633134, 1.538983676965009, 53.43947343198176, 1.610019217476852, 1.5667196577180198, 5.448332357655557, 1.566719657718487, 1.5699947822205755, 2.3613323974187916, 3.175139444133989, 17.40334844638868, 33.69338974863674, 6.402983771702391, 5.571621721245511, 10.423930752793348, 2.3010866952485163, 6.370449146949239, 9.815840144514002, 1.556117838408986, 1.578597148662771, 3.2181566261233203, 10.423930752793348, 2.404990139756405, 6.386981265332731, 1.5918236533894823, 1.5918236533894812, 1.5918236533894794, 2.3277239474858336, 3.1124766732710136, 3.1964152186910058, 20.179421815062856, 7.746418153014409, 17.40334844638868, 5.58343590955606, 6.9814073781610375, 53.43947343198176, 47.91468645375263, 1.5145574611186472, 1.5145574611186472, 1.5145574611188222, 1.5145574611188968, 1.5212065694524333, 1.5212065694524333, 1.5212065694524373, 1.5212065694524373, 1.5212065694528554, 1.5212065694528554, 1.5284763168027304, 1.5284763168027324, 1.5284763168027324, 1.5284763168027549, 1.5785971486629944, 4.514026017480254, 6.319724909967047, 1.5451103710797938, 9.402589716044517, 5.377376391365382, 10.644345078665593, 33.69338974863674, 2.3010866952485163, 15.926742232767484, 13.716246401509299, 1.5561178384076806, 9.815840144514002, 4.491404179172183, 12.71063938725719, 2.2637559718823153, 1.5212065694524373, 1.5212065694524373, 1.5212065694524333, 1.5212065694524333, 1.5212065694528554, 1.5212065694528554, 3.7985150117488797, 2.2909947381534312, 13.716246401509299, 3.020844869015254, 15.926742232767484, 3.842390941661556, 7.746418153014409, 33.69338974863674, 53.43947343198176, 1.5145574611186472, 1.5145574611186472, 1.5145574611188222, 1.5145574611188968, 1.5284763168027304, 1.5284763168027324, 1.5284763168027324, 1.5284763168027549, 1.5317557484801843, 1.5317557484801843, 1.5317557484801867, 1.531755748480188, 1.531755748480188, 1.5458485513714597, 1.5413125396826874, 1.5561178384076806, 2.307765743739985, 1.5413125396829837, 1.5413125396829837, 6.402983771702391, 6.386981265332731, 6.370449146949239, 3.1106259441936146, 3.2727433183954737, 3.1964152186910058, 5.377376391365382, 13.716246401509299, 1.5451103710795793, 1.5451103710795793, 1.5451103710795793, 1.5451103710795793, 1.5451103710795793, 1.5451103710795755, 1.5451103710795755, 1.5451103710797938, 1.5451103710798821, 2.307765743739985, 2.312489891013497, 2.3148985397805335, 3.0169109592716454, 9.402589716044517, 4.514026017480254, 6.386981265332731, 12.71063938725719, 47.91468645375263, 6.9814073781610375, 1.5145574611186472, 1.5145574611186472, 1.5145574611188222, 1.5145574611188968, 1.5212065694524333, 1.5212065694524333, 1.5212065694524373, 1.5212065694524373, 1.5212065694528554, 1.5212065694528554, 2.3335785097932162, 2.361332397419095, 5.448332357655557, 5.413874496820723, 10.423930752793348, 13.70420783601538, 5.571621721245511, 20.179421815062856, 17.40334844638868, 13.70420783601538, 20.179421815062856, 1.5389836769633125, 1.5389836769633107, 1.5389836769633134, 1.538983676965009, 3.1124766732710136, 2.299319247498507, 2.30636319689663, 2.3472538499546993, 3.0386219765236695, 3.0733664456620655, 4.65445463676866, 4.625117167708899, 1.5145574611186472, 1.5145574611186472, 1.5145574611188222, 1.5145574611188968, 1.5212065694524333, 1.5212065694524333, 1.5212065694524373, 1.5212065694524373, 1.5212065694528554, 1.5212065694528554, 1.5284763168027304, 1.5284763168027324, 1.5284763168027324, 1.5284763168027549, 1.5317557484801843, 1.5317557484801843, 1.5317557484801867, 1.531755748480188, 1.5809529496724424, 3.1106259441936146, 1.5460366869557176, 1.5460366869557176, 1.5561178384077021, 2.3613323974187916, 12.71063938725719, 5.448332357655557, 3.0666232850042143, 53.43947343198176, 3.2727433183954737, 3.8292786576647644, 4.104105368853268, 3.1964152186910058, 17.40334844638868, 6.402983771702391, 6.210800715268183, 2.3335785097932757, 2.3335785097932162, 1.55611783840792, 1.55611783840792, 1.5561178384079182, 1.5561178384079182, 1.5561178384079182, 1.5561178384079182, 1.5561178384079146, 1.5561178384076806, 1.5561178384077021, 1.556117838408986, 1.556117838408986, 5.448332357655557, 2.318773211068468, 2.3234973583411516, 2.347455453606235, 3.1890653762969694, 33.69338974863674, 53.43947343198176, 20.179421815062856, 13.716246401509299, 1.5145574611186472, 1.5145574611186472, 1.5145574611188222, 1.5145574611188968, 1.5212065694524333, 1.5212065694524333, 1.5212065694524373, 1.5212065694524373, 4.856111691618909, 12.71063938725719, 47.91468645375263, 8.260915621142054, 13.70420783601538, 9.880340162296253, 15.926742232767484, 1.548445335723539, 1.548445335723539, 1.5484453357235355, 1.548445335723907, 1.5484453357234618, 3.0622412415250766, 3.1106259441936146, 3.11706072002189, 53.43947343198176, 2.2909947381534312, 2.3148985397805335, 3.1157076802764516, 7.746418153014409, 47.91468645375263, 1.5145574611188968, 1.5145574611186472, 1.5145574611186472, 1.5145574611188222, 1.5212065694524333, 1.5212065694524333, 1.5212065694524373, 1.5212065694524373, 1.5212065694528554, 1.5212065694528554, 1.5284763168027304, 1.5284763168027324, 1.5284763168027324, 1.5284763168027549, 1.5317557484801843, 1.5317557484801843, 1.5317557484801867, 1.531755748480188, 1.531755748480188, 1.5785971486623416, 1.586927340013148, 3.842390941661556, 1.5413125396831313, 3.1124766732710136, 10.644345078665593, 3.8292786576648985, 3.0169109592716454, 33.69338974863674, 3.0386219765236695, 12.71063938725719, 8.260915621142054, 9.880340162296253, 13.70420783601538, 3.155834486331562, 6.370449146949239, 5.571621721245511, 3.175139444133989, 6.402983771702391, 2.3763120184302626, 1.577484592726413, 1.577484592726413, 1.5774845927264107, 1.5774845927264107, 2.344864112659718, 5.58343590955606, 3.11706072002189, 17.40334844638868, 33.69338974863674, 1.5145574611186472, 1.5145574611186472, 1.5145574611188222, 1.5145574611188968, 1.5212065694528554, 1.5212065694528554, 1.5212065694524333, 1.5212065694524333, 1.5212065694524373, 1.5212065694524373, 1.5284763168027304, 1.5284763168027324, 1.5284763168027324, 1.5284763168027549, 1.5317557484801843, 1.5317557484801843, 1.5317557484801867, 1.531755748480188, 1.531755748480188, 3.020844869015254, 1.5809529496732035, 3.8270433985618917, 3.0169109592716454, 1.5451103710798821, 3.842390941661556, 15.926742232767484, 47.91468645375263, 4.625117167708899, 12.02594441372525, 12.02594441372525, 20.179421815062856, 1.5606964684543994, 2.3389327191978913, 1.5460366869558269, 1.5460366869558269, 1.5460366869558269, 1.5460366869558255, 1.5460366869558257, 1.5460366869558222, 1.5460366869557176, 1.5460366869557176, 4.625117167708899, 3.7985150117488797, 2.30636319689663, 2.312489891013497, 2.3234973583411516, 2.344864112659718, 2.3459766685961005, 3.1459166502366167, 3.8270433985618917, 4.856111691618909, 47.91468645375263, 6.210800715268183, 7.746418153014409, 19.96212664157105, 33.69338974863674, 1.5145574611186472, 1.5145574611186472, 1.5145574611188222, 1.5145574611188968, 1.5212065694524333, 1.5212065694524333, 1.5212065694524373, 1.5212065694524373, 6.402983771702391, 17.40334844638868, 8.260915621142054, 9.880340162296253, 20.179421815062856, 13.70420783601538, 1.556117838408986, 3.9068143727499023, 17.40334844638868, 1.5606964684543991, 1.5606964684543994, 1.5606964684538758, 1.5606964684538758, 6.319724909967047, 4.625117167708899, 4.762812196026145, 9.402589716044517, 5.448332357655557, 6.386981265332731, 20.179421815062856, 33.69338974863674, 13.716246401509299, 15.926742232767484, 1.5145574611186472, 1.5145574611186472, 1.5145574611188222, 1.5145574611188968, 1.5212065694524333, 1.5212065694524333, 1.5212065694524373, 1.5212065694524373, 1.5212065694528554, 1.5212065694528554, 1.5284763168027304, 1.5284763168027324, 1.5284763168027324, 1.5284763168027549, 47.91468645375263, 12.71063938725719, 1.5785971486623416, 2.30636319689663, 1.538983676965009, 4.491404179172183, 53.43947343198176, 10.644345078665593, 9.815840144514002, 3.2727433183954737, 4.104105368853268, 10.423930752793348, 1.556117838408986, 1.578597148662771, 2.3130399357213793, 3.871568935268947, 1.5458485513719735, 1.5458485513719695, 1.5458485513719695, 1.5458485513719584, 1.5458485513714597, 3.0733664456620655, 6.1416823580313995, 3.1504401166738965, 3.842390941661556, 10.423930752793348, 10.644345078665593, 5.448332357655557, 9.402589716044517, 47.91468645375263, 53.43947343198176, 1.5145574611186472, 1.5145574611186472, 1.5145574611188222, 1.5145574611188968, 1.5212065694524333, 1.5212065694524333, 1.5212065694524373, 1.5212065694524373, 1.5212065694528554, 1.5212065694528554, 1.5284763168027304, 1.5284763168027324, 1.5284763168027324, 1.5284763168027549, 15.926742232767484, 33.69338974863674, 12.71063938725719, 2.383248732324246, 2.2848543299378066, 1.5561178384076806, 5.377376391365382, 1.6100192174803143, 1.578597148662776, 1.6100192174803134, 2.3389327191978913, 1.556117838408986, 9.815840144514002, 3.7910514928530383, 2.2848543299378066, 2.284854329937771, 1.531755748480188, 1.531755748480188, 1.5317557484801867, 1.5317557484801843, 1.5317557484801843, 2.323093363678481, 6.1416823580313995, 47.91468645375263, 1.5145574611186472, 1.5145574611186472, 1.5145574611188222, 1.5145574611188968, 1.5212065694524333, 1.5212065694524333, 1.5212065694524373, 1.5212065694524373, 1.5212065694528554, 1.5212065694528554, 1.5284763168027549, 1.5284763168027304, 1.5284763168027324, 1.5284763168027324, 1.5389836769633107, 1.5389836769633125, 1.5389836769633134, 1.538983676965009, 1.5413125396827372, 3.8271709417465423, 1.5606964684538758, 1.5606964684538758, 1.5413125396829692, 1.5413125396829692, 1.5785971486622103, 4.65445463676866, 33.69338974863674, 53.43947343198176, 1.5398719311355202, 7.746418153014409, 1.5460366869558222, 2.3389327191978913, 1.556117838408986, 1.578597148662771, 3.8270433985618917, 6.9814073781610375, 1.5389927375577825, 1.5389927375577817, 1.5389927375577792, 1.5389927375577774, 2.299319247498507, 2.3389327191978913, 2.3472629105488085, 33.69338974863674, 3.8271709417465423, 47.91468645375263, 1.5145574611186472, 1.5145574611186472, 1.5145574611188222, 1.5145574611188968, 1.5212065694524333, 1.5212065694524333, 1.5212065694524373, 1.5212065694524373, 1.5212065694528554, 1.5212065694528554, 1.5284763168027304, 1.5284763168027324, 1.5284763168027324, 1.5284763168027549, 1.5317557484801843, 1.5317557484801843, 1.5317557484801867, 1.531755748480188, 1.531755748480188, 3.0733664456620655, 3.8292786576648985, 19.96212664157105, 15.926742232767484, 10.644345078665593, 17.40334844638868, 10.423930752793348, 53.43947343198176, 5.571621721245511, 6.370449146949239, 2.284854329937771, 1.5561178384079182, 2.2909947381534312, 1.5451103710797938, 12.71063938725719, 1.6100192174803143, 5.377376391365382, 2.3547821484149734, 2.35478214841497, 2.3547821484150617, 1.5667196577187743, 1.5667196577187743, 1.5667196577187743, 1.5667196577187734, 1.566719657718487, 1.5667196577180198, 2.3293750303794507, 3.2294437586275886, 5.413874496820723, 5.448332357655557, 6.1416823580313995, 6.319724909967047, 9.880340162296253, 53.43947343198176, 1.5145574611186472, 1.5145574611186472, 1.5145574611188222, 1.5145574611188968, 1.5212065694524333, 1.5212065694524333, 1.5212065694524373, 1.5212065694524373, 1.5212065694528554, 1.5212065694528554, 1.5284763168027304, 1.5284763168027324, 1.5284763168027324, 47.91468645375263, 1.5284763168027549, 15.926742232767484, 12.02594441372525, 12.02594441372525, 3.2181566261233203, 9.815840144514002, 7.746418153014409, 1.6100192174803134, 1.5918236533894812, 1.6100192174803143, 1.5809529496732035, 1.5460366869558222, 2.383248732324246, 1.5809529496734083, 1.5809529496734087, 1.5809529496734083, 1.5809529496734087, 1.5809529496736614, 1.5809529496724424, 1.5809529496732035, 3.1504401166738965, 3.1964152186910058, 6.319724909967047, 4.762812196026145, 5.413874496820723, 53.43947343198176, 33.69338974863674, 1.5145574611186472, 1.5145574611186472, 1.5145574611188222, 1.5145574611188968, 1.5212065694524333, 1.5212065694524333, 1.5212065694524373, 1.5212065694524373, 1.5212065694528554, 1.5212065694528554, 1.5284763168027304, 1.5284763168027324, 1.5284763168027324, 1.5284763168027549, 1.5317557484801843, 1.531755748480188, 3.2294437586275886, 5.377376391365382, 12.71063938725719, 13.70420783601538, 2.3763120184302626, 8.260915621142054, 9.880340162296253, 3.175139444133989, 6.402983771702391, 20.179421815062856, 1.6100192174803134, 2.2637559718823153, 1.5460366869558222, 1.610019217480312, 3.9440076278156466, 2.3613323974191696, 2.361332397419095, 2.3613323974187916, 1.569994782220879, 1.569994782220879, 1.5699947822205755, 2.314002519321472, 2.323093363678481, 2.347455453606235, 3.842390941661556, 3.871568935268947, 15.926742232767484, 53.43947343198176, 33.69338974863674, 1.5145574611186472, 1.5145574611186472, 1.5145574611188222, 1.5145574611188968, 1.5212065694524333, 1.5212065694524333, 1.5212065694524373, 1.5212065694524373, 1.5212065694528554, 1.5212065694528554, 1.5284763168027304, 1.5284763168027324, 1.5284763168027324, 1.5284763168027549, 1.5317557484801843, 47.91468645375263, 19.96212664157105, 5.377376391365382, 5.2427035896265615, 13.716246401509299, 12.02594441372525, 12.02594441372525, 20.179421815062856, 13.70420783601538, 2.2909947381534312, 2.2637559718823153, 1.539871931135527, 1.5561178384076806, 1.5561178384079182, 2.378537130302946, 1.578597148662776, 1.578597148662776, 1.578597148662776, 1.578597148662776, 1.578597148662776, 1.578597148662776, 1.578597148662771, 1.5785971486622103, 1.5785971486623416, 1.5785971486629944, 3.1459166502366167, 4.762812196026145, 2.3389327191978913, 2.3459766685961005, 5.58343590955606, 47.91468645375263, 1.5145574611186472, 1.5145574611186472, 1.5145574611188222, 1.5145574611188968, 1.5212065694524333, 1.5212065694524333, 1.5212065694524373, 1.5212065694524373, 1.5212065694528554, 1.5212065694528554, 1.5284763168027304, 1.5284763168027324, 1.5284763168027324, 53.43947343198176, 1.5284763168027549, 6.386981265332731, 20.179421815062856, 17.40334844638868, 9.815840144514002, 1.5561178384076806, 1.6100192174803134, 1.5606964684543994, 1.5460366869558222, 1.556117838408986, 2.383248732324246, 1.5413125396830984, 3.155834486331562, 2.363442046561928, 1.5710496067922528, 4.65445463676866, 3.0696052735481922, 3.1106259441936146, 3.1890653762969694, 7.746418153014409, 10.423930752793348, 47.91468645375263, 19.96212664157105, 33.69338974863674, 1.5145574611186472, 1.5145574611186472, 1.5145574611188222, 1.5145574611188968, 1.5212065694524333, 1.5212065694524333, 1.5212065694524373, 1.5212065694524373, 1.5212065694528554, 1.5212065694528554, 1.5284763168027304, 1.5284763168027324, 1.5284763168027324, 1.5284763168027549, 1.5317557484801843, 1.5317557484801843, 1.5317557484801867, 1.531755748480188, 1.531755748480188, 20.179421815062856, 53.43947343198176, 13.70420783601538, 1.5561178384076806, 1.6100192174803134, 5.377376391365382, 2.383248732324246, 2.2848543299378066, 1.6100192174803143, 12.71063938725719, 1.578597148662776, 1.5460366869558222, 2.3389327191978913, 1.578597148662771, 9.815840144514002, 1.5606964684543994, 1.5145574611186472, 1.5145574611186472, 1.5145574611188968, 1.5145574611188222, 3.0169109592716454, 4.514026017480254, 2.3277239474858336, 3.0696052735481922, 3.1157076802764516, 3.8271709417465423, 4.65445463676866, 33.69338974863674, 15.926742232767484, 1.5212065694524333, 1.5212065694524333, 1.5212065694524373, 1.5212065694524373, 1.5212065694528554, 1.5212065694528554, 1.5284763168027304, 1.5284763168027324, 1.5284763168027324, 1.5284763168027549, 1.5317557484801843, 1.5317557484801843, 1.5317557484801867, 1.531755748480188, 1.531755748480188, 1.5389836769633107, 1.5389836769633125, 1.5389836769633134, 3.11706072002189, 9.815840144514002, 19.96212664157105, 53.43947343198176, 12.02594441372525, 12.02594441372525, 1.5398719311355202, 2.2909947381534312, 1.6100192174803143, 5.377376391365382, 1.5561178384079182, 2.2848543299378066, 2.383248732324246, 1.5561178384076806, 1.6100192174803134, 1.610019217480312, 2.284854329937771, 1.5869273400134334, 1.5869273400134334, 1.5869273400134334, 1.5869273400134325, 1.58692734001343, 1.586927340013148, 2.3472538499546993, 2.3472629105488085, 2.418289390471, 3.1122380853345235, 3.8271709417465423, 4.65445463676866, 6.9814073781610375, 47.91468645375263, 1.5145574611186472, 1.5145574611186472, 1.5145574611188222, 1.5145574611188968, 1.5212065694524333, 1.5212065694524333, 1.5212065694524373, 1.5212065694524373, 1.5212065694528554, 1.5212065694528554, 1.5284763168027304, 1.5284763168027324, 1.5284763168027324, 1.5284763168027549, 1.5317557484801843, 1.5317557484801843, 1.5317557484801867, 1.531755748480188, 53.43947343198176, 8.260915621142054, 9.880340162296253, 1.6100192174803134, 2.3389327191978913, 2.383248732324246, 2.2848543299378066, 1.5460366869558222, 5.377376391365382, 1.5561178384076806, 1.578597148662776, 1.556117838408986, 1.578597148662771, 1.6100192174803143, 1.5606964684543994, 2.3010866952485163, 5.413874496820723, 1.5398719311355287, 1.539871931135527, 1.539871931135527, 1.5398719311355202, 4.514026017480254, 47.91468645375263, 33.69338974863674, 1.5145574611186472, 1.5145574611186472, 1.5145574611188222, 1.5145574611188968, 1.5212065694524333, 1.5212065694524333, 1.5212065694524373, 1.5212065694524373, 1.5212065694528554, 1.5212065694528554, 1.5284763168027304, 1.5284763168027324, 1.5284763168027324, 1.5284763168027549, 1.5317557484801843, 1.5317557484801843, 1.5317557484801867, 1.531755748480188, 1.531755748480188, 1.5389836769633107, 1.5389836769633125, 3.1124766732710136, 10.644345078665593, 10.423930752793348, 9.402589716044517, 19.96212664157105, 5.377376391365382, 53.43947343198176, 2.2848543299378066, 2.383248732324246, 1.6100192174803143, 1.5561178384076806, 1.6100192174803134, 12.71063938725719, 1.556117838408986, 1.5460366869558222, 2.3389327191978913, 1.578597148662771, 9.815840144514002, 1.5606964684543994, 2.284854329937771, 5.2427035896265615, 2.314002519321472, 3.0622412415250766, 3.8271709417465423, 7.746418153014409, 33.69338974863674, 1.5145574611186472, 1.5145574611186472, 1.5145574611188222, 1.5145574611188968, 1.5212065694524333, 1.5212065694524333, 1.5212065694524373, 1.5212065694524373, 1.5212065694528554, 1.5212065694528554, 1.5284763168027304, 1.5284763168027324, 1.5284763168027324, 1.5284763168027549, 1.5317557484801843, 1.5317557484801843, 1.5317557484801867, 1.531755748480188, 1.531755748480188, 1.5389836769633107, 1.5389836769633125, 1.5389836769633134, 1.538983676965009, 1.5389927375577774, 47.91468645375263, 5.377376391365382, 2.284854329937771, 3.9440076278156466, 53.43947343198176, 9.815840144514002, 2.383248732324246, 1.5561178384076806, 2.2848543299378066, 1.6100192174803143, 1.6100192174803134, 12.71063938725719, 1.5460366869558222, 1.578597148662776, 2.3389327191978913, 1.556117838408986, 1.578597148662771, 1.5606964684543994, 1.5398719311355202, 2.3277239474858336, 1.5451103710795793, 1.5451103710797938, 2.2909947381534312, 1.6192122651409497, 3.1890653762969694, 19.96212664157105, 1.5145574611186472, 1.5145574611186472, 1.5145574611188222, 1.5145574611188968, 1.5212065694524333, 1.5212065694524333, 1.5212065694524373, 1.5212065694524373, 1.5212065694528554, 1.5212065694528554, 1.5284763168027304, 1.5284763168027324, 1.5284763168027324, 1.5284763168027549, 1.5317557484801843, 1.5317557484801843, 1.5317557484801867, 1.531755748480188, 1.531755748480188, 1.5389836769633107, 1.5389836769633125, 1.5389836769633134, 1.538983676965009, 1.5389927375577774, 1.5389927375577792, 1.5389927375577817, 1.5389927375577825, 47.91468645375263, 1.578597148662776, 2.307765743739985, 12.71063938725719, 1.6100192174803143, 5.377376391365382, 2.2848543299378066, 2.383248732324246, 1.5561178384076806, 1.6100192174803134, 1.5460366869558222, 2.3389327191978913, 1.556117838408986, 1.578597148662771, 9.815840144514002, 1.5606964684543994, 2.284854329937771, 1.5398719311355202, 2.3277239474858336, 1.5451103710795793, 1.5451103710797938, 2.2909947381534312, 1.5561178384079182, 1.539871931135527, 2.2637559718823153], \"Category\": [\"Default\", \"Default\", \"Default\", \"Default\", \"Default\", \"Default\", \"Default\", \"Default\", \"Default\", \"Default\", \"Default\", \"Default\", \"Default\", \"Default\", \"Default\", \"Default\", \"Default\", \"Default\", \"Default\", \"Default\", \"Default\", \"Default\", \"Default\", \"Default\", \"Default\", \"Default\", \"Default\", \"Default\", \"Default\", \"Default\", \"Topic1\", \"Topic1\", \"Topic1\", \"Topic1\", \"Topic1\", \"Topic1\", \"Topic1\", \"Topic1\", \"Topic1\", \"Topic1\", \"Topic1\", \"Topic1\", \"Topic1\", \"Topic1\", \"Topic1\", \"Topic1\", \"Topic1\", \"Topic1\", \"Topic1\", \"Topic1\", \"Topic1\", \"Topic1\", \"Topic1\", \"Topic1\", \"Topic1\", \"Topic1\", \"Topic1\", \"Topic1\", \"Topic1\", \"Topic1\", \"Topic1\", \"Topic2\", \"Topic2\", \"Topic2\", \"Topic2\", \"Topic2\", \"Topic2\", \"Topic2\", \"Topic2\", \"Topic2\", \"Topic2\", \"Topic2\", \"Topic2\", \"Topic2\", \"Topic2\", \"Topic2\", \"Topic2\", \"Topic2\", \"Topic2\", \"Topic2\", \"Topic2\", \"Topic2\", \"Topic2\", \"Topic2\", \"Topic2\", \"Topic2\", \"Topic2\", \"Topic2\", \"Topic2\", \"Topic2\", \"Topic2\", \"Topic2\", \"Topic2\", \"Topic2\", \"Topic2\", \"Topic2\", \"Topic2\", \"Topic2\", \"Topic2\", \"Topic3\", \"Topic3\", \"Topic3\", \"Topic3\", \"Topic3\", \"Topic3\", \"Topic3\", \"Topic3\", \"Topic3\", \"Topic3\", \"Topic3\", \"Topic3\", \"Topic3\", \"Topic3\", \"Topic3\", \"Topic3\", \"Topic3\", \"Topic3\", \"Topic3\", \"Topic3\", \"Topic3\", \"Topic3\", \"Topic3\", \"Topic3\", \"Topic3\", \"Topic3\", \"Topic3\", \"Topic3\", \"Topic3\", \"Topic3\", \"Topic3\", \"Topic3\", \"Topic3\", \"Topic3\", \"Topic3\", \"Topic3\", \"Topic3\", \"Topic3\", \"Topic3\", \"Topic3\", \"Topic3\", \"Topic3\", \"Topic3\", \"Topic3\", \"Topic3\", \"Topic3\", \"Topic3\", \"Topic3\", \"Topic4\", \"Topic4\", \"Topic4\", \"Topic4\", \"Topic4\", \"Topic4\", \"Topic4\", \"Topic4\", \"Topic4\", \"Topic4\", \"Topic4\", \"Topic4\", \"Topic4\", \"Topic4\", \"Topic4\", \"Topic4\", \"Topic4\", \"Topic4\", \"Topic4\", \"Topic4\", \"Topic4\", \"Topic4\", \"Topic4\", \"Topic4\", \"Topic4\", \"Topic4\", \"Topic4\", \"Topic4\", \"Topic4\", \"Topic4\", \"Topic4\", \"Topic4\", \"Topic4\", \"Topic4\", \"Topic4\", \"Topic4\", \"Topic4\", \"Topic4\", \"Topic4\", \"Topic4\", \"Topic4\", \"Topic4\", \"Topic4\", \"Topic4\", \"Topic5\", \"Topic5\", \"Topic5\", \"Topic5\", \"Topic5\", \"Topic5\", \"Topic5\", \"Topic5\", \"Topic5\", \"Topic5\", \"Topic5\", \"Topic5\", \"Topic5\", \"Topic5\", \"Topic5\", \"Topic5\", \"Topic5\", \"Topic5\", \"Topic5\", \"Topic5\", \"Topic5\", \"Topic5\", \"Topic5\", \"Topic5\", \"Topic5\", \"Topic5\", \"Topic5\", \"Topic5\", \"Topic5\", \"Topic5\", \"Topic5\", \"Topic5\", \"Topic5\", \"Topic5\", \"Topic5\", \"Topic5\", \"Topic5\", \"Topic5\", \"Topic5\", \"Topic5\", \"Topic5\", \"Topic5\", \"Topic5\", \"Topic6\", \"Topic6\", \"Topic6\", \"Topic6\", \"Topic6\", \"Topic6\", \"Topic6\", \"Topic6\", \"Topic6\", \"Topic6\", \"Topic6\", \"Topic6\", \"Topic6\", \"Topic6\", \"Topic6\", \"Topic6\", \"Topic6\", \"Topic6\", \"Topic6\", \"Topic6\", \"Topic6\", \"Topic6\", \"Topic6\", \"Topic6\", \"Topic6\", \"Topic6\", \"Topic6\", \"Topic6\", \"Topic6\", \"Topic6\", \"Topic6\", \"Topic6\", \"Topic6\", \"Topic6\", \"Topic6\", \"Topic6\", \"Topic6\", \"Topic6\", \"Topic6\", \"Topic6\", \"Topic7\", \"Topic7\", \"Topic7\", \"Topic7\", \"Topic7\", \"Topic7\", \"Topic7\", \"Topic7\", \"Topic7\", \"Topic7\", \"Topic7\", \"Topic7\", \"Topic7\", \"Topic7\", \"Topic7\", \"Topic7\", \"Topic7\", \"Topic7\", \"Topic7\", \"Topic7\", \"Topic7\", \"Topic7\", \"Topic7\", \"Topic7\", \"Topic7\", \"Topic7\", \"Topic7\", \"Topic7\", \"Topic7\", \"Topic7\", \"Topic7\", \"Topic7\", \"Topic7\", \"Topic7\", \"Topic7\", \"Topic7\", \"Topic7\", \"Topic7\", \"Topic7\", \"Topic7\", \"Topic7\", \"Topic7\", \"Topic7\", \"Topic7\", \"Topic7\", \"Topic7\", \"Topic7\", \"Topic7\", \"Topic8\", \"Topic8\", \"Topic8\", \"Topic8\", \"Topic8\", \"Topic8\", \"Topic8\", \"Topic8\", \"Topic8\", \"Topic8\", \"Topic8\", \"Topic8\", \"Topic8\", \"Topic8\", \"Topic8\", \"Topic8\", \"Topic8\", \"Topic8\", \"Topic8\", \"Topic8\", \"Topic8\", \"Topic8\", \"Topic8\", \"Topic8\", \"Topic8\", \"Topic8\", \"Topic8\", \"Topic8\", \"Topic8\", \"Topic8\", \"Topic8\", \"Topic8\", \"Topic8\", \"Topic8\", \"Topic8\", \"Topic8\", \"Topic8\", \"Topic8\", \"Topic9\", \"Topic9\", \"Topic9\", \"Topic9\", \"Topic9\", \"Topic9\", \"Topic9\", \"Topic9\", \"Topic9\", \"Topic9\", \"Topic9\", \"Topic9\", \"Topic9\", \"Topic9\", \"Topic9\", \"Topic9\", \"Topic9\", \"Topic9\", \"Topic9\", \"Topic9\", \"Topic9\", \"Topic9\", \"Topic9\", \"Topic9\", \"Topic9\", \"Topic9\", \"Topic9\", \"Topic9\", \"Topic9\", \"Topic9\", \"Topic9\", \"Topic9\", \"Topic9\", \"Topic9\", \"Topic9\", \"Topic9\", \"Topic9\", \"Topic9\", \"Topic9\", \"Topic9\", \"Topic9\", \"Topic9\", \"Topic9\", \"Topic9\", \"Topic9\", \"Topic9\", \"Topic9\", \"Topic9\", \"Topic10\", \"Topic10\", \"Topic10\", \"Topic10\", \"Topic10\", \"Topic10\", \"Topic10\", \"Topic10\", \"Topic10\", \"Topic10\", \"Topic10\", \"Topic10\", \"Topic10\", \"Topic10\", \"Topic10\", \"Topic10\", \"Topic10\", \"Topic10\", \"Topic10\", \"Topic10\", \"Topic10\", \"Topic10\", \"Topic10\", \"Topic10\", \"Topic10\", \"Topic10\", \"Topic10\", \"Topic10\", \"Topic10\", \"Topic10\", \"Topic10\", \"Topic10\", \"Topic10\", \"Topic10\", \"Topic10\", \"Topic10\", \"Topic10\", \"Topic10\", \"Topic10\", \"Topic10\", \"Topic10\", \"Topic10\", \"Topic10\", \"Topic10\", \"Topic10\", \"Topic10\", \"Topic10\", \"Topic11\", \"Topic11\", \"Topic11\", \"Topic11\", \"Topic11\", \"Topic11\", \"Topic11\", \"Topic11\", \"Topic11\", \"Topic11\", \"Topic11\", \"Topic11\", \"Topic11\", \"Topic11\", \"Topic11\", \"Topic11\", \"Topic11\", \"Topic11\", \"Topic11\", \"Topic11\", \"Topic11\", \"Topic11\", \"Topic11\", \"Topic11\", \"Topic11\", \"Topic11\", \"Topic11\", \"Topic11\", \"Topic11\", \"Topic11\", \"Topic11\", \"Topic11\", \"Topic11\", \"Topic11\", \"Topic11\", \"Topic11\", \"Topic11\", \"Topic11\", \"Topic12\", \"Topic12\", \"Topic12\", \"Topic12\", \"Topic12\", \"Topic12\", \"Topic12\", \"Topic12\", \"Topic12\", \"Topic12\", \"Topic12\", \"Topic12\", \"Topic12\", \"Topic12\", \"Topic12\", \"Topic12\", \"Topic12\", \"Topic12\", \"Topic12\", \"Topic12\", \"Topic12\", \"Topic12\", \"Topic12\", \"Topic12\", \"Topic12\", \"Topic12\", \"Topic12\", \"Topic12\", \"Topic12\", \"Topic12\", \"Topic12\", \"Topic12\", \"Topic12\", \"Topic12\", \"Topic12\", \"Topic12\", \"Topic12\", \"Topic12\", \"Topic12\", \"Topic12\", \"Topic12\", \"Topic12\", \"Topic12\", \"Topic12\", \"Topic13\", \"Topic13\", \"Topic13\", \"Topic13\", \"Topic13\", \"Topic13\", \"Topic13\", \"Topic13\", \"Topic13\", \"Topic13\", \"Topic13\", \"Topic13\", \"Topic13\", \"Topic13\", \"Topic13\", \"Topic13\", \"Topic13\", \"Topic13\", \"Topic13\", \"Topic13\", \"Topic13\", \"Topic13\", \"Topic13\", \"Topic13\", \"Topic13\", \"Topic13\", \"Topic13\", \"Topic13\", \"Topic13\", \"Topic13\", \"Topic13\", \"Topic13\", \"Topic13\", \"Topic13\", \"Topic13\", \"Topic13\", \"Topic13\", \"Topic13\", \"Topic13\", \"Topic13\", \"Topic13\", \"Topic13\", \"Topic13\", \"Topic14\", \"Topic14\", \"Topic14\", \"Topic14\", \"Topic14\", \"Topic14\", \"Topic14\", \"Topic14\", \"Topic14\", \"Topic14\", \"Topic14\", \"Topic14\", \"Topic14\", \"Topic14\", \"Topic14\", \"Topic14\", \"Topic14\", \"Topic14\", \"Topic14\", \"Topic14\", \"Topic14\", \"Topic14\", \"Topic14\", \"Topic14\", \"Topic14\", \"Topic14\", \"Topic14\", \"Topic14\", \"Topic14\", \"Topic14\", \"Topic14\", \"Topic14\", \"Topic14\", \"Topic14\", \"Topic14\", \"Topic14\", \"Topic14\", \"Topic14\", \"Topic14\", \"Topic14\", \"Topic14\", \"Topic14\", \"Topic14\", \"Topic14\", \"Topic14\", \"Topic14\", \"Topic15\", \"Topic15\", \"Topic15\", \"Topic15\", \"Topic15\", \"Topic15\", \"Topic15\", \"Topic15\", \"Topic15\", \"Topic15\", \"Topic15\", \"Topic15\", \"Topic15\", \"Topic15\", \"Topic15\", \"Topic15\", \"Topic15\", \"Topic15\", \"Topic15\", \"Topic15\", \"Topic15\", \"Topic15\", \"Topic15\", \"Topic15\", \"Topic15\", \"Topic15\", \"Topic15\", \"Topic15\", \"Topic15\", \"Topic15\", \"Topic15\", \"Topic15\", \"Topic15\", \"Topic15\", \"Topic15\", \"Topic15\", \"Topic15\", \"Topic15\", \"Topic15\", \"Topic15\", \"Topic15\", \"Topic15\", \"Topic15\", \"Topic15\", \"Topic15\", \"Topic15\", \"Topic15\", \"Topic15\", \"Topic16\", \"Topic16\", \"Topic16\", \"Topic16\", \"Topic16\", \"Topic16\", \"Topic16\", \"Topic16\", \"Topic16\", \"Topic16\", \"Topic16\", \"Topic16\", \"Topic16\", \"Topic16\", \"Topic16\", \"Topic16\", \"Topic16\", \"Topic16\", \"Topic16\", \"Topic16\", \"Topic16\", \"Topic16\", \"Topic16\", \"Topic16\", \"Topic16\", \"Topic16\", \"Topic16\", \"Topic16\", \"Topic16\", \"Topic16\", \"Topic16\", \"Topic16\", \"Topic16\", \"Topic16\", \"Topic16\", \"Topic16\", \"Topic16\", \"Topic16\", \"Topic16\", \"Topic16\", \"Topic16\", \"Topic16\", \"Topic16\", \"Topic17\", \"Topic17\", \"Topic17\", \"Topic17\", \"Topic17\", \"Topic17\", \"Topic17\", \"Topic17\", \"Topic17\", \"Topic17\", \"Topic17\", \"Topic17\", \"Topic17\", \"Topic17\", \"Topic17\", \"Topic17\", \"Topic17\", \"Topic17\", \"Topic17\", \"Topic17\", \"Topic17\", \"Topic17\", \"Topic17\", \"Topic17\", \"Topic17\", \"Topic17\", \"Topic17\", \"Topic17\", \"Topic17\", \"Topic17\", \"Topic17\", \"Topic17\", \"Topic17\", \"Topic17\", \"Topic17\", \"Topic17\", \"Topic17\", \"Topic17\", \"Topic17\", \"Topic17\", \"Topic17\", \"Topic17\", \"Topic17\", \"Topic17\", \"Topic17\", \"Topic18\", \"Topic18\", \"Topic18\", \"Topic18\", \"Topic18\", \"Topic18\", \"Topic18\", \"Topic18\", \"Topic18\", \"Topic18\", \"Topic18\", \"Topic18\", \"Topic18\", \"Topic18\", \"Topic18\", \"Topic18\", \"Topic18\", \"Topic18\", \"Topic18\", \"Topic18\", \"Topic18\", \"Topic18\", \"Topic18\", \"Topic18\", \"Topic18\", \"Topic18\", \"Topic18\", \"Topic18\", \"Topic18\", \"Topic18\", \"Topic18\", \"Topic18\", \"Topic18\", \"Topic18\", \"Topic18\", \"Topic18\", \"Topic18\", \"Topic18\", \"Topic18\", \"Topic18\", \"Topic18\", \"Topic18\", \"Topic18\", \"Topic18\", \"Topic19\", \"Topic19\", \"Topic19\", \"Topic19\", \"Topic19\", \"Topic19\", \"Topic19\", \"Topic19\", \"Topic19\", \"Topic19\", \"Topic19\", \"Topic19\", \"Topic19\", \"Topic19\", \"Topic19\", \"Topic19\", \"Topic19\", \"Topic19\", \"Topic19\", \"Topic19\", \"Topic19\", \"Topic19\", \"Topic19\", \"Topic19\", \"Topic19\", \"Topic19\", \"Topic19\", \"Topic19\", \"Topic19\", \"Topic19\", \"Topic19\", \"Topic19\", \"Topic19\", \"Topic19\", \"Topic19\", \"Topic19\", \"Topic19\", \"Topic19\", \"Topic19\", \"Topic19\", \"Topic19\", \"Topic19\", \"Topic19\", \"Topic20\", \"Topic20\", \"Topic20\", \"Topic20\", \"Topic20\", \"Topic20\", \"Topic20\", \"Topic20\", \"Topic20\", \"Topic20\", \"Topic20\", \"Topic20\", \"Topic20\", \"Topic20\", \"Topic20\", \"Topic20\", \"Topic20\", \"Topic20\", \"Topic20\", \"Topic20\", \"Topic20\", \"Topic20\", \"Topic20\", \"Topic20\", \"Topic20\", \"Topic20\", \"Topic20\", \"Topic20\", \"Topic20\", \"Topic20\", \"Topic20\", \"Topic20\", \"Topic20\", \"Topic20\", \"Topic20\", \"Topic20\", \"Topic20\", \"Topic20\", \"Topic20\", \"Topic20\", \"Topic20\", \"Topic20\", \"Topic20\", \"Topic20\", \"Topic20\", \"Topic20\", \"Topic20\", \"Topic21\", \"Topic21\", \"Topic21\", \"Topic21\", \"Topic21\", \"Topic21\", \"Topic21\", \"Topic21\", \"Topic21\", \"Topic21\", \"Topic21\", \"Topic21\", \"Topic21\", \"Topic21\", \"Topic21\", \"Topic21\", \"Topic21\", \"Topic21\", \"Topic21\", \"Topic21\", \"Topic21\", \"Topic21\", \"Topic21\", \"Topic21\", \"Topic21\", \"Topic21\", \"Topic21\", \"Topic21\", \"Topic21\", \"Topic21\", \"Topic21\", \"Topic21\", \"Topic21\", \"Topic21\", \"Topic21\", \"Topic21\", \"Topic21\", \"Topic21\", \"Topic21\", \"Topic21\", \"Topic21\", \"Topic21\", \"Topic21\", \"Topic21\", \"Topic21\", \"Topic21\", \"Topic21\", \"Topic21\", \"Topic22\", \"Topic22\", \"Topic22\", \"Topic22\", \"Topic22\", \"Topic22\", \"Topic22\", \"Topic22\", \"Topic22\", \"Topic22\", \"Topic22\", \"Topic22\", \"Topic22\", \"Topic22\", \"Topic22\", \"Topic22\", \"Topic22\", \"Topic22\", \"Topic22\", \"Topic22\", \"Topic22\", \"Topic22\", \"Topic22\", \"Topic22\", \"Topic22\", \"Topic22\", \"Topic22\", \"Topic22\", \"Topic22\", \"Topic22\", \"Topic22\", \"Topic22\", \"Topic22\", \"Topic22\", \"Topic22\", \"Topic22\", \"Topic22\", \"Topic22\", \"Topic22\", \"Topic22\", \"Topic22\", \"Topic22\", \"Topic22\", \"Topic22\", \"Topic22\", \"Topic22\", \"Topic22\", \"Topic23\", \"Topic23\", \"Topic23\", \"Topic23\", \"Topic23\", \"Topic23\", \"Topic23\", \"Topic23\", \"Topic23\", \"Topic23\", \"Topic23\", \"Topic23\", \"Topic23\", \"Topic23\", \"Topic23\", \"Topic23\", \"Topic23\", \"Topic23\", \"Topic23\", \"Topic23\", \"Topic23\", \"Topic23\", \"Topic23\", \"Topic23\", \"Topic23\", \"Topic23\", \"Topic23\", \"Topic23\", \"Topic23\", \"Topic23\", \"Topic23\", \"Topic23\", \"Topic23\", \"Topic23\", \"Topic23\", \"Topic23\", \"Topic23\", \"Topic23\", \"Topic23\", \"Topic23\", \"Topic23\", \"Topic23\", \"Topic23\", \"Topic23\", \"Topic23\", \"Topic23\", \"Topic23\", \"Topic23\", \"Topic23\", \"Topic23\", \"Topic24\", \"Topic24\", \"Topic24\", \"Topic24\", \"Topic24\", \"Topic24\", \"Topic24\", \"Topic24\", \"Topic24\", \"Topic24\", \"Topic24\", \"Topic24\", \"Topic24\", \"Topic24\", \"Topic24\", \"Topic24\", \"Topic24\", \"Topic24\", \"Topic24\", \"Topic24\", \"Topic24\", \"Topic24\", \"Topic24\", \"Topic24\", \"Topic24\", \"Topic24\", \"Topic24\", \"Topic24\", \"Topic24\", \"Topic24\", \"Topic24\", \"Topic24\", \"Topic24\", \"Topic24\", \"Topic24\", \"Topic24\", \"Topic24\", \"Topic24\", \"Topic24\", \"Topic24\", \"Topic24\", \"Topic24\", \"Topic24\", \"Topic24\", \"Topic24\", \"Topic24\", \"Topic24\", \"Topic24\", \"Topic24\", \"Topic24\", \"Topic24\", \"Topic24\", \"Topic24\", \"Topic25\", \"Topic25\", \"Topic25\", \"Topic25\", \"Topic25\", \"Topic25\", \"Topic25\", \"Topic25\", \"Topic25\", \"Topic25\", \"Topic25\", \"Topic25\", \"Topic25\", \"Topic25\", \"Topic25\", \"Topic25\", \"Topic25\", \"Topic25\", \"Topic25\", \"Topic25\", \"Topic25\", \"Topic25\", \"Topic25\", \"Topic25\", \"Topic25\", \"Topic25\", \"Topic25\", \"Topic25\", \"Topic25\", \"Topic25\", \"Topic25\", \"Topic25\", \"Topic25\", \"Topic25\", \"Topic25\", \"Topic25\", \"Topic25\", \"Topic25\", \"Topic25\", \"Topic25\", \"Topic25\", \"Topic25\", \"Topic25\", \"Topic25\", \"Topic25\", \"Topic25\", \"Topic25\", \"Topic25\", \"Topic25\", \"Topic25\", \"Topic25\", \"Topic25\", \"Topic25\", \"Topic25\", \"Topic25\"], \"logprob\": [30.0, 29.0, 28.0, 27.0, 26.0, 25.0, 24.0, 23.0, 22.0, 21.0, 20.0, 19.0, 18.0, 17.0, 16.0, 15.0, 14.0, 13.0, 12.0, 11.0, 10.0, 9.0, 8.0, 7.0, 6.0, 5.0, 4.0, 3.0, 2.0, 1.0, -2.5188, -3.0741, -3.0741, -1.424, -3.3585, -4.4312, -4.4312, -4.4312, -4.4312, -4.4312, -4.4312, -4.4312, -4.4312, -4.4312, -4.4312, -4.4312, -4.4312, -4.4312, -4.4312, -3.7574, -4.4312, -4.4312, -4.4312, -4.4312, -4.4312, -3.7574, -3.5867, -4.4312, -2.7292, -2.853, -4.0608, -2.1755, -2.0706, -2.9809, -3.2653, -3.0422, -1.9959, -4.3379, -4.3379, -4.3379, -4.3379, -4.3379, -4.3379, -4.3379, -4.3379, -4.3379, -4.3379, -3.6642, -4.3379, -4.3379, -3.3988, -4.3379, -2.1163, -4.3379, -4.3175, -7.596, -7.596, -7.596, -7.596, -7.596, -7.596, -7.596, -7.596, -7.596, -7.596, -7.596, -7.596, -7.596, -7.596, -1.4919, -1.4919, -3.0908, -1.8982, -4.1634, -4.1634, -4.1634, -4.1634, -3.4897, -3.4897, -2.4042, -7.4215, -7.4215, -7.4215, -7.4215, -7.4215, -7.4215, -7.4215, -7.4215, -7.4215, -7.4215, -7.4215, -7.4215, -7.4215, -7.4215, -7.4215, -7.4215, -7.4215, -7.4215, -7.4215, -7.35, -7.4215, -7.4215, -7.4215, -7.4215, -7.4215, -7.4215, -7.4215, -7.4215, -7.4215, -7.4215, -7.4215, -7.4215, -7.4215, -7.4215, -7.4215, -7.4215, -7.4215, -2.9746, -1.8848, -3.3735, -2.4949, -4.0472, -4.0472, -4.0472, -4.0472, -4.0472, -4.0472, -2.3182, -3.3735, -2.6122, -4.0472, -3.8322, -2.2498, -2.6554, -7.3053, -7.3053, -7.3053, -7.3053, -7.3053, -7.3053, -7.3053, -7.3053, -7.3053, -7.3053, -7.3053, -7.3053, -7.3053, -7.3053, -7.3053, -7.3053, -7.3053, -7.3053, -7.3053, -7.3053, -7.3053, -7.3053, -7.3053, -7.3053, -7.3053, -7.3053, -7.3053, -2.4589, -1.4445, -3.3634, -4.0371, -4.0371, -4.0371, -4.0371, -4.0371, -4.0371, -3.3634, -4.0371, -2.4589, -4.0371, -2.4195, -4.0371, -4.0371, -2.8308, -3.1241, -7.2952, -7.2952, -7.2952, -7.2952, -7.2952, -7.2952, -7.2952, -7.2952, -7.2952, -7.2952, -7.2952, -7.2952, -7.2952, -7.2952, -7.2952, -7.2952, -7.2952, -7.2952, -7.2952, -7.2952, -7.2952, -7.2952, -7.2952, -7.2952, -7.2952, -2.2037, -1.7029, -3.9629, -3.9629, -3.9629, -3.9629, -3.9629, -3.9629, -3.9629, -3.9629, -3.9629, -3.9629, -3.9629, -3.9629, -3.9629, -2.8903, -3.9629, -3.8464, -3.2221, -1.9637, -3.9629, -7.221, -7.221, -7.221, -7.221, -7.221, -7.221, -7.221, -7.221, -7.221, -7.221, -7.221, -7.221, -7.221, -7.221, -7.221, -7.221, -7.221, -7.221, -7.221, -1.1739, -1.3111, -3.9702, -3.9702, -3.9702, -3.9702, -3.2965, -3.9702, -3.9702, -3.9702, -3.9702, -3.9702, -3.6306, -3.9702, -7.2283, -7.2283, -7.2283, -7.2283, -7.2283, -7.2283, -7.2283, -7.2283, -7.2283, -7.2283, -7.2283, -7.2283, -7.2283, -7.2283, -7.2283, -7.2283, -7.2283, -7.2283, -7.2283, -7.2283, -7.2283, -7.2283, -7.2283, -7.2283, -7.2283, -7.2283, -7.2283, -7.2283, -7.2283, -7.2283, -7.2283, -7.2283, -7.2283, -7.2283, -2.1772, -3.2627, -3.2627, -3.9364, -3.9364, -3.9364, -3.9364, -3.9364, -3.9364, -3.9364, -3.9364, -3.9364, -3.9364, -3.9364, -2.8637, -3.9364, -3.9364, -3.9364, -3.9364, -2.3582, -1.9954, -3.2033, -3.868, -7.1945, -7.1945, -7.1945, -7.1945, -7.1945, -7.1945, -7.1945, -7.1945, -7.1945, -7.1945, -7.1945, -7.1945, -7.1945, -7.1945, -7.1945, -3.9227, -3.9227, -3.9227, -3.9227, -3.9227, -3.249, -3.249, -3.249, -0.7147, -3.9227, -3.9227, -3.9227, -3.9227, -3.249, -7.1808, -7.1808, -7.1808, -7.1808, -7.1808, -7.1808, -7.1808, -7.1808, -7.1808, -7.1808, -7.1808, -7.1808, -7.1808, -7.1808, -7.1808, -7.1808, -7.1808, -7.1808, -7.1808, -7.1808, -7.1808, -7.1808, -7.1808, -7.1808, -7.1808, -7.1808, -7.1808, -7.1808, -7.1808, -7.1808, -7.1808, -7.1808, -7.1808, -7.1808, -1.9171, -2.0703, -2.7568, -2.0703, -3.1557, -3.8295, -3.8295, -3.8295, -3.8295, -3.8295, -3.1557, -3.8295, -2.4725, -3.1557, -7.0876, -7.0876, -7.0876, -7.0876, -7.0876, -7.0876, -7.0876, -7.0876, -7.0876, -7.0876, -7.0876, -7.0876, -7.0876, -7.0876, -7.0876, -7.0876, -7.0876, -7.0876, -7.0876, -7.0876, -7.0876, -7.0876, -7.0876, -7.0876, -7.0876, -7.0876, -7.0876, -7.0876, -7.0876, -7.0876, -7.0876, -7.0876, -7.0876, -3.8523, -3.8523, -3.8523, -3.8523, -3.8523, -3.8523, -3.8523, -3.8523, -2.8246, -3.1786, -3.8523, -3.8523, -3.8523, -3.8523, -3.8523, -3.8523, -3.8523, -3.6445, -1.4033, -3.8523, -3.8523, -3.1786, -3.1786, -7.1104, -7.1104, -7.1104, -7.1104, -7.1104, -7.1104, -7.1104, -7.1104, -7.1104, -7.1104, -7.1104, -7.1104, -7.1104, -7.1104, -7.1104, -2.4738, -1.3275, -3.8308, -3.8308, -3.8308, -3.8308, -2.7582, -3.7101, -3.8308, -3.1571, -3.8308, -3.8308, -3.0461, -2.7582, -3.8308, -3.8132, -7.0889, -7.0889, -7.0889, -7.0889, -7.0889, -7.0889, -7.0889, -7.0889, -7.0889, -7.0889, -7.0889, -7.0889, -7.0889, -7.0889, -3.8308, -7.0888, -7.0889, -7.0889, -7.0889, -7.0889, -7.0889, -7.0889, -7.0889, -7.0889, -7.0889, -7.0889, -7.0889, -7.0889, -3.0333, -2.6344, -3.707, -3.707, -3.707, -3.707, -3.707, -3.0333, -2.35, -3.707, -3.707, -3.0333, -3.0333, -3.707, -3.707, -2.1288, -2.4872, -6.9651, -6.9651, -6.9651, -6.9651, -6.9651, -6.9651, -6.9651, -6.9651, -6.9651, -6.9651, -6.9651, -6.9651, -6.9651, -6.9651, -6.9651, -6.9651, -6.9651, -6.9651, -6.9651, -6.9651, -6.9651, -6.9651, -6.9651, -6.9651, -6.9651, -6.9651, -1.1976, -2.2896, -2.9729, -2.9729, -3.6467, -3.6467, -3.6467, -3.6467, -3.6467, -3.6467, -2.9729, -2.9729, -6.9048, -6.9048, -6.9048, -6.9048, -6.9048, -6.9048, -6.9048, -6.9048, -6.9048, -6.9048, -6.9048, -6.9048, -6.9048, -6.9048, -6.9048, -6.9048, -6.9048, -6.9048, -6.9048, -6.9048, -6.9048, -6.9048, -6.9048, -6.9048, -6.9048, -6.9048, -6.9048, -6.9048, -6.9048, -6.9048, -6.9048, -6.9048, -6.9048, -6.9048, -2.5191, -2.0644, -3.5918, -3.5918, -3.5918, -3.5918, -3.5918, -3.5918, -3.5918, -1.3343, -3.5918, -2.8163, -6.8499, -6.8499, -6.8499, -6.8499, -6.8499, -6.8499, -6.8499, -6.8499, -6.8499, -6.8499, -6.8499, -6.8499, -6.8499, -6.8499, -6.8499, -6.8499, -6.8499, -6.8499, -6.8499, -6.8499, -6.8499, -6.8499, -6.8499, -6.8499, -6.8499, -6.8499, -6.8499, -6.8499, -6.8499, -6.8499, -6.8499, -6.8499, -6.8499, -6.8499, -6.8499, -6.8499, -2.8255, -2.8255, -2.8255, -3.4992, -3.4992, -3.4992, -3.4992, -3.4992, -3.4992, -3.4992, -3.4992, -3.4992, -3.4992, -3.4992, -3.4992, -3.4992, -2.0182, -6.7573, -6.7573, -6.7573, -6.7573, -6.7573, -6.7573, -6.7573, -6.7573, -6.7573, -6.7573, -6.7573, -6.7573, -6.7573, -3.4992, -6.7573, -6.7573, -6.7573, -6.7573, -6.7573, -6.7573, -6.7573, -6.7573, -6.7573, -6.7573, -6.7573, -6.7573, -2.7998, -3.4736, -3.4736, -3.4736, -3.4736, -3.4736, -3.4736, -3.4736, -2.7998, -2.7998, -2.4009, -3.4736, -3.4736, -2.2041, -2.7998, -6.7317, -6.7317, -6.7317, -6.7317, -6.7317, -6.7317, -6.7317, -6.7317, -6.7317, -6.7317, -6.7317, -6.7317, -6.7317, -6.7317, -6.7317, -6.7317, -6.7317, -6.7317, -6.7317, -6.7317, -6.7317, -6.7317, -6.7317, -6.7317, -6.7317, -6.7317, -6.7317, -6.7317, -6.7317, -6.7317, -2.11, -2.7933, -2.7933, -2.7933, -3.467, -3.467, -3.467, -3.467, -3.467, -3.467, -3.467, -3.467, -3.467, -2.5966, -3.467, -6.7251, -6.7251, -6.7251, -6.7251, -6.7251, -6.7251, -6.7251, -6.7251, -6.7251, -6.7251, -6.7251, -6.7251, -6.7251, -6.7251, -6.7251, -3.467, -6.7251, -6.7251, -6.7251, -6.7251, -6.7251, -6.7251, -6.7251, -6.7251, -6.7251, -6.7251, -6.7251, -6.7251, -6.7251, -2.7549, -3.4286, -3.4286, -3.4286, -3.4286, -3.4286, -3.4286, -3.4286, -3.4286, -3.4286, -3.4286, -2.7549, -2.356, -3.4286, -3.4286, -3.4286, -2.7549, -6.6867, -6.6867, -6.6867, -6.6867, -6.6867, -6.6867, -6.6867, -6.6867, -6.6867, -6.6867, -6.6867, -6.6867, -6.6867, -4.9492, -6.6867, -6.6867, -6.6867, -6.6867, -6.6867, -6.6867, -6.6867, -6.6867, -6.6867, -6.6867, -6.6867, -6.6867, -2.2009, -2.5998, -3.2735, -2.8306, -3.2735, -3.2735, -3.2735, -3.2735, -3.2735, -2.2009, -3.2735, -3.2735, -6.5316, -6.5316, -6.5316, -6.5316, -6.5316, -6.5316, -6.5316, -6.5316, -6.5316, -6.5316, -6.5316, -6.5316, -6.5316, -6.5316, -6.5316, -6.5316, -6.5316, -6.5316, -6.5316, -6.5316, -6.5316, -6.5316, -6.5316, -6.5316, -6.5316, -6.5316, -6.5316, -6.5316, -6.5316, -6.5316, -6.5316, -6.5316, -6.5316, -6.5316, -6.5316, -3.2887, -3.2887, -3.2887, -3.2887, -2.615, -2.2161, -3.2887, -3.2887, -3.2887, -3.2887, -3.2887, -2.2161, -3.2887, -6.5468, -6.5468, -6.5468, -6.5468, -6.5468, -6.5468, -6.5468, -6.5468, -6.5468, -6.5468, -6.5468, -6.5468, -6.5468, -6.5468, -6.5468, -6.5468, -6.5468, -6.5468, -6.5466, -6.5468, -6.5468, -6.5468, -6.5468, -6.5468, -6.5468, -6.5468, -6.5468, -6.5468, -6.5468, -6.5468, -6.5468, -6.5468, -6.5468, -6.5468, -6.5468, -3.1748, -3.1748, -3.1748, -3.1748, -3.1748, -3.1748, -3.1748, -3.1748, -3.1748, -3.1748, -3.1748, -3.1748, -3.1748, -2.5011, -6.4329, -6.4329, -6.4329, -6.4329, -6.4329, -6.4329, -6.4329, -6.4329, -6.4329, -6.4329, -6.4329, -6.4329, -6.4329, -6.4329, -6.4329, -6.4329, -6.4329, -6.4329, -6.4329, -6.4329, -6.4329, -6.4329, -6.4329, -6.4329, -6.4329, -6.4329, -6.4329, -6.4329, -6.4329, -6.4329, -6.4329, -6.4329, -6.4329, -2.5405, -1.8572, -3.2142, -3.2142, -3.2142, -3.2142, -3.2142, -2.1416, -2.5405, -6.4723, -6.4723, -6.4723, -6.4723, -6.4723, -6.4723, -6.4723, -6.4723, -6.4723, -6.4723, -6.4723, -6.4723, -6.4723, -6.4723, -6.4723, -6.4723, -6.4723, -6.4723, -6.4723, -6.4723, -6.4723, -6.4723, -6.4723, -6.4723, -6.4723, -6.4723, -6.4723, -6.4723, -6.4723, -6.4723, -6.4723, -6.4723, -6.4723, -6.4723, -6.4723, -6.4723, -6.4723, -6.4723, -6.4723, -6.4723, -6.4723, -1.3746, -3.1338, -3.1338, -3.1338, -3.1338, -2.0612, -6.3919, -6.3919, -6.3919, -6.3919, -6.3919, -6.3919, -6.3919, -6.3919, -6.3919, -6.3919, -6.3919, -6.3919, -6.3919, -6.3919, -6.3919, -6.3919, -6.3919, -6.3919, -6.3919, -6.3919, -6.3919, -6.3919, -6.3919, -6.3919, -3.1338, -6.3919, -6.3919, -6.3919, -6.3919, -6.3919, -6.3919, -6.3919, -6.3919, -6.3919, -6.3919, -6.3919, -6.3919, -6.3919, -6.3919, -6.3919, -6.3919, -6.3919, -6.3919, -6.3919, -6.3919, -6.3919, -6.3919, -2.5912, -2.5912, -2.5912, -5.8493, -5.8493, -5.8493, -5.8493, -5.8493, -5.8493, -5.8493, -5.8493, -5.8493, -5.8493, -5.8493, -5.8493, -5.8493, -5.8493, -5.8493, -5.8493, -5.8493, -5.8493, -5.8493, -5.8493, -5.8493, -5.8493, -5.8493, -5.8493, -5.8493, -5.8493, -5.8493, -2.5912, -5.8493, -5.8493, -5.8493, -5.8493, -5.8493, -5.8493, -5.8493, -5.8493, -5.8493, -5.8493, -5.8493, -5.8493, -5.8493, -5.8493, -5.8493, -5.8493, -5.8493, -5.8493, -5.8493, -5.8493, -5.8493, -5.8493, -5.8493, -5.8493], \"loglift\": [30.0, 29.0, 28.0, 27.0, 26.0, 25.0, 24.0, 23.0, 22.0, 21.0, 20.0, 19.0, 18.0, 17.0, 16.0, 15.0, 14.0, 13.0, 12.0, 11.0, 10.0, 9.0, 8.0, 7.0, 6.0, 5.0, 4.0, 3.0, 2.0, 1.0, 2.4305, 2.3436, 2.3436, 2.3426, 2.2813, 1.8966, 1.8966, 1.8966, 1.8966, 1.8966, 1.8966, 1.8966, 1.8966, 1.8966, 1.8966, 1.8966, 1.8966, 1.8966, 1.8966, 1.8676, 1.493, 1.4882, 1.4837, 1.2077, 0.9832, 0.9558, 0.9327, 0.6095, 0.5139, 0.038, -1.2789, 2.4734, 2.3993, 2.3675, 2.3095, 2.1379, 1.9965, 1.9462, 1.9462, 1.9462, 1.9462, 1.9462, 1.9462, 1.9462, 1.9462, 1.9462, 1.9462, 1.9239, 1.5394, 1.286, 1.1207, 0.7027, 0.6656, 0.5657, 0.0779, -1.2507, -1.2507, -1.2507, -1.2507, -1.2551, -1.2551, -1.2551, -1.2551, -3.8294, -1.2667, -1.2778, -1.2778, -1.6889, -1.6739, 2.7814, 2.7814, 2.5617, 2.4972, 2.1727, 2.1727, 2.1727, 2.1727, 2.1652, 2.1593, 0.4868, -1.0762, -1.0762, -1.0762, -1.0762, -1.0806, -1.0806, -1.0806, -1.0806, -1.0806, -1.0806, -1.0875, -1.0875, -1.0875, -1.0875, -1.0875, -1.0922, -1.0922, -1.0922, -1.0922, -4.5681, -1.1373, -1.1101, -2.3564, -1.1101, -1.1122, -1.5203, -1.8164, -3.5177, -4.1784, -2.5178, -2.3788, -3.0052, -1.4945, -2.5128, -2.9451, -1.1033, -1.1176, 2.617, 2.5315, 2.5094, 2.4113, 2.2483, 2.2483, 2.2483, 1.8683, 1.5778, 1.5511, 1.4376, 1.3397, 1.2916, 0.9934, 0.985, 0.5321, 0.2356, -0.96, -0.96, -0.96, -0.96, -0.9644, -0.9644, -0.9644, -0.9644, -0.9644, -0.9644, -0.9692, -0.9692, -0.9692, -0.9692, -1.0015, -2.0521, -2.3886, -0.98, -2.7859, -2.2271, -2.9099, -4.0622, -1.3783, -3.3129, -3.1635, -0.9871, -2.8289, 2.7993, 2.7734, 2.58, 2.3038, 2.3038, 2.3038, 2.3038, 2.3038, 2.3038, 2.0624, 1.8943, 1.6829, 1.6178, 1.573, 1.3772, 0.6761, 0.4124, -0.3422, -0.9499, -0.9499, -0.9499, -0.9499, -0.959, -0.959, -0.959, -0.959, -0.9612, -0.9612, -0.9612, -0.9612, -0.9612, -0.9703, -0.9674, -0.977, -1.371, -0.9674, -0.9674, -2.3915, -2.389, -2.3864, -1.6696, -1.7204, -1.6968, 2.8745, 2.4389, 2.3624, 2.3624, 2.3624, 2.3624, 2.3624, 2.3624, 2.3624, 2.3624, 2.3624, 1.9612, 1.9592, 1.9581, 1.6933, 1.6292, 1.2903, 1.0597, 0.9959, 0.9273, 0.8542, -0.8757, -0.8757, -0.8757, -0.8757, -0.8801, -0.8801, -0.8801, -0.8801, -0.8801, -0.8801, -1.308, -1.3198, -2.1559, -2.1496, -2.8047, -3.0783, -2.1783, -3.4653, -3.3173, 2.9688, 2.4447, 2.3591, 2.3591, 2.3591, 2.3591, 2.3285, 1.9576, 1.9545, 1.937, 1.6788, 1.6674, 1.592, 1.2587, -0.883, -0.883, -0.883, -0.883, -0.8874, -0.8874, -0.8874, -0.8874, -0.8874, -0.8874, -0.8922, -0.8922, -0.8922, -0.8922, -0.8943, -0.8943, -0.8943, -0.8943, -0.9259, -1.6027, -0.9036, -0.9036, -0.9101, -1.3271, -3.0103, -2.1632, -1.5885, -4.4464, -1.6535, -1.8106, -1.8799, -1.6299, -3.3246, -2.3247, 2.7569, 2.6504, 2.6504, 2.3818, 2.3818, 2.3818, 2.3818, 2.3818, 2.3818, 2.3818, 2.3818, 2.3818, 2.3818, 2.3818, 2.2014, 1.983, 1.981, 1.9707, 1.6643, 0.8849, 0.7864, 0.5524, 0.2738, -0.8492, -0.8492, -0.8492, -0.8492, -0.8536, -0.8536, -0.8536, -0.8536, -2.0143, -2.9765, -4.3035, -2.5456, -3.0518, -2.7246, -3.2021, 2.4004, 2.4004, 2.4004, 2.4004, 2.4004, 2.3922, 2.3766, 2.3745, 2.0672, 2.0087, 1.9983, 1.7012, 0.7904, -0.358, -0.8356, -0.8356, -0.8356, -0.8356, -0.8399, -0.8399, -0.8399, -0.8399, -0.8399, -0.8399, -0.8447, -0.8447, -0.8447, -0.8447, -0.8468, -0.8468, -0.8468, -0.8468, -0.8468, -0.877, -0.8822, -1.7665, -0.8531, -1.5558, -2.7855, -1.7631, -1.5247, -3.9377, -1.5318, -2.9629, -2.532, -2.711, -3.0381, -1.5697, 2.9917, 2.9724, 2.8482, 2.8334, 2.7391, 2.4751, 2.4751, 2.4751, 2.4751, 2.0787, 1.8849, 1.794, 1.4313, 0.0874, -0.7423, -0.7423, -0.7423, -0.7423, -0.7467, -0.7467, -0.7467, -0.7467, -0.7467, -0.7467, -0.7514, -0.7514, -0.7514, -0.7514, -0.7536, -0.7536, -0.7536, -0.7536, -0.7536, -1.4327, -0.7852, -1.6693, -1.4314, -0.7623, -1.6733, -3.0952, -4.1966, -1.8587, -2.8142, -2.8142, -3.3318, -0.7723, -1.1769, 2.4724, 2.4724, 2.4724, 2.4724, 2.4724, 2.4724, 2.4724, 2.4724, 2.4043, 2.2472, 2.0724, 2.0698, 2.065, 2.0559, 2.0554, 1.762, 1.566, 1.5357, 1.4877, 1.0818, 0.8609, 0.588, 0.0645, -0.7651, -0.7651, -0.7651, -0.7651, -0.7695, -0.7695, -0.7695, -0.7695, -2.2068, -3.2067, -2.4615, -2.6406, -3.3547, -2.9677, -0.7922, 2.9239, 2.5763, 2.4845, 2.4845, 2.4845, 2.4845, 2.1586, 1.5188, 1.3688, 1.3624, 1.2343, 1.0754, 0.7096, 0.4849, 0.311, 0.1793, -0.7436, -0.7436, -0.7436, -0.7436, -0.748, -0.748, -0.748, -0.748, -0.748, -0.748, -0.7528, -0.7528, -0.7528, -0.7528, -0.9398, -2.8708, -0.785, -1.1642, -0.7596, -1.8306, -4.307, -2.6935, -2.6125, -1.5141, -1.7405, -2.6726, -0.7707, -0.785, 2.8886, 2.7724, 2.6178, 2.6178, 2.6178, 2.6178, 2.6178, 2.6043, 2.5953, 1.9058, 1.7073, 1.383, 1.3621, 1.3581, 0.8124, 0.7621, 0.2946, -0.6198, -0.6198, -0.6198, -0.6198, -0.6242, -0.6242, -0.6242, -0.6242, -0.6242, -0.6242, -0.629, -0.629, -0.629, -0.629, -2.9727, -3.722, -2.7472, -1.0732, -1.031, -0.6469, -1.8869, -0.681, -0.6612, -0.681, -1.0544, -0.6469, 3.2788, 3.1381, 2.9612, 2.9612, 2.6873, 2.6873, 2.6873, 2.6873, 2.6873, 2.2709, 1.9724, -0.0819, -0.5595, -0.5595, -0.5595, -0.5595, -0.5638, -0.5638, -0.5638, -0.5638, -0.5638, -0.5638, -0.5686, -0.5686, -0.5686, -0.5686, -0.5755, -0.5755, -0.5755, -0.5755, -0.577, -1.4865, -0.5895, -0.5895, -0.577, -0.577, -0.6009, -1.6822, -3.6616, -4.1229, -0.576, -2.1916, -0.58, -0.994, -0.5865, -0.6009, 2.8992, 2.7528, 2.7375, 2.7375, 2.7375, 2.7375, 2.336, 2.319, 2.3154, 1.9088, 1.8265, 0.0747, -0.5046, -0.5046, -0.5046, -0.5046, -0.509, -0.509, -0.509, -0.509, -0.509, -0.509, -0.5137, -0.5137, -0.5137, -0.5137, -0.5159, -0.5159, -0.5159, -0.5159, -0.5159, -1.2122, -1.4321, -3.0833, -2.8575, -2.4545, -2.9461, -2.4336, -4.068, -1.8071, -1.9411, -0.9158, -0.5316, -0.9184, -0.5245, -2.6319, -0.5657, -1.7717, 3.0785, 3.0785, 3.0785, 2.8122, 2.8122, 2.8122, 2.8122, 2.8122, 2.8122, 2.4156, 2.0889, 1.5722, 1.5659, 1.4461, 1.4175, 0.9706, 0.7636, -0.412, -0.412, -0.412, -0.412, -0.4164, -0.4164, -0.4164, -0.4164, -0.4164, -0.4164, -0.4212, -0.4212, -0.4212, -0.6082, -0.4212, -2.7649, -2.484, -2.484, -1.1657, -2.2809, -2.0441, -0.4731, -0.4618, -0.4731, -0.4549, -0.4326, 3.0921, 2.8288, 2.8288, 2.8288, 2.8288, 2.8288, 2.8288, 2.8288, 2.813, 2.7986, 2.5158, 1.726, 1.5979, 0.5778, 0.4433, -0.3864, -0.3864, -0.3864, -0.3864, -0.3907, -0.3907, -0.3907, -0.3907, -0.3907, -0.3907, -0.3955, -0.3955, -0.3955, -0.3955, -0.3977, -0.3977, -1.1436, -1.6534, -2.5137, -2.5889, -0.8368, -2.0828, -2.2618, -1.1266, -1.828, -2.9759, -0.4475, -0.7883, -0.4069, -0.4475, 3.2782, 3.1079, 3.1079, 3.1079, 2.8423, 2.8423, 2.8423, 2.4544, 2.4505, 2.44, 1.9473, 1.9397, 0.5254, 0.1852, -0.2239, -0.3798, -0.3798, -0.3798, -0.3798, -0.3842, -0.3842, -0.3842, -0.3842, -0.3842, -0.3842, -0.389, -0.389, -0.389, -0.389, -0.3911, -0.576, -2.9586, -1.6469, -1.6216, -2.5833, -2.4518, -2.4518, -2.9694, -2.5824, -0.7937, -0.7817, -0.3964, -0.4069, -0.4069, 3.139, 2.8753, 2.8753, 2.8753, 2.8753, 2.8753, 2.8753, 2.8753, 2.8753, 2.8753, 2.8753, 2.8594, 2.8436, 2.4821, 2.4791, 1.612, 0.1361, -0.3414, -0.3414, -0.3414, -0.3414, -0.3458, -0.3458, -0.3458, -0.3458, -0.3458, -0.3458, -0.3506, -0.3506, -0.3506, -2.1674, -0.3506, -1.7806, -2.931, -2.783, -2.2103, -0.3685, -0.4025, -0.3714, -0.362, -0.3685, -0.7948, -0.3589, 3.4103, 3.3005, 3.0352, 2.392, 2.3654, 2.3521, 2.3272, 1.4397, 1.1428, 0.6901, 0.4931, -0.0304, -0.1863, -0.1863, -0.1863, -0.1863, -0.1907, -0.1907, -0.1907, -0.1907, -0.1907, -0.1907, -0.1954, -0.1954, -0.1954, -0.1954, -0.1976, -0.1976, -0.1976, -0.1976, -0.1976, -2.7758, -3.7497, -2.3889, -0.2134, -0.2474, -1.4534, -0.6396, -0.5975, -0.2474, -2.3136, -0.2277, -0.2069, -0.6209, -0.2277, -2.0552, -0.2163, 3.0566, 3.0566, 3.0566, 3.0566, 3.0412, 3.0372, 2.6268, 2.3502, 2.3353, 2.1296, 1.9339, 1.0271, 0.7037, -0.2059, -0.2059, -0.2059, -0.2059, -0.2059, -0.2059, -0.2106, -0.2106, -0.2106, -0.2106, -0.2128, -0.2128, -0.2128, -0.2128, -0.2128, -0.2175, -0.2175, -0.2175, -0.9231, -2.0704, -2.7802, -3.7649, -2.2734, -2.2734, -0.2181, -0.6154, -0.2626, -1.4686, -0.2286, -0.6127, -0.6548, -0.2286, -0.2626, -0.2626, -0.6127, 3.1238, 3.1238, 3.1238, 3.1238, 3.1238, 3.1238, 2.7323, 2.7323, 2.7025, 2.4502, 2.2434, 2.0477, 1.6423, 0.3899, -0.0876, -0.0876, -0.0876, -0.0876, -0.092, -0.092, -0.092, -0.092, -0.092, -0.092, -0.0968, -0.0968, -0.0968, -0.0968, -0.0989, -0.0989, -0.0989, -0.0989, -3.6511, -1.7841, -1.9631, -0.1488, -0.5222, -0.541, -0.4988, -0.1082, -1.3547, -0.1147, -0.1291, -0.1147, -0.1291, -0.1488, -0.1177, 3.3865, 3.2142, 3.1145, 3.1145, 3.1145, 3.1145, 2.039, 0.7494, 0.7026, -0.1271, -0.1271, -0.1271, -0.1271, -0.1314, -0.1314, -0.1314, -0.1314, -0.1314, -0.1314, -0.1362, -0.1362, -0.1362, -0.1362, -0.1383, -0.1383, -0.1383, -0.1383, -0.1383, -0.1431, -0.1431, -0.8474, -2.077, -2.056, -1.9529, -2.7058, -1.3941, -3.6905, -0.5382, -0.5804, -0.1882, -0.1541, -0.1882, -2.2544, -0.1541, -0.1476, -0.5616, -0.1685, -1.9959, -0.1571, -0.5382, 3.7289, 2.7876, 2.5074, 2.2845, 1.5794, 1.1819, -0.0466, -0.0466, -0.0466, -0.0466, -0.051, -0.051, -0.051, -0.051, -0.051, -0.051, -0.0558, -0.0558, -0.0558, -0.0558, -0.0579, -0.0579, -0.0579, -0.0579, -0.0579, -0.0626, -0.0626, -0.0626, -0.0626, -0.0626, -0.2428, -1.3137, -0.4578, -1.0037, -3.6101, -1.9155, -0.5, -0.0737, -0.4578, -0.1077, -0.1077, -2.1739, -0.0672, -0.088, -0.4812, -0.0737, -0.088, -0.0766, -0.0632, -0.4764, -0.0666, -0.0666, -0.4605, 3.6872, 3.0095, 1.1753, 0.496, 0.496, 0.496, 0.496, 0.4916, 0.4916, 0.4916, 0.4916, 0.4916, 0.4916, 0.4868, 0.4868, 0.4868, 0.4868, 0.4847, 0.4847, 0.4847, 0.4847, 0.4847, 0.48, 0.48, 0.48, 0.48, 0.48, 0.48, 0.48, 0.48, 0.2998, 0.4546, 0.0748, -1.6313, 0.4348, -0.7711, 0.0848, 0.0426, 0.4689, 0.4348, 0.4754, 0.0614, 0.4689, 0.4546, -1.3729, 0.466, 0.0848, 0.4794, 0.0662, 0.476, 0.476, 0.0821, 0.4689, 0.4794, 0.0941]}, \"token.table\": {\"Topic\": [16, 5, 8, 2, 13, 17, 4, 6, 15, 22, 6, 16, 17, 23, 4, 7, 7, 15, 8, 10, 13, 18, 6, 1, 16, 2, 4, 21, 18, 11, 19, 8, 20, 25, 13, 2, 22, 17, 1, 2, 4, 5, 8, 9, 13, 16, 17, 18, 1, 5, 8, 10, 11, 12, 15, 17, 18, 20, 21, 23, 24, 8, 1, 8, 1, 1, 3, 4, 6, 9, 11, 12, 13, 14, 15, 16, 18, 19, 20, 22, 23, 24, 25, 9, 15, 2, 16, 2, 3, 13, 1, 16, 1, 16, 1, 16, 19, 18, 19, 20, 6, 9, 20, 5, 11, 8, 8, 1, 2, 6, 12, 13, 3, 5, 7, 11, 12, 14, 4, 10, 12, 1, 9, 20, 1, 2, 11, 7, 11, 1, 2, 5, 23, 21, 8, 5, 9, 6, 6, 4, 21, 23, 14, 12, 14, 19, 8, 15, 19, 11, 21, 2, 8, 17, 14, 6, 2, 5, 6, 5, 1, 6, 2, 12, 14, 8, 3, 18, 13, 11, 19, 12, 16, 17, 17, 9, 1, 8, 4, 2, 12, 14, 6, 15, 8, 18, 7, 8, 1, 4, 5, 9, 11, 20, 24, 4, 2, 17, 19, 1, 11, 15, 2, 22, 6, 17, 7, 20, 21, 22, 19, 5, 10, 15, 21, 22, 24, 9, 24, 3, 6, 4, 7, 8, 12, 20, 13, 14, 16, 11, 3, 7, 13, 13, 18, 9, 10, 12, 14, 18, 7, 22, 4, 11, 7, 13, 5, 5, 22, 1, 11, 20, 25, 4, 8, 19, 1, 1, 5, 13, 18, 4, 13, 20, 13, 16, 22, 22, 11, 5, 6, 8, 12, 13, 1, 18, 24, 3, 19, 11, 19, 1, 15, 19, 2, 2, 17, 16, 18, 2, 14, 10, 8, 11, 17, 15, 2, 18, 1, 2, 4, 10, 19, 10, 11, 23, 5, 10, 1, 1, 12, 21, 6, 1, 22, 1, 10, 17, 6, 21, 23, 12, 17, 19, 14, 19, 25, 10, 24, 9, 6, 11, 2, 16, 11, 16, 11, 1, 20, 21, 1, 23, 8, 11, 9, 1, 3, 18, 7, 16, 16, 10, 15, 22, 9, 3, 7, 23, 6, 21, 5, 10, 2, 10, 22, 2, 9, 21, 2, 5, 12, 18, 21, 14, 1, 7, 3, 8, 12, 13, 16, 7, 4, 6, 12, 8, 6, 3, 4, 17, 22, 11, 19], \"Freq\": [0.6382762832350315, 0.6573729170522551, 0.6426248548266179, 0.6211105986455268, 0.3174159682348631, 0.6348319364697262, 0.14323759463287594, 0.14323759463287594, 0.5729503785315038, 0.14323759463287594, 0.6472029563178037, 0.18471059877491547, 0.18471059877491547, 0.5541317963247464, 0.3212875484618698, 0.6425750969237396, 0.43491133346877675, 0.43491133346877675, 0.8570528017834825, 0.6339206129878404, 0.8646629784090822, 0.6369447919982401, 0.6472029563178021, 0.6487976800642079, 0.8493354688229734, 0.7309753844936572, 0.83160424108956, 0.660258871433906, 0.8469794435488937, 0.6468151813195439, 0.6334738415354237, 0.31357149572178566, 0.31357149572178566, 0.31357149572178566, 0.6468939011602907, 0.6211105986455268, 0.6301485737787699, 0.6325298929399378, 0.018712759235414416, 0.14970207388331533, 0.09356379617707208, 0.03742551847082883, 0.11227655541248649, 0.37425518470828834, 0.056138277706243245, 0.07485103694165766, 0.056138277706243245, 0.03742551847082883, 0.11871764847174046, 0.08903823635380534, 0.11871764847174046, 0.05935882423587023, 0.05935882423587023, 0.05935882423587023, 0.23743529694348092, 0.05935882423587023, 0.029679412117935115, 0.029679412117935115, 0.05935882423587023, 0.05935882423587023, 0.05935882423587023, 0.6426248548267078, 0.6487976800640893, 0.6426248548266186, 0.6487976800640348, 0.0834817108499877, 0.10435213856248464, 0.06261128313749079, 0.12522256627498157, 0.04174085542499385, 0.18783384941247233, 0.020870427712496926, 0.0834817108499877, 0.04174085542499385, 0.04174085542499385, 0.020870427712496926, 0.020870427712496926, 0.04174085542499385, 0.04174085542499385, 0.04174085542499385, 0.04174085542499385, 0.020870427712496926, 0.020870427712496926, 0.6458090427407835, 0.6497756458467085, 0.6193016969739509, 0.30965084848697544, 0.09394659724103599, 0.7515727779282879, 0.18789319448207198, 0.7834373698542497, 0.8493354688229415, 0.6487976800640314, 0.6382762832350315, 0.4292996992575738, 0.4292996992575738, 0.6334738415354765, 0.8469794435490025, 0.840852965682006, 0.6337467977684915, 0.431984375477124, 0.431984375477124, 0.6365171384000955, 0.5265215469239852, 0.5265215469239852, 0.6426248548266186, 0.8570528017834608, 0.21270735620711104, 0.21270735620711104, 0.21270735620711104, 0.21270735620711104, 0.10635367810355552, 0.6620664372785112, 0.3310332186392556, 0.21621073882877667, 0.43242147765755334, 0.21621073882877667, 0.7913371806359414, 0.22984082702946906, 0.1723806202721018, 0.5746020675736727, 0.648797680064021, 0.6429574098207657, 0.32147870491038283, 0.8173614402198778, 0.6177782123870122, 0.20592607079567077, 0.43358305463145125, 0.43358305463145125, 0.6487976800640893, 0.6211105986455273, 0.8834874539666031, 0.6494046548809962, 0.6602588714338298, 0.6426248548266186, 0.43649161796242786, 0.43649161796242786, 0.6472029563177123, 0.6472029563178021, 0.42960420675316613, 0.42960420675316613, 0.649404654880999, 0.8753293257231286, 0.640739580189047, 0.9168853473057047, 0.6334738415352514, 0.6426248548261777, 0.4275454320648171, 0.4275454320648171, 0.6468151813195459, 0.6602588714337972, 0.6211105986455268, 0.6426248548267167, 0.8391906278492025, 0.8753293257231151, 0.9298214661016947, 0.6211105986455264, 0.7867424836255924, 0.15734849672511847, 0.6573729170522534, 0.4333195441142962, 0.4333195441142962, 0.6211105986457689, 0.6407395801892619, 0.6528455995625967, 0.6426248548266179, 0.9146890773456148, 0.8469794435488669, 0.646893901160297, 0.31787237590188094, 0.6357447518037619, 0.3164694711388044, 0.1582347355694022, 0.3164694711388044, 0.6325298929399379, 0.6458090427407512, 0.4312625293524113, 0.4312625293524113, 0.6214737914758534, 0.9684156535294591, 0.6407395801890471, 0.6528455995625967, 0.6472029563178021, 0.6497756458467076, 0.42599317421072613, 0.42599317421072613, 0.6497794713282329, 0.6426248548261777, 0.2581838419375448, 0.2581838419375448, 0.1290919209687724, 0.1290919209687724, 0.1290919209687724, 0.1290919209687724, 0.1290919209687724, 0.6282102906755362, 0.6211105986455264, 0.6325298929400198, 0.6334738415352495, 0.6487976800640314, 0.26129831722728186, 0.5225966344545637, 0.41351543944260294, 0.41351543944260294, 0.6472029563176753, 0.6325298929403244, 0.2148479420339236, 0.2148479420339236, 0.2148479420339236, 0.2148479420339236, 0.6334738415352495, 0.6573729170522534, 0.9418488181282093, 0.2612896092756303, 0.2612896092756303, 0.2612896092756303, 0.2612896092756303, 0.6531164079691996, 0.3265582039845998, 0.6604769810206534, 0.6472029563178037, 0.24777716853452006, 0.5451097707759441, 0.09911086741380802, 0.09911086741380802, 0.8462234150862201, 0.48846550914130854, 0.32564367276087236, 0.16282183638043618, 0.6468151813195444, 0.6542463164177778, 0.6497794713275159, 0.6468939011602923, 0.5165864365168705, 0.25829321825843526, 0.641630105937094, 0.320815052968547, 0.6407395801892619, 0.4304605297552738, 0.4304605297552738, 0.4260297624048202, 0.4260297624048202, 0.6282102906755369, 0.6468151813195443, 0.32537610391740307, 0.6507522078348061, 0.890590078387745, 0.6573729170522551, 0.6301485737787685, 0.8015178085625437, 0.10018972607031797, 0.05009486303515898, 0.05009486303515898, 0.6282102906755358, 0.6426248548266201, 0.6334738415351618, 0.6521831389528667, 0.2602546214538941, 0.2602546214538941, 0.2602546214538941, 0.2602546214538941, 0.6715317058417889, 0.19186620166908255, 0.09593310083454128, 0.6468939011602923, 0.6382762832350318, 0.6301485737787685, 0.630148573778769, 0.6468151813195896, 0.2916249739841252, 0.5832499479682504, 0.0729062434960313, 0.0729062434960313, 0.6468939011605057, 0.6487976800640832, 0.4321516470488662, 0.4321516470488662, 0.6542463164177786, 0.6334738415352495, 0.42626169875697384, 0.42626169875697384, 0.6487976800640832, 0.6497756458467093, 0.6334738415352495, 0.6211105986455264, 0.6211105986468621, 0.6325298929399378, 0.6382762832351485, 0.7606476161055306, 0.6211105986455264, 0.6528455995625951, 0.8416403167969306, 0.8050491763015937, 0.16100983526031876, 0.6325298929399379, 0.6497756458467071, 0.916662172415895, 0.6369447919982401, 0.17910118718986248, 0.17910118718986248, 0.17910118718986248, 0.35820237437972496, 0.17910118718986248, 0.42646394501117857, 0.42646394501117857, 0.6494046548809962, 0.6573729170520727, 0.6298935952860159, 0.6487976800641869, 0.6487976800640349, 0.7678890558315368, 0.660258871433906, 0.6472029563178021, 0.6426243575079915, 0.32131217875399576, 0.6487976800640314, 0.6339206129878395, 0.6325298929398366, 0.22153173156901823, 0.44306346313803646, 0.22153173156901823, 0.20995998977964123, 0.20995998977964123, 0.41991997955928245, 0.6528455995625957, 0.6334738415352495, 0.6175842547196563, 0.6339206129878395, 0.7629651250767966, 0.6458090427405978, 0.4324343227990195, 0.4324343227990195, 0.8096887221077973, 0.10121109026347466, 0.6468151813195896, 0.8493354688229747, 0.6468151813195439, 0.3257747856433959, 0.3257747856433959, 0.3257747856433959, 0.7834373698542771, 0.6494046548809954, 0.43038568406806565, 0.43038568406806565, 0.6458090427407528, 0.6487976800640349, 0.6542463164177778, 0.6369447919983632, 0.6497794713282318, 0.6382762832353389, 0.6382762832350315, 0.6339206129878404, 0.4260281179010289, 0.4260281179010289, 0.6458090427407512, 0.6581930939261147, 0.32909654696305735, 0.8691545625507173, 0.3314648703591252, 0.6629297407182504, 0.6573729170520727, 0.8974047862822734, 0.15617718795718974, 0.7808859397859488, 0.6301485737788819, 0.3209543714034404, 0.3209543714034404, 0.3209543714034404, 0.565087314685329, 0.25114991763792405, 0.06278747940948101, 0.06278747940948101, 0.06278747940948101, 0.6528455995625951, 0.6487976800640349, 0.6497794713282321, 0.9146890773456148, 0.3670848011299753, 0.18354240056498766, 0.18354240056498766, 0.18354240056498766, 0.9486137510141458, 0.6262739522520925, 0.15656848806302312, 0.15656848806302312, 0.6426248548266186, 0.6472029563178021, 0.6542463164177682, 0.3128504689104563, 0.6257009378209126, 0.6301485737787685, 0.6468151813195439, 0.6334738415352495], \"Term\": [\"add\", \"affected\", \"age\", \"amo\", \"animals\", \"animals\", \"antibiotics\", \"antibiotics\", \"antibiotics\", \"antibiotics\", \"ask\", \"avoid\", \"avoid\", \"avoid\", \"away\", \"away\", \"bad\", \"bad\", \"best\", \"better\", \"bite\", \"bites\", \"blacks\", \"called\", \"cases\", \"catch\", \"catching\", \"child\", \"children\", \"cold\", \"come\", \"congo\", \"congo\", \"congo\", \"contain\", \"containing\", \"contaminated\", \"cope\", \"corona\", \"corona\", \"corona\", \"corona\", \"corona\", \"corona\", \"corona\", \"corona\", \"corona\", \"corona\", \"coronavirus\", \"coronavirus\", \"coronavirus\", \"coronavirus\", \"coronavirus\", \"coronavirus\", \"coronavirus\", \"coronavirus\", \"coronavirus\", \"coronavirus\", \"coronavirus\", \"coronavirus\", \"coronavirus\", \"correct\", \"cough\", \"countries\", \"country\", \"covid\", \"covid\", \"covid\", \"covid\", \"covid\", \"covid\", \"covid\", \"covid\", \"covid\", \"covid\", \"covid\", \"covid\", \"covid\", \"covid\", \"covid\", \"covid\", \"covid\", \"covid\", \"crazy\", \"created\", \"crown\", \"crown\", \"cure\", \"cure\", \"cure\", \"cured\", \"cures\", \"current\", \"daily\", \"dangerous\", \"dangerous\", \"daughter\", \"day\", \"deal\", \"deaths\", \"die\", \"die\", \"died\", \"difference\", \"difference\", \"differences\", \"different\", \"disease\", \"disease\", \"disease\", \"disease\", \"disease\", \"disinfect\", \"disinfect\", \"disinfectant\", \"disinfectant\", \"disinfectant\", \"doctor\", \"does\", \"does\", \"does\", \"dog\", \"don\", \"don\", \"drc\", \"drink\", \"drink\", \"drinking\", \"drinking\", \"dry\", \"effective\", \"epidemic\", \"epidemiological\", \"everyday\", \"exactly\", \"explain\", \"explain\", \"extension\", \"family\", \"far\", \"far\", \"fatalities\", \"feel\", \"feeling\", \"fever\", \"fight\", \"floor\", \"flu\", \"flu\", \"forever\", \"form\", \"free\", \"function\", \"gants\", \"gerome\", \"getting\", \"ginger\", \"gloves\", \"gloves\", \"gonna\", \"good\", \"good\", \"got\", \"granddaughter\", \"grandson\", \"group\", \"hands\", \"harmed\", \"headache\", \"health\", \"health\", \"help\", \"help\", \"help\", \"helped\", \"hi\", \"home\", \"home\", \"hospital\", \"hot\", \"hurt\", \"husband\", \"idea\", \"illness\", \"immune\", \"immune\", \"important\", \"infect\", \"infected\", \"infected\", \"infected\", \"infected\", \"infected\", \"infected\", \"infected\", \"infection\", \"infections\", \"instead\", \"ituri\", \"just\", \"kill\", \"kill\", \"killing\", \"killing\", \"kills\", \"kind\", \"know\", \"know\", \"know\", \"know\", \"komanda\", \"life\", \"light\", \"like\", \"like\", \"like\", \"like\", \"likely\", \"likely\", \"long\", \"makeup\", \"mask\", \"mask\", \"mask\", \"mask\", \"masks\", \"medicine\", \"medicine\", \"medicine\", \"mental\", \"minimum\", \"missiles\", \"modes\", \"mosquito\", \"mosquito\", \"mosquitos\", \"mosquitos\", \"mother\", \"need\", \"need\", \"number\", \"number\", \"okay\", \"old\", \"origin\", \"origin\", \"pandemic\", \"patient\", \"patients\", \"people\", \"people\", \"people\", \"people\", \"person\", \"pet\", \"point\", \"positive\", \"possible\", \"possible\", \"possible\", \"possible\", \"prevent\", \"prevent\", \"prevent\", \"prevention\", \"prevents\", \"problem\", \"proof\", \"properly\", \"protect\", \"protect\", \"protect\", \"protect\", \"protected\", \"protecting\", \"protection\", \"protection\", \"protocol\", \"province\", \"quarantine\", \"quarantine\", \"really\", \"recover\", \"refer\", \"regularly\", \"research\", \"resources\", \"right\", \"risk\", \"said\", \"sale\", \"sanitizer\", \"sars\", \"sars\", \"sausage\", \"say\", \"send\", \"seriously\", \"sick\", \"sick\", \"sick\", \"sick\", \"sick\", \"signs\", \"signs\", \"situation\", \"skin\", \"soap\", \"son\", \"sore\", \"spread\", \"spreading\", \"start\", \"statistics\", \"statistics\", \"stay\", \"sterilize\", \"stick\", \"stop\", \"stop\", \"stop\", \"stress\", \"stress\", \"stress\", \"stressed\", \"structures\", \"succumbed\", \"surface\", \"symptoms\", \"takes\", \"taking\", \"taking\", \"tea\", \"tea\", \"tell\", \"temperature\", \"temperatures\", \"test\", \"test\", \"test\", \"tested\", \"therapies\", \"thing\", \"thing\", \"think\", \"throat\", \"time\", \"times\", \"total\", \"touch\", \"toxins\", \"transfer\", \"treat\", \"treat\", \"treated\", \"treatment\", \"treatment\", \"treatments\", \"true\", \"true\", \"ultaviolet\", \"ultraviolet\", \"use\", \"use\", \"vaccine\", \"vaccines\", \"vaccines\", \"vaccines\", \"virus\", \"virus\", \"virus\", \"virus\", \"virus\", \"visit\", \"want\", \"wanted\", \"wash\", \"way\", \"way\", \"way\", \"way\", \"wear\", \"wearing\", \"wearing\", \"wearing\", \"wears\", \"whites\", \"wife\", \"won\", \"won\", \"yesterday\", \"young\", \"zone\"]}, \"R\": 30, \"lambda.step\": 0.01, \"plot.opts\": {\"xlab\": \"PC1\", \"ylab\": \"PC2\"}, \"topic.order\": [9, 3, 22, 2, 13, 21, 5, 10, 25, 1, 18, 8, 24, 17, 6, 11, 4, 20, 16, 14, 23, 19, 12, 15, 7]};\n",
              "\n",
              "function LDAvis_load_lib(url, callback){\n",
              "  var s = document.createElement('script');\n",
              "  s.src = url;\n",
              "  s.async = true;\n",
              "  s.onreadystatechange = s.onload = callback;\n",
              "  s.onerror = function(){console.warn(\"failed to load library \" + url);};\n",
              "  document.getElementsByTagName(\"head\")[0].appendChild(s);\n",
              "}\n",
              "\n",
              "if(typeof(LDAvis) !== \"undefined\"){\n",
              "   // already loaded: just create the visualization\n",
              "   !function(LDAvis){\n",
              "       new LDAvis(\"#\" + \"ldavis_el1001399076554782729973977145\", ldavis_el1001399076554782729973977145_data);\n",
              "   }(LDAvis);\n",
              "}else if(typeof define === \"function\" && define.amd){\n",
              "   // require.js is available: use it to load d3/LDAvis\n",
              "   require.config({paths: {d3: \"https://cdnjs.cloudflare.com/ajax/libs/d3/3.5.5/d3.min\"}});\n",
              "   require([\"d3\"], function(d3){\n",
              "      window.d3 = d3;\n",
              "      LDAvis_load_lib(\"https://cdn.rawgit.com/bmabey/pyLDAvis/files/ldavis.v1.0.0.js\", function(){\n",
              "        new LDAvis(\"#\" + \"ldavis_el1001399076554782729973977145\", ldavis_el1001399076554782729973977145_data);\n",
              "      });\n",
              "    });\n",
              "}else{\n",
              "    // require.js not available: dynamically load d3 & LDAvis\n",
              "    LDAvis_load_lib(\"https://cdnjs.cloudflare.com/ajax/libs/d3/3.5.5/d3.min.js\", function(){\n",
              "         LDAvis_load_lib(\"https://cdn.rawgit.com/bmabey/pyLDAvis/files/ldavis.v1.0.0.js\", function(){\n",
              "                 new LDAvis(\"#\" + \"ldavis_el1001399076554782729973977145\", ldavis_el1001399076554782729973977145_data);\n",
              "            })\n",
              "         });\n",
              "}\n",
              "</script>"
            ],
            "text/plain": [
              "<IPython.core.display.HTML object>"
            ]
          },
          "metadata": {
            "tags": []
          },
          "execution_count": 184
        }
      ]
    },
    {
      "cell_type": "markdown",
      "metadata": {
        "id": "FDEa4ar313SJ",
        "colab_type": "text"
      },
      "source": [
        "# Predict New"
      ]
    },
    {
      "cell_type": "code",
      "metadata": {
        "id": "wvbMC7Ewabac",
        "colab_type": "code",
        "colab": {
          "base_uri": "https://localhost:8080/",
          "height": 35
        },
        "outputId": "26c67022-3413-49d2-a241-7cc31418185d"
      },
      "source": [
        "np.argmax(lda.transform([count_data.toarray()[13]]))"
      ],
      "execution_count": 189,
      "outputs": [
        {
          "output_type": "execute_result",
          "data": {
            "text/plain": [
              "13"
            ]
          },
          "metadata": {
            "tags": []
          },
          "execution_count": 189
        }
      ]
    }
  ]
}