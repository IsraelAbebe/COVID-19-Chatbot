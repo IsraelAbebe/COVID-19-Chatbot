{
  "nbformat": 4,
  "nbformat_minor": 0,
  "metadata": {
    "colab": {
      "name": "LDA",
      "provenance": [],
      "collapsed_sections": [],
      "authorship_tag": "ABX9TyM7kp+viEQCzHmRbbMFafzD",
      "include_colab_link": true
    },
    "kernelspec": {
      "name": "python3",
      "display_name": "Python 3"
    }
  },
  "cells": [
    {
      "cell_type": "markdown",
      "metadata": {
        "id": "view-in-github",
        "colab_type": "text"
      },
      "source": [
        "<a href=\"https://colab.research.google.com/github/IsraelAbebe/COVID-19-Chatbot/blob/master/LDA.ipynb\" target=\"_parent\"><img src=\"https://colab.research.google.com/assets/colab-badge.svg\" alt=\"Open In Colab\"/></a>"
      ]
    },
    {
      "cell_type": "code",
      "metadata": {
        "id": "5r-GbJcj09N8",
        "colab_type": "code",
        "colab": {}
      },
      "source": [
        "!pip install pyLDAvis --q"
      ],
      "execution_count": 192,
      "outputs": []
    },
    {
      "cell_type": "code",
      "metadata": {
        "id": "ZkE91E9lPok9",
        "colab_type": "code",
        "colab": {}
      },
      "source": [
        "import pandas as pd\n",
        "import re"
      ],
      "execution_count": 193,
      "outputs": []
    },
    {
      "cell_type": "markdown",
      "metadata": {
        "id": "xRTYbdjZzmFI",
        "colab_type": "text"
      },
      "source": [
        "### Read Dataset from "
      ]
    },
    {
      "cell_type": "code",
      "metadata": {
        "id": "Qwu8aJIPPrui",
        "colab_type": "code",
        "colab": {
          "base_uri": "https://localhost:8080/",
          "height": 599
        },
        "outputId": "dc6a5081-5a19-490e-d00e-c0400a378e32"
      },
      "source": [
        "twb_data = pd.read_excel(\"Copy of twb-chatbot-data.xlsx\")\n",
        "additional_data = pd.read_excel(\"Covid-Utterances-en_US.xlsx\")\n",
        "\n",
        "twb_data.info()"
      ],
      "execution_count": 196,
      "outputs": [
        {
          "output_type": "stream",
          "text": [
            "<class 'pandas.core.frame.DataFrame'>\n",
            "RangeIndex: 35 entries, 0 to 34\n",
            "Data columns (total 25 columns):\n",
            " #   Column                          Non-Null Count  Dtype \n",
            "---  ------                          --------------  ----- \n",
            " 0   ask_for_stats                   25 non-null     object\n",
            " 1   covid_call_a_doctor             10 non-null     object\n",
            " 2   covid_disinfect                 6 non-null      object\n",
            " 3   covid_explain_pandemic          6 non-null      object\n",
            " 4   covid_gloves                    19 non-null     object\n",
            " 5   covid_hospital                  8 non-null      object\n",
            " 6   covid_how_spread                9 non-null      object\n",
            " 7   covid_infection_sources         14 non-null     object\n",
            " 8   covid_masks_how_to              13 non-null     object\n",
            " 9   covid_masks_effectiveness       17 non-null     object\n",
            " 10  covid_myth_antibiotics          7 non-null      object\n",
            " 11  covid_myth_mosquitos            7 non-null      object\n",
            " 12  covid_myth_only_old             7 non-null      object\n",
            " 13  covid_myth_UV                   7 non-null      object\n",
            " 14  covid_protection                21 non-null     object\n",
            " 15  covid_protection_wash_hands     9 non-null      object\n",
            " 16  covid_protection_keep_distance  5 non-null      object\n",
            " 17  covid_risk_most_at_risk         9 non-null      object\n",
            " 18  covid_SARS                      6 non-null      object\n",
            " 19  covid_stress                    6 non-null      object\n",
            " 20  covid_symptoms                  25 non-null     object\n",
            " 21  covid_treatments                33 non-null     object\n",
            " 22  covid_wash_hands_how            7 non-null      object\n",
            " 23  covid_what_is_corona_covid-19   10 non-null     object\n",
            " 24  covid_myth_hot_tea              10 non-null     object\n",
            "dtypes: object(25)\n",
            "memory usage: 7.0+ KB\n"
          ],
          "name": "stdout"
        }
      ]
    },
    {
      "cell_type": "markdown",
      "metadata": {
        "id": "FYT3ASxJzx5R",
        "colab_type": "text"
      },
      "source": [
        "### Visualize Dataset"
      ]
    },
    {
      "cell_type": "code",
      "metadata": {
        "id": "rD3n9yRGP_0J",
        "colab_type": "code",
        "colab": {
          "base_uri": "https://localhost:8080/",
          "height": 477
        },
        "outputId": "8481854a-5ce3-401d-8e70-e2ec84de2fe1"
      },
      "source": [
        "twb_data.head()"
      ],
      "execution_count": 197,
      "outputs": [
        {
          "output_type": "execute_result",
          "data": {
            "text/html": [
              "<div>\n",
              "<style scoped>\n",
              "    .dataframe tbody tr th:only-of-type {\n",
              "        vertical-align: middle;\n",
              "    }\n",
              "\n",
              "    .dataframe tbody tr th {\n",
              "        vertical-align: top;\n",
              "    }\n",
              "\n",
              "    .dataframe thead th {\n",
              "        text-align: right;\n",
              "    }\n",
              "</style>\n",
              "<table border=\"1\" class=\"dataframe\">\n",
              "  <thead>\n",
              "    <tr style=\"text-align: right;\">\n",
              "      <th></th>\n",
              "      <th>ask_for_stats</th>\n",
              "      <th>covid_call_a_doctor</th>\n",
              "      <th>covid_disinfect</th>\n",
              "      <th>covid_explain_pandemic</th>\n",
              "      <th>covid_gloves</th>\n",
              "      <th>covid_hospital</th>\n",
              "      <th>covid_how_spread</th>\n",
              "      <th>covid_infection_sources</th>\n",
              "      <th>covid_masks_how_to</th>\n",
              "      <th>covid_masks_effectiveness</th>\n",
              "      <th>covid_myth_antibiotics</th>\n",
              "      <th>covid_myth_mosquitos</th>\n",
              "      <th>covid_myth_only_old</th>\n",
              "      <th>covid_myth_UV</th>\n",
              "      <th>covid_protection</th>\n",
              "      <th>covid_protection_wash_hands</th>\n",
              "      <th>covid_protection_keep_distance</th>\n",
              "      <th>covid_risk_most_at_risk</th>\n",
              "      <th>covid_SARS</th>\n",
              "      <th>covid_stress</th>\n",
              "      <th>covid_symptoms</th>\n",
              "      <th>covid_treatments</th>\n",
              "      <th>covid_wash_hands_how</th>\n",
              "      <th>covid_what_is_corona_covid-19</th>\n",
              "      <th>covid_myth_hot_tea</th>\n",
              "    </tr>\n",
              "  </thead>\n",
              "  <tbody>\n",
              "    <tr>\n",
              "      <th>0</th>\n",
              "      <td>What are the current COVID-19 statistics for DRC?</td>\n",
              "      <td>Where can I get tested?</td>\n",
              "      <td>Can disinfectant hurt me in any way?</td>\n",
              "      <td>What's a pandemic?</td>\n",
              "      <td>Should I wear gloves to protect against COVID?</td>\n",
              "      <td>Should I go to the hospital if I have corona?</td>\n",
              "      <td>How do people catch the virus?</td>\n",
              "      <td>I wanted to know the origin not the treatment</td>\n",
              "      <td>How should I wear a mask?</td>\n",
              "      <td>What kind of mask should I wear?</td>\n",
              "      <td>Is there any proof of antibiotics killing COVI...</td>\n",
              "      <td>Is it true that you can get corona form mosqui...</td>\n",
              "      <td>Can young people get infected with COVID-19?</td>\n",
              "      <td>Does ultraviolet light disinfect against COVID...</td>\n",
              "      <td>I need protection from the virus?</td>\n",
              "      <td>Why should you wash your hands?</td>\n",
              "      <td>Do I have to be away from people to avoid corona?</td>\n",
              "      <td>Why do whites die more than blacks?</td>\n",
              "      <td>Is corona SARS?</td>\n",
              "      <td>Are there any resources to help cope with stress?</td>\n",
              "      <td>What are the signs of Covid-19?</td>\n",
              "      <td>Do cold temperatures kill COVID-19?</td>\n",
              "      <td>Is sanitizer better than soap?</td>\n",
              "      <td>Are covid-19 and coronavirus the same thing?</td>\n",
              "      <td>It is also said that hot tea with ginger can c...</td>\n",
              "    </tr>\n",
              "    <tr>\n",
              "      <th>1</th>\n",
              "      <td>Statistics for DRC?</td>\n",
              "      <td>What should I do if I have symptoms?</td>\n",
              "      <td>Do I have to use disinfectant?</td>\n",
              "      <td>What's the difference between a pandemic and a...</td>\n",
              "      <td>Does wearing gloves help?</td>\n",
              "      <td>Do I need to visit a doctor if I have covid?</td>\n",
              "      <td>How do people catch the disease?</td>\n",
              "      <td>What is the origin of the coronavirus</td>\n",
              "      <td>Was your mask made here at home or from other ...</td>\n",
              "      <td>Anyone who wears a mask can't get a corona?</td>\n",
              "      <td>How do antibiotics prevent infection of COVID-19?</td>\n",
              "      <td>Can a mosquito bite contain corona?</td>\n",
              "      <td>Who is most likely to get infected with the co...</td>\n",
              "      <td>IS it possible to use ultaviolet light to disi...</td>\n",
              "      <td>What's the best way to protect against coronav...</td>\n",
              "      <td>Why wash your hands?</td>\n",
              "      <td>How far should I be from people?</td>\n",
              "      <td>Why don't crazy people get coronavirus?</td>\n",
              "      <td>Is corona different from SARS?</td>\n",
              "      <td>How can I keep my mental health up during quar...</td>\n",
              "      <td>What are the symptoms</td>\n",
              "      <td>Has research found a cure for Covid-19?</td>\n",
              "      <td>Should I use sanitizer instead of soap?</td>\n",
              "      <td>Can you explain what coronavirus is?</td>\n",
              "      <td>hot tea, can it treat corona</td>\n",
              "    </tr>\n",
              "    <tr>\n",
              "      <th>2</th>\n",
              "      <td>What's the total number of people tested posit...</td>\n",
              "      <td>I have a dry cough and fever</td>\n",
              "      <td>Is drinking disinfectant bad for me?</td>\n",
              "      <td>What's the difference between a epidemic and a...</td>\n",
              "      <td>Will gloves protect me?</td>\n",
              "      <td>Should I just stay at home if i have the disease?</td>\n",
              "      <td>How can I catch the disease?</td>\n",
              "      <td>What country is COVID-19 from?</td>\n",
              "      <td>Do you have to wear a mask every day?</td>\n",
              "      <td>When does the mask help?</td>\n",
              "      <td>Can corona be cured with antibiotics?</td>\n",
              "      <td>Can mosquitos transfer the coronavirus?</td>\n",
              "      <td>Can only old people get COVID-19?</td>\n",
              "      <td>How does ultraviolet light disinfect?</td>\n",
              "      <td>What's the best way to protect against covid-19</td>\n",
              "      <td>How should I wash my hands?\\n</td>\n",
              "      <td>Should I be away from anyone?</td>\n",
              "      <td>Is the coronavirus more dangerous to some people?</td>\n",
              "      <td>How is the coronavirus different from SARS?</td>\n",
              "      <td>How do I deal with stress during quarantine?</td>\n",
              "      <td>What are the signs of being sick with coronavi...</td>\n",
              "      <td>Can people be cured of COVID-19?</td>\n",
              "      <td>How long should I wash my hands?</td>\n",
              "      <td>Can you explain what COVID-19 is?</td>\n",
              "      <td>If someone takes hot tea they will not be infe...</td>\n",
              "    </tr>\n",
              "    <tr>\n",
              "      <th>3</th>\n",
              "      <td>How many people have tested positive for coron...</td>\n",
              "      <td>Should I call a doctor?</td>\n",
              "      <td>Should I drink disinfectant?</td>\n",
              "      <td>Why is coronavirus called a pandemic?</td>\n",
              "      <td>Are gloves a good idea?</td>\n",
              "      <td>Is it okay to not go to the hospital if I have...</td>\n",
              "      <td>How does the disease spread?</td>\n",
              "      <td>Where does Corona come from?</td>\n",
              "      <td>How should you wear a mask?</td>\n",
              "      <td>Does the mask send missiles to catch the coron...</td>\n",
              "      <td>Are there any antibiotics that can kill the co...</td>\n",
              "      <td>Is there any way a mosquito can give me COVID-19?</td>\n",
              "      <td>Who is most likely to get corona?</td>\n",
              "      <td>Is it true that ultraviolet light kills COVID-19?</td>\n",
              "      <td>How can I stop the virus from spreading?</td>\n",
              "      <td>How to wash your hands</td>\n",
              "      <td>NaN</td>\n",
              "      <td>NaN</td>\n",
              "      <td>NaN</td>\n",
              "      <td>NaN</td>\n",
              "      <td>NaN</td>\n",
              "      <td>NaN</td>\n",
              "      <td>NaN</td>\n",
              "      <td>NaN</td>\n",
              "      <td>NaN</td>\n",
              "    </tr>\n",
              "    <tr>\n",
              "      <th>4</th>\n",
              "      <td>If I am away from someone who is infected, I w...</td>\n",
              "      <td>Are there people more at risk of being harmed ...</td>\n",
              "      <td>Are there any differences between the coronavi...</td>\n",
              "      <td>What do I do against feeling stress during the...</td>\n",
              "      <td>Am I sick?</td>\n",
              "      <td>Is there anything that cures the corona virus?</td>\n",
              "      <td>What's the minimum time to wash hands?</td>\n",
              "      <td>Is COVID-19 and coronavirus the same?</td>\n",
              "      <td>Can I drink hot tea on the floor and not infec...</td>\n",
              "      <td>NaN</td>\n",
              "      <td>NaN</td>\n",
              "      <td>NaN</td>\n",
              "      <td>NaN</td>\n",
              "      <td>NaN</td>\n",
              "      <td>NaN</td>\n",
              "      <td>NaN</td>\n",
              "      <td>NaN</td>\n",
              "      <td>NaN</td>\n",
              "      <td>NaN</td>\n",
              "      <td>NaN</td>\n",
              "      <td>NaN</td>\n",
              "      <td>NaN</td>\n",
              "      <td>NaN</td>\n",
              "      <td>NaN</td>\n",
              "      <td>NaN</td>\n",
              "    </tr>\n",
              "  </tbody>\n",
              "</table>\n",
              "</div>"
            ],
            "text/plain": [
              "                                       ask_for_stats  ...                                 covid_myth_hot_tea\n",
              "0  What are the current COVID-19 statistics for DRC?  ...  It is also said that hot tea with ginger can c...\n",
              "1                                Statistics for DRC?  ...                       hot tea, can it treat corona\n",
              "2  What's the total number of people tested posit...  ...  If someone takes hot tea they will not be infe...\n",
              "3  How many people have tested positive for coron...  ...                                                NaN\n",
              "4  If I am away from someone who is infected, I w...  ...                                                NaN\n",
              "\n",
              "[5 rows x 25 columns]"
            ]
          },
          "metadata": {
            "tags": []
          },
          "execution_count": 197
        }
      ]
    },
    {
      "cell_type": "markdown",
      "metadata": {
        "id": "ZGGF0zaXz7Gi",
        "colab_type": "text"
      },
      "source": [
        "### Convert the dataset into new format to make it easy for training"
      ]
    },
    {
      "cell_type": "code",
      "metadata": {
        "id": "2ggxUqUERQrA",
        "colab_type": "code",
        "colab": {
          "base_uri": "https://localhost:8080/",
          "height": 198
        },
        "outputId": "1508b9f1-c860-40b8-8f79-535a90a0647c"
      },
      "source": [
        "data_dict = twb_data.to_dict()\n",
        "new_data_dict = []\n",
        "for i in data_dict.keys():\n",
        "    for j in data_dict[i].values():\n",
        "        if str(j) != 'nan':\n",
        "            new_data_dict.append([i,j])\n",
        "\n",
        "new_data = pd.DataFrame(new_data_dict)\n",
        "new_data.columns = ['Topic','Text']\n",
        "new_data.head()"
      ],
      "execution_count": 198,
      "outputs": [
        {
          "output_type": "execute_result",
          "data": {
            "text/html": [
              "<div>\n",
              "<style scoped>\n",
              "    .dataframe tbody tr th:only-of-type {\n",
              "        vertical-align: middle;\n",
              "    }\n",
              "\n",
              "    .dataframe tbody tr th {\n",
              "        vertical-align: top;\n",
              "    }\n",
              "\n",
              "    .dataframe thead th {\n",
              "        text-align: right;\n",
              "    }\n",
              "</style>\n",
              "<table border=\"1\" class=\"dataframe\">\n",
              "  <thead>\n",
              "    <tr style=\"text-align: right;\">\n",
              "      <th></th>\n",
              "      <th>Topic</th>\n",
              "      <th>Text</th>\n",
              "    </tr>\n",
              "  </thead>\n",
              "  <tbody>\n",
              "    <tr>\n",
              "      <th>0</th>\n",
              "      <td>ask_for_stats</td>\n",
              "      <td>What are the current COVID-19 statistics for DRC?</td>\n",
              "    </tr>\n",
              "    <tr>\n",
              "      <th>1</th>\n",
              "      <td>ask_for_stats</td>\n",
              "      <td>Statistics for DRC?</td>\n",
              "    </tr>\n",
              "    <tr>\n",
              "      <th>2</th>\n",
              "      <td>ask_for_stats</td>\n",
              "      <td>What's the total number of people tested posit...</td>\n",
              "    </tr>\n",
              "    <tr>\n",
              "      <th>3</th>\n",
              "      <td>ask_for_stats</td>\n",
              "      <td>How many people have tested positive for coron...</td>\n",
              "    </tr>\n",
              "    <tr>\n",
              "      <th>4</th>\n",
              "      <td>ask_for_stats</td>\n",
              "      <td>If I am away from someone who is infected, I w...</td>\n",
              "    </tr>\n",
              "  </tbody>\n",
              "</table>\n",
              "</div>"
            ],
            "text/plain": [
              "           Topic                                               Text\n",
              "0  ask_for_stats  What are the current COVID-19 statistics for DRC?\n",
              "1  ask_for_stats                                Statistics for DRC?\n",
              "2  ask_for_stats  What's the total number of people tested posit...\n",
              "3  ask_for_stats  How many people have tested positive for coron...\n",
              "4  ask_for_stats  If I am away from someone who is infected, I w..."
            ]
          },
          "metadata": {
            "tags": []
          },
          "execution_count": 198
        }
      ]
    },
    {
      "cell_type": "code",
      "metadata": {
        "id": "S8Qo2OJsSCKp",
        "colab_type": "code",
        "colab": {
          "base_uri": "https://localhost:8080/",
          "height": 198
        },
        "outputId": "5c8193ba-1edb-4ad4-d0b8-6c629a4d988c"
      },
      "source": [
        "data_dict = additional_data.to_dict()\n",
        "new__add_data_dict = []\n",
        "for i in data_dict.keys():\n",
        "    for j in data_dict[i].values():\n",
        "        if str(j) != 'nan':\n",
        "            new__add_data_dict.append([i,j])\n",
        "\n",
        "new_add_data = pd.DataFrame(new__add_data_dict)\n",
        "new_add_data.columns = ['Topic','Text']\n",
        "new_add_data.head()"
      ],
      "execution_count": 199,
      "outputs": [
        {
          "output_type": "execute_result",
          "data": {
            "text/html": [
              "<div>\n",
              "<style scoped>\n",
              "    .dataframe tbody tr th:only-of-type {\n",
              "        vertical-align: middle;\n",
              "    }\n",
              "\n",
              "    .dataframe tbody tr th {\n",
              "        vertical-align: top;\n",
              "    }\n",
              "\n",
              "    .dataframe thead th {\n",
              "        text-align: right;\n",
              "    }\n",
              "</style>\n",
              "<table border=\"1\" class=\"dataframe\">\n",
              "  <thead>\n",
              "    <tr style=\"text-align: right;\">\n",
              "      <th></th>\n",
              "      <th>Topic</th>\n",
              "      <th>Text</th>\n",
              "    </tr>\n",
              "  </thead>\n",
              "  <tbody>\n",
              "    <tr>\n",
              "      <th>0</th>\n",
              "      <td>1. covid_intro</td>\n",
              "      <td>Are corona virus and COVID-19 different?</td>\n",
              "    </tr>\n",
              "    <tr>\n",
              "      <th>1</th>\n",
              "      <td>1. covid_intro</td>\n",
              "      <td>are coronavirus and covid 19 the same</td>\n",
              "    </tr>\n",
              "    <tr>\n",
              "      <th>2</th>\n",
              "      <td>1. covid_intro</td>\n",
              "      <td>are coronaviruses common</td>\n",
              "    </tr>\n",
              "    <tr>\n",
              "      <th>3</th>\n",
              "      <td>1. covid_intro</td>\n",
              "      <td>are coronaviruses seasonal</td>\n",
              "    </tr>\n",
              "    <tr>\n",
              "      <th>4</th>\n",
              "      <td>1. covid_intro</td>\n",
              "      <td>can covid-19 mutate</td>\n",
              "    </tr>\n",
              "  </tbody>\n",
              "</table>\n",
              "</div>"
            ],
            "text/plain": [
              "             Topic                                      Text\n",
              "0  1. covid_intro   Are corona virus and COVID-19 different?\n",
              "1  1. covid_intro      are coronavirus and covid 19 the same\n",
              "2  1. covid_intro                   are coronaviruses common\n",
              "3  1. covid_intro                 are coronaviruses seasonal\n",
              "4  1. covid_intro                        can covid-19 mutate"
            ]
          },
          "metadata": {
            "tags": []
          },
          "execution_count": 199
        }
      ]
    },
    {
      "cell_type": "code",
      "metadata": {
        "id": "L5dwDHLaYEzL",
        "colab_type": "code",
        "colab": {
          "base_uri": "https://localhost:8080/",
          "height": 35
        },
        "outputId": "8ceb6264-2640-441c-d8b8-3b6a9715c4af"
      },
      "source": [
        "new_data['Topic'] = new_data['Topic'].map(lambda x: re.sub('[\\d,.!?]', '', x))\n",
        "new_data['Text'] = new_data['Text'].map(lambda x: re.sub('[\\d,.!?]', '', x))\n",
        "\n",
        "new_data['Topic'] = new_data['Topic'].map(lambda x: x.lower())\n",
        "new_data['Text'] = new_data['Text'].map(lambda x: x.lower())\n",
        "\n",
        "new_data['Topic'] = new_data['Topic'].map(lambda x: x.strip())\n",
        "\n",
        "len(new_data.Topic.unique())"
      ],
      "execution_count": 200,
      "outputs": [
        {
          "output_type": "execute_result",
          "data": {
            "text/plain": [
              "25"
            ]
          },
          "metadata": {
            "tags": []
          },
          "execution_count": 200
        }
      ]
    },
    {
      "cell_type": "code",
      "metadata": {
        "id": "GvQzEse-ffvv",
        "colab_type": "code",
        "colab": {
          "base_uri": "https://localhost:8080/",
          "height": 35
        },
        "outputId": "c29857fa-d162-444b-d670-76094abc49b2"
      },
      "source": [
        "new_add_data['Topic'] = new_add_data['Topic'].map(lambda x: re.sub('[\\d,.!?]', '', x))\n",
        "new_add_data['Text'] = new_add_data['Text'].map(lambda x: re.sub('[\\d,.!?]', '', x))\n",
        "\n",
        "new_add_data['Topic'] = new_add_data['Topic'].map(lambda x: x.lower())\n",
        "new_add_data['Text'] = new_add_data['Text'].map(lambda x: x.lower())\n",
        "\n",
        "new_add_data['Topic'] = new_add_data['Topic'].map(lambda x: x.strip())\n",
        "\n",
        "len(new_add_data.Topic.unique())"
      ],
      "execution_count": 201,
      "outputs": [
        {
          "output_type": "execute_result",
          "data": {
            "text/plain": [
              "10"
            ]
          },
          "metadata": {
            "tags": []
          },
          "execution_count": 201
        }
      ]
    },
    {
      "cell_type": "code",
      "metadata": {
        "id": "VJVjRQ--eKRT",
        "colab_type": "code",
        "colab": {
          "base_uri": "https://localhost:8080/",
          "height": 181
        },
        "outputId": "307a876e-caea-473b-b317-b203d375797a"
      },
      "source": [
        "new_data.info()"
      ],
      "execution_count": 202,
      "outputs": [
        {
          "output_type": "stream",
          "text": [
            "<class 'pandas.core.frame.DataFrame'>\n",
            "RangeIndex: 296 entries, 0 to 295\n",
            "Data columns (total 2 columns):\n",
            " #   Column  Non-Null Count  Dtype \n",
            "---  ------  --------------  ----- \n",
            " 0   Topic   296 non-null    object\n",
            " 1   Text    296 non-null    object\n",
            "dtypes: object(2)\n",
            "memory usage: 4.8+ KB\n"
          ],
          "name": "stdout"
        }
      ]
    },
    {
      "cell_type": "code",
      "metadata": {
        "id": "iruu3g8UYnDC",
        "colab_type": "code",
        "colab": {
          "base_uri": "https://localhost:8080/",
          "height": 198
        },
        "outputId": "c8b7de98-497f-4f0d-f6c7-5a6651a0cb39"
      },
      "source": [
        "new_data.head()"
      ],
      "execution_count": 203,
      "outputs": [
        {
          "output_type": "execute_result",
          "data": {
            "text/html": [
              "<div>\n",
              "<style scoped>\n",
              "    .dataframe tbody tr th:only-of-type {\n",
              "        vertical-align: middle;\n",
              "    }\n",
              "\n",
              "    .dataframe tbody tr th {\n",
              "        vertical-align: top;\n",
              "    }\n",
              "\n",
              "    .dataframe thead th {\n",
              "        text-align: right;\n",
              "    }\n",
              "</style>\n",
              "<table border=\"1\" class=\"dataframe\">\n",
              "  <thead>\n",
              "    <tr style=\"text-align: right;\">\n",
              "      <th></th>\n",
              "      <th>Topic</th>\n",
              "      <th>Text</th>\n",
              "    </tr>\n",
              "  </thead>\n",
              "  <tbody>\n",
              "    <tr>\n",
              "      <th>0</th>\n",
              "      <td>ask_for_stats</td>\n",
              "      <td>what are the current covid- statistics for drc</td>\n",
              "    </tr>\n",
              "    <tr>\n",
              "      <th>1</th>\n",
              "      <td>ask_for_stats</td>\n",
              "      <td>statistics for drc</td>\n",
              "    </tr>\n",
              "    <tr>\n",
              "      <th>2</th>\n",
              "      <td>ask_for_stats</td>\n",
              "      <td>what's the total number of people tested posit...</td>\n",
              "    </tr>\n",
              "    <tr>\n",
              "      <th>3</th>\n",
              "      <td>ask_for_stats</td>\n",
              "      <td>how many people have tested positive for coron...</td>\n",
              "    </tr>\n",
              "    <tr>\n",
              "      <th>4</th>\n",
              "      <td>ask_for_stats</td>\n",
              "      <td>if i am away from someone who is infected i wi...</td>\n",
              "    </tr>\n",
              "  </tbody>\n",
              "</table>\n",
              "</div>"
            ],
            "text/plain": [
              "           Topic                                               Text\n",
              "0  ask_for_stats     what are the current covid- statistics for drc\n",
              "1  ask_for_stats                                 statistics for drc\n",
              "2  ask_for_stats  what's the total number of people tested posit...\n",
              "3  ask_for_stats  how many people have tested positive for coron...\n",
              "4  ask_for_stats  if i am away from someone who is infected i wi..."
            ]
          },
          "metadata": {
            "tags": []
          },
          "execution_count": 203
        }
      ]
    },
    {
      "cell_type": "markdown",
      "metadata": {
        "id": "DyJBt-fY0ioC",
        "colab_type": "text"
      },
      "source": [
        "# EDA"
      ]
    },
    {
      "cell_type": "markdown",
      "metadata": {
        "id": "HjQrVENj0sxk",
        "colab_type": "text"
      },
      "source": [
        "# Getting Most Friquent Words"
      ]
    },
    {
      "cell_type": "code",
      "metadata": {
        "id": "rN7e1Sj4Zd6g",
        "colab_type": "code",
        "colab": {
          "base_uri": "https://localhost:8080/",
          "height": 662
        },
        "outputId": "814a2bcf-a592-4f14-f78c-db8024489090"
      },
      "source": [
        "from sklearn.feature_extraction.text import CountVectorizer\n",
        "import numpy as np\n",
        "import matplotlib.pyplot as plt\n",
        "import seaborn as sns\n",
        "%matplotlib inline\n",
        "\n",
        "\n",
        "def plot_10_most_common_words(count_data, count_vectorizer):\n",
        "    import matplotlib.pyplot as plt\n",
        "    words = count_vectorizer.get_feature_names()\n",
        "    total_counts = np.zeros(len(words))\n",
        "    for t in count_data:\n",
        "        total_counts+=t.toarray()[0]\n",
        "    \n",
        "    count_dict = (zip(words, total_counts))\n",
        "    count_dict = sorted(count_dict, key=lambda x:x[1], reverse=True)[0:10]\n",
        "    words = [w[0] for w in count_dict]\n",
        "    counts = [w[1] for w in count_dict]\n",
        "    x_pos = np.arange(len(words)) \n",
        "    \n",
        "    plt.figure(2, figsize=(15, 15/1.6180))\n",
        "    plt.subplot(title='10 most common words')\n",
        "    sns.set_context(\"notebook\", font_scale=1.25, rc={\"lines.linewidth\": 2.5})\n",
        "    sns.barplot(x_pos, counts, palette='husl')\n",
        "    plt.xticks(x_pos, words, rotation=90) \n",
        "    plt.xlabel('words')\n",
        "    plt.ylabel('counts')\n",
        "    plt.show()\n",
        "\n",
        "\n",
        "count_vectorizer = CountVectorizer(stop_words='english')\n",
        "count_data = count_vectorizer.fit_transform(new_data['Text'])\n",
        "plot_10_most_common_words(count_data, count_vectorizer)\n",
        "\n",
        "\n"
      ],
      "execution_count": 207,
      "outputs": [
        {
          "output_type": "display_data",
          "data": {
            "image/png": "[encoded data removed]",
            "text/plain": [
              "<Figure size 1080x667.491 with 1 Axes>"
            ]
          },
          "metadata": {
            "tags": [],
            "needs_background": "light"
          }
        }
      ]
    },
    {
      "cell_type": "markdown",
      "metadata": {
        "id": "0JtF5U6r1MHu",
        "colab_type": "text"
      },
      "source": [
        "# LDA Model "
      ]
    },
    {
      "cell_type": "code",
      "metadata": {
        "id": "l2k-_K0d1w_T",
        "colab_type": "code",
        "colab": {}
      },
      "source": [
        "def print_topics(model, count_vectorizer, n_top_words):\n",
        "    words = count_vectorizer.get_feature_names()\n",
        "    for topic_idx, topic in enumerate(model.components_):\n",
        "        print(\"\\nTopic #%d:\" % topic_idx)\n",
        "        print(\" \".join([words[i]\n",
        "                        for i in topic.argsort()[:-n_top_words - 1:-1]]))"
      ],
      "execution_count": 208,
      "outputs": []
    },
    {
      "cell_type": "code",
      "metadata": {
        "id": "KiDVqd7gZ1IA",
        "colab_type": "code",
        "colab": {
          "base_uri": "https://localhost:8080/",
          "height": 1000
        },
        "outputId": "a5e8aec5-481d-4659-f3a1-ae4add9c5a57"
      },
      "source": [
        "from sklearn.decomposition import LatentDirichletAllocation as LDA      \n",
        "\n",
        "\n",
        "number_topics = 25\n",
        "number_words = 20\n",
        "lda = LDA(n_components=number_topics, n_jobs=-1)\n",
        "lda.fit(count_data)\n",
        "\n",
        "print(\"Topics found via LDA:\")\n",
        "print_topics(lda, count_vectorizer, number_words)"
      ],
      "execution_count": 209,
      "outputs": [
        {
          "output_type": "stream",
          "text": [
            "Topics found via LDA:\n",
            "\n",
            "Topic #0:\n",
            "cure corona covid medicine prevent hospital cures does temperature prevents hurt research come treatment mother disinfectant way point treatments fever\n",
            "\n",
            "Topic #1:\n",
            "covid congo people flu dangerous bad killing say died proof succumbed fatalities exactly just stay home like antibiotics coronavirus disease\n",
            "\n",
            "Topic #2:\n",
            "people coronavirus infected covid cured fever young old grandson son deaths free send family recover crazy don know risk dangerous\n",
            "\n",
            "Topic #3:\n",
            "coronavirus sick animals avoid sars cure covid vaccines mosquito true thing bites makeup ask possible said ginger stop kind wearing\n",
            "\n",
            "Topic #4:\n",
            "coronavirus use stop covid stress masks mosquitos feeling transfer differences therapies headache sterilize surface sars prevent touch disinfectant ultraviolet light\n",
            "\n",
            "Topic #5:\n",
            "protect covid coronavirus signs mask quarantine mental created getting health does family extension children gloves best way sick wear prevent\n",
            "\n",
            "Topic #6:\n",
            "statistics doctor covid need visit drc form floor flu forever zone free fight gants gerome getting ginger function feel fever\n",
            "\n",
            "Topic #7:\n",
            "corona sars likely deaths die home countries function true kills mask different covid gloves difference light ultraviolet infected protect coronavirus\n",
            "\n",
            "Topic #8:\n",
            "gloves fever good won children idea daughter time minimum protect hands wash corona wear far epidemiological ginger getting gerome gants\n",
            "\n",
            "Topic #9:\n",
            "disease catch pandemic does dry cough fever family getting just stay home people avoid prevent virus medicine covid spread protect\n",
            "\n",
            "Topic #10:\n",
            "away people test avoid far want corona infected zone gants form free function gerome flu getting ginger gloves gonna forever\n",
            "\n",
            "Topic #11:\n",
            "fever like taking know start child test antibiotics masks coronavirus feel covid drink hot tea fatalities free epidemic epidemiological everyday\n",
            "\n",
            "Topic #12:\n",
            "drc tested positive people virus number total spreading stop got covid coronavirus statistics sick current corona family form effective gerome\n",
            "\n",
            "Topic #13:\n",
            "wear gloves mask corona virus don different immune group age contain throat sore send bite mosquito feel protect kind day\n",
            "\n",
            "Topic #14:\n",
            "hands wash soap add daily toxins right better epidemiological situation sanitizer avoid crown help way crazy tea forever don covid\n",
            "\n",
            "Topic #15:\n",
            "covid antibiotics coronavirus kill long corona cold temperatures dog called fight thing current possible cured stick pandemic statistics won drc\n",
            "\n",
            "Topic #16:\n",
            "virus protect way protection best coronavirus need properly tell catch kill cures covid gloves people mask wear spread does corona\n",
            "\n",
            "Topic #17:\n",
            "symptoms help does getting mask corona wearing covid prevent risk stress resources cope stop treatments coronavirus gloves cure function free\n",
            "\n",
            "Topic #18:\n",
            "covid gerome medicine doctor infected possible treatment mosquito bite treatments day use skin ultaviolet sale protocol modes prevention patient temperature\n",
            "\n",
            "Topic #19:\n",
            "corona fever virus mosquitos send sanitizer missiles person instead form wanted sausage helped okay husband granddaughter vaccine wife pet won\n",
            "\n",
            "Topic #20:\n",
            "covid difference coronavirus pandemic way epidemic explain stress corona mosquito affected think deal possible animals correct recover avoid everyday sars\n",
            "\n",
            "Topic #21:\n",
            "prevent mask wearing disinfectant does know covid corona catching drinking patients problem yesterday whites blacks contaminated number die bad extension\n",
            "\n",
            "Topic #22:\n",
            "does light ultraviolet spread covid disinfect kills true kill coronavirus sterilize surface virus disease use free form forever function gants\n",
            "\n",
            "Topic #23:\n",
            "corona tea hot drink virus cases crown risk covid feel vaccines floor infect infections regularly amo containing effective stressed immune\n",
            "\n",
            "Topic #24:\n",
            "covid health origin corona risk treat sick harmed gants deal zone ituri province refer structures komanda seriously treated hi country\n"
          ],
          "name": "stdout"
        }
      ]
    },
    {
      "cell_type": "code",
      "metadata": {
        "id": "A4kIDasmaJaT",
        "colab_type": "code",
        "colab": {
          "base_uri": "https://localhost:8080/",
          "height": 54
        },
        "outputId": "5d449a85-d9a3-4cf7-9969-4de8b03d4c1d"
      },
      "source": [
        "%%time\n",
        "import os\n",
        "from pyLDAvis import sklearn as sklearn_lda\n",
        "import pickle \n",
        "import pyLDAvis\n",
        "\n",
        "LDAvis_data_filepath = os.path.join('./ldavis_prepared_'+str(number_topics))\n",
        "\n",
        "if 1 == 1:\n",
        "    LDAvis_prepared = sklearn_lda.prepare(lda, count_data, count_vectorizer)\n",
        "\n",
        "with open(LDAvis_data_filepath, 'wb') as f:\n",
        "        pickle.dump(LDAvis_prepared, f)\n",
        "        \n",
        "with open(LDAvis_data_filepath,'rb') as f:\n",
        "    LDAvis_prepared = pickle.load(f)\n",
        "\n",
        "pyLDAvis.save_html(LDAvis_prepared, './ldavis_prepared_'+ str(number_topics) +'.html')"
      ],
      "execution_count": 210,
      "outputs": [
        {
          "output_type": "stream",
          "text": [
            "CPU times: user 552 ms, sys: 9.61 ms, total: 562 ms\n",
            "Wall time: 2.74 s\n"
          ],
          "name": "stdout"
        }
      ]
    },
    {
      "cell_type": "code",
      "metadata": {
        "id": "8ZI7NGLi1Uvs",
        "colab_type": "code",
        "colab": {
          "base_uri": "https://localhost:8080/",
          "height": 861
        },
        "outputId": "8142ebe3-968f-46bf-ad6a-99c02a432493"
      },
      "source": [
        "from IPython.display import HTML\n",
        "\n",
        "HTML(filename='./ldavis_prepared_'+ str(number_topics) +'.html')"
      ],
      "execution_count": 211,
      "outputs": [
        {
          "output_type": "execute_result",
          "data": {
            "text/html": [
              "\n",
              "<link rel=\"stylesheet\" type=\"text/css\" href=\"https://cdn.rawgit.com/bmabey/pyLDAvis/files/ldavis.v1.0.0.css\">\n",
              "\n",
              "\n",
              "<div id=\"ldavis_el1001399076554779122968578862\"></div>\n",
              "<script type=\"text/javascript\">\n",
              "\n",
              "var ldavis_el1001399076554779122968578862_data = {\"mdsDat\": {\"x\": [-0.2649019603971595, -0.17093050280159117, -0.10682327508879008, -0.19879871634495147, -0.10923458397091668, 0.19376286470132467, -0.02874422319268664, 0.13083757773901614, 0.14475253948429398, 0.007713425787573191, -0.08681973726376946, 0.08861196952618855, 0.0772235477941806, 0.042776701464217484, 0.1207508292075194, -0.19099587815083585, 0.10073423084297717, 0.03694351548252649, 0.11741338349743914, 0.028574955472901915, -0.0030897598958885206, 0.056804593090964785, -0.01904922808738212, -0.018907870981516747, 0.05139560208436454], \"y\": [-0.006561040472653556, 0.011142833904674364, 0.12893111180422154, -0.06091598445451715, 0.1811120373003879, -0.010980661447205168, -0.1837510302552252, 0.11751521822505084, 0.018497702850109526, 0.04974193510068695, 0.13736531141460206, 0.08737431999032236, 0.04589429496782039, 0.10253542164993866, 0.018422229541062176, 0.021986363555107923, 0.07862934162665529, -0.13168662321446917, 0.025337334063751, -0.1673341587772064, -0.10638693425909046, -0.10784114392299825, -0.09836531263443485, -0.12329677347057647, -0.027365793086013782], \"topics\": [1, 2, 3, 4, 5, 6, 7, 8, 9, 10, 11, 12, 13, 14, 15, 16, 17, 18, 19, 20, 21, 22, 23, 24, 25], \"cluster\": [1, 1, 1, 1, 1, 1, 1, 1, 1, 1, 1, 1, 1, 1, 1, 1, 1, 1, 1, 1, 1, 1, 1, 1, 1], \"Freq\": [7.162276132355548, 6.990316098146633, 5.53490090032541, 5.533806490522337, 5.40703463378534, 5.290586446828848, 5.184461733566284, 4.961028158806243, 4.886168584844254, 4.25268916373111, 4.0949007043320576, 3.931211507666236, 3.8906637969117863, 3.646028791132162, 3.3767451057312687, 3.3421349912090137, 3.3340097132591735, 3.224079863971585, 3.1209236890922014, 3.056597463305166, 2.580368604883469, 2.034242928826961, 1.8636815096726944, 1.7561173290773275, 1.5450256580168833]}, \"tinfo\": {\"Term\": [\"corona\", \"coronavirus\", \"people\", \"protect\", \"wash\", \"hands\", \"disease\", \"covid\", \"wear\", \"virus\", \"gloves\", \"does\", \"mask\", \"cure\", \"drc\", \"tea\", \"fever\", \"hot\", \"light\", \"prevent\", \"ultraviolet\", \"infected\", \"symptoms\", \"antibiotics\", \"sars\", \"help\", \"use\", \"tested\", \"doctor\", \"medicine\", \"wear\", \"gloves\", \"different\", \"mask\", \"age\", \"contain\", \"group\", \"sore\", \"throat\", \"don\", \"bite\", \"immune\", \"feel\", \"send\", \"mosquito\", \"corona\", \"virus\", \"protected\", \"pet\", \"granddaughter\", \"husband\", \"wife\", \"vaccine\", \"okay\", \"helped\", \"sausage\", \"form\", \"wanted\", \"instead\", \"person\", \"protect\", \"missiles\", \"kind\", \"day\", \"important\", \"wears\", \"won\", \"know\", \"correct\", \"properly\", \"tell\", \"function\", \"really\", \"hot\", \"tea\", \"cases\", \"drink\", \"floor\", \"infect\", \"regularly\", \"infections\", \"containing\", \"amo\", \"effective\", \"stressed\", \"got\", \"crown\", \"risk\", \"feel\", \"immune\", \"killing\", \"children\", \"harmed\", \"vaccines\", \"virus\", \"corona\", \"getting\", \"use\", \"covid\", \"husband\", \"granddaughter\", \"wife\", \"pet\", \"vaccine\", \"okay\", \"sausage\", \"form\", \"person\", \"missiles\", \"helped\", \"instead\", \"treat\", \"send\", \"free\", \"stick\", \"catching\", \"drinking\", \"disinfectant\", \"prevent\", \"problem\", \"yesterday\", \"patients\", \"blacks\", \"whites\", \"contaminated\", \"extension\", \"infection\", \"important\", \"know\", \"wearing\", \"die\", \"bad\", \"day\", \"number\", \"like\", \"does\", \"mask\", \"drink\", \"covid\", \"corona\", \"granddaughter\", \"pet\", \"wife\", \"vaccine\", \"husband\", \"okay\", \"helped\", \"sausage\", \"missiles\", \"form\", \"person\", \"instead\", \"point\", \"antibiotics\", \"don\", \"use\", \"protect\", \"missiles\", \"person\", \"form\", \"helped\", \"sausage\", \"wanted\", \"instead\", \"okay\", \"vaccine\", \"granddaughter\", \"wife\", \"husband\", \"pet\", \"protected\", \"mosquitos\", \"fever\", \"far\", \"sanitizer\", \"gants\", \"treat\", \"send\", \"hospital\", \"soap\", \"treatment\", \"true\", \"won\", \"vaccines\", \"origin\", \"catch\", \"corona\", \"virus\", \"cure\", \"cures\", \"medicine\", \"hospital\", \"prevents\", \"come\", \"research\", \"hurt\", \"mother\", \"point\", \"temperature\", \"treatment\", \"prevent\", \"disinfectant\", \"corona\", \"way\", \"covid\", \"does\", \"granddaughter\", \"wife\", \"vaccine\", \"pet\", \"husband\", \"okay\", \"helped\", \"sausage\", \"form\", \"instead\", \"wanted\", \"person\", \"missiles\", \"treatments\", \"fever\", \"virus\", \"coronavirus\", \"disease\", \"wearing\", \"mask\", \"far\", \"exactly\", \"explain\", \"extension\", \"family\", \"infected\", \"people\", \"cured\", \"young\", \"old\", \"grandson\", \"son\", \"free\", \"family\", \"send\", \"deaths\", \"coronavirus\", \"fever\", \"covid\", \"husband\", \"wife\", \"granddaughter\", \"pet\", \"vaccine\", \"okay\", \"form\", \"helped\", \"sausage\", \"instead\", \"wanted\", \"person\", \"missiles\", \"protected\", \"created\", \"mental\", \"recover\", \"crazy\", \"don\", \"know\", \"risk\", \"dangerous\", \"likely\", \"virus\", \"sick\", \"catch\", \"harmed\", \"away\", \"drc\", \"positive\", \"corona\", \"tested\", \"hands\", \"wash\", \"soap\", \"add\", \"daily\", \"toxins\", \"right\", \"better\", \"epidemiological\", \"situation\", \"crazy\", \"forever\", \"sanitizer\", \"don\", \"crown\", \"way\", \"avoid\", \"help\", \"tea\", \"granddaughter\", \"wife\", \"husband\", \"pet\", \"vaccine\", \"okay\", \"sausage\", \"helped\", \"form\", \"instead\", \"wanted\", \"person\", \"missiles\", \"covid\", \"everyday\", \"long\", \"touch\", \"times\", \"day\", \"use\", \"time\", \"minimum\", \"coronavirus\", \"people\", \"kill\", \"long\", \"antibiotics\", \"cold\", \"temperatures\", \"called\", \"dog\", \"fight\", \"current\", \"stick\", \"thing\", \"won\", \"statistics\", \"cured\", \"covid\", \"possible\", \"pandemic\", \"coronavirus\", \"drc\", \"corona\", \"vaccine\", \"granddaughter\", \"husband\", \"wife\", \"pet\", \"okay\", \"sausage\", \"helped\", \"form\", \"wanted\", \"person\", \"instead\", \"missiles\", \"forever\", \"infection\", \"prevent\", \"crown\", \"hot\", \"tea\", \"hands\", \"wash\", \"virus\", \"disease\", \"sick\", \"bites\", \"makeup\", \"ask\", \"ginger\", \"said\", \"kind\", \"animals\", \"coronavirus\", \"thing\", \"avoid\", \"true\", \"vaccines\", \"sars\", \"mosquito\", \"possible\", \"stop\", \"getting\", \"wearing\", \"cure\", \"granddaughter\", \"wife\", \"pet\", \"husband\", \"vaccine\", \"okay\", \"sausage\", \"helped\", \"form\", \"wanted\", \"instead\", \"covid\", \"person\", \"missiles\", \"different\", \"signs\", \"treatments\", \"origin\", \"treat\", \"illness\", \"life\", \"gonna\", \"hot\", \"origin\", \"zone\", \"structures\", \"ituri\", \"province\", \"refer\", \"komanda\", \"seriously\", \"hi\", \"treated\", \"country\", \"protecting\", \"really\", \"illness\", \"wears\", \"health\", \"treat\", \"gants\", \"quarantine\", \"deal\", \"good\", \"harmed\", \"risk\", \"stress\", \"sick\", \"avoid\", \"help\", \"covid\", \"corona\", \"granddaughter\", \"husband\", \"wife\", \"pet\", \"instead\", \"form\", \"gloves\", \"symptoms\", \"help\", \"cope\", \"resources\", \"getting\", \"treatments\", \"wearing\", \"risk\", \"does\", \"stress\", \"stop\", \"mask\", \"prevent\", \"corona\", \"covid\", \"pet\", \"husband\", \"wife\", \"granddaughter\", \"vaccine\", \"okay\", \"sausage\", \"form\", \"wanted\", \"instead\", \"helped\", \"person\", \"missiles\", \"protected\", \"grandson\", \"son\", \"coronavirus\", \"gloves\", \"cure\", \"function\", \"free\", \"gants\", \"zone\", \"floor\", \"forever\", \"flu\", \"fight\", \"fever\", \"feeling\", \"feel\", \"difference\", \"epidemic\", \"explain\", \"think\", \"affected\", \"correct\", \"recover\", \"everyday\", \"pandemic\", \"deal\", \"stress\", \"way\", \"animals\", \"mosquito\", \"possible\", \"avoid\", \"covid\", \"coronavirus\", \"corona\", \"pet\", \"husband\", \"vaccine\", \"wife\", \"granddaughter\", \"okay\", \"form\", \"instead\", \"sausage\", \"helped\", \"wanted\", \"person\", \"missiles\", \"sars\", \"mask\", \"wear\", \"people\", \"hands\", \"wash\", \"gants\", \"function\", \"free\", \"zone\", \"floor\", \"gerome\", \"skin\", \"ultaviolet\", \"sale\", \"protocol\", \"modes\", \"prevention\", \"patient\", \"life\", \"gonna\", \"times\", \"takes\", \"doctor\", \"temperature\", \"bite\", \"treatments\", \"day\", \"treatment\", \"medicine\", \"disinfect\", \"infected\", \"mosquito\", \"possible\", \"use\", \"light\", \"covid\", \"granddaughter\", \"vaccine\", \"pet\", \"wife\", \"husband\", \"okay\", \"helped\", \"person\", \"form\", \"missiles\", \"sausage\", \"coronavirus\", \"hot\", \"tea\", \"corona\", \"ultraviolet\", \"spread\", \"light\", \"disinfect\", \"does\", \"covid\", \"granddaughter\", \"vaccine\", \"pet\", \"wife\", \"husband\", \"okay\", \"helped\", \"sausage\", \"wanted\", \"instead\", \"form\", \"person\", \"missiles\", \"protected\", \"son\", \"grandson\", \"old\", \"young\", \"family\", \"free\", \"created\", \"mental\", \"mother\", \"research\", \"come\", \"prevents\", \"hurt\", \"kills\", \"true\", \"kill\", \"coronavirus\", \"sterilize\", \"surface\", \"virus\", \"disease\", \"use\", \"forever\", \"function\", \"gants\", \"gerome\", \"flu\", \"floor\", \"fight\", \"zone\", \"fever\", \"feeling\", \"feel\", \"fatalities\", \"far\", \"congo\", \"flu\", \"dangerous\", \"succumbed\", \"proof\", \"say\", \"died\", \"fatalities\", \"exactly\", \"just\", \"stay\", \"home\", \"bad\", \"killing\", \"like\", \"antibiotics\", \"people\", \"covid\", \"vaccine\", \"pet\", \"husband\", \"granddaughter\", \"wife\", \"okay\", \"helped\", \"sausage\", \"form\", \"wanted\", \"instead\", \"person\", \"coronavirus\", \"missiles\", \"disease\", \"free\", \"gerome\", \"function\", \"gants\", \"zone\", \"fight\", \"forever\", \"floor\", \"ginger\", \"likely\", \"countries\", \"function\", \"kills\", \"deaths\", \"sars\", \"home\", \"die\", \"true\", \"corona\", \"mask\", \"vaccine\", \"wife\", \"granddaughter\", \"husband\", \"pet\", \"okay\", \"wanted\", \"helped\", \"form\", \"sausage\", \"instead\", \"person\", \"missiles\", \"protected\", \"son\", \"grandson\", \"old\", \"young\", \"family\", \"different\", \"covid\", \"gloves\", \"difference\", \"light\", \"ultraviolet\", \"infected\", \"protect\", \"coronavirus\", \"free\", \"forever\", \"ituri\", \"just\", \"flu\", \"infect\", \"floor\", \"gerome\", \"protect\", \"signs\", \"mental\", \"created\", \"quarantine\", \"health\", \"getting\", \"covid\", \"coronavirus\", \"does\", \"mask\", \"granddaughter\", \"pet\", \"vaccine\", \"wife\", \"husband\", \"okay\", \"sausage\", \"helped\", \"wanted\", \"instead\", \"form\", \"person\", \"missiles\", \"protected\", \"family\", \"son\", \"grandson\", \"old\", \"young\", \"extension\", \"children\", \"gloves\", \"best\", \"way\", \"sick\", \"wear\", \"prevent\", \"corona\", \"disease\", \"forever\", \"gants\", \"gerome\", \"function\", \"free\", \"zone\", \"flu\", \"protection\", \"best\", \"tell\", \"properly\", \"virus\", \"need\", \"way\", \"protect\", \"catch\", \"coronavirus\", \"husband\", \"granddaughter\", \"wife\", \"pet\", \"vaccine\", \"okay\", \"instead\", \"helped\", \"form\", \"sausage\", \"wanted\", \"person\", \"missiles\", \"protected\", \"son\", \"grandson\", \"old\", \"young\", \"family\", \"free\", \"kill\", \"cures\", \"covid\", \"gloves\", \"people\", \"mask\", \"wear\", \"spread\", \"does\", \"corona\", \"ultraviolet\", \"light\", \"function\", \"forever\", \"gants\", \"gerome\", \"zone\", \"flu\", \"feeling\", \"transfer\", \"therapies\", \"differences\", \"headache\", \"sterilize\", \"surface\", \"touch\", \"use\", \"masks\", \"stop\", \"mosquitos\", \"stress\", \"sars\", \"coronavirus\", \"prevent\", \"covid\", \"pet\", \"husband\", \"granddaughter\", \"vaccine\", \"wife\", \"okay\", \"sausage\", \"helped\", \"instead\", \"wanted\", \"form\", \"person\", \"missiles\", \"disinfectant\", \"ultraviolet\", \"light\", \"soap\", \"mask\", \"hands\", \"wash\", \"floor\", \"forever\", \"fight\", \"flu\", \"zone\", \"drc\", \"tested\", \"positive\", \"total\", \"spreading\", \"number\", \"stop\", \"people\", \"virus\", \"wife\", \"husband\", \"pet\", \"vaccine\", \"granddaughter\", \"okay\", \"helped\", \"sausage\", \"wanted\", \"form\", \"instead\", \"person\", \"missiles\", \"protected\", \"grandson\", \"son\", \"old\", \"young\", \"family\", \"free\", \"created\", \"mental\", \"got\", \"covid\", \"coronavirus\", \"statistics\", \"sick\", \"current\", \"corona\", \"effective\", \"gerome\", \"gants\", \"epidemic\", \"function\", \"epidemiological\", \"everyday\", \"forever\", \"far\", \"flu\", \"exactly\", \"disease\", \"dry\", \"cough\", \"catch\", \"pandemic\", \"fever\", \"does\", \"vaccine\", \"granddaughter\", \"pet\", \"wife\", \"husband\", \"okay\", \"helped\", \"sausage\", \"form\", \"instead\", \"wanted\", \"person\", \"missiles\", \"protected\", \"family\", \"grandson\", \"son\", \"old\", \"young\", \"free\", \"created\", \"mental\", \"mother\", \"getting\", \"just\", \"stay\", \"home\", \"people\", \"avoid\", \"prevent\", \"virus\", \"medicine\", \"covid\", \"spread\", \"protect\", \"cure\", \"corona\", \"function\", \"forever\", \"flu\", \"infect\", \"floor\", \"taking\", \"child\", \"start\", \"like\", \"masks\", \"test\", \"know\", \"fever\", \"antibiotics\", \"coronavirus\", \"granddaughter\", \"wife\", \"husband\", \"pet\", \"vaccine\", \"okay\", \"helped\", \"sausage\", \"wanted\", \"form\", \"instead\", \"person\", \"missiles\", \"protected\", \"son\", \"grandson\", \"old\", \"young\", \"family\", \"free\", \"feel\", \"covid\", \"drink\", \"hot\", \"tea\", \"fatalities\", \"epidemic\", \"epidemiological\", \"everyday\", \"ginger\", \"getting\", \"gerome\", \"exactly\", \"gants\", \"function\", \"far\", \"forever\", \"flu\", \"away\", \"want\", \"test\", \"far\", \"avoid\", \"people\", \"granddaughter\", \"wife\", \"pet\", \"husband\", \"vaccine\", \"okay\", \"helped\", \"sausage\", \"form\", \"wanted\", \"instead\", \"person\", \"missiles\", \"protected\", \"grandson\", \"son\", \"old\", \"young\", \"family\", \"free\", \"created\", \"mental\", \"mother\", \"research\", \"hurt\", \"corona\", \"infected\", \"zone\", \"gants\", \"function\", \"gerome\", \"flu\", \"getting\", \"ginger\", \"gloves\", \"gonna\", \"forever\", \"feeling\", \"floor\", \"fight\", \"fever\", \"feel\", \"fatalities\", \"extension\", \"explain\", \"exactly\", \"idea\", \"daughter\", \"minimum\", \"time\", \"good\", \"children\", \"won\", \"fever\", \"gloves\", \"wife\", \"pet\", \"husband\", \"granddaughter\", \"vaccine\", \"okay\", \"sausage\", \"form\", \"wanted\", \"instead\", \"helped\", \"person\", \"missiles\", \"protected\", \"grandson\", \"son\", \"old\", \"young\", \"family\", \"free\", \"created\", \"mental\", \"protect\", \"hands\", \"wash\", \"corona\", \"wear\", \"far\", \"epidemiological\", \"ginger\", \"getting\", \"gerome\", \"gants\", \"function\", \"effective\", \"epidemic\", \"forever\", \"fatalities\", \"everyday\", \"flu\", \"exactly\", \"visit\", \"statistics\", \"doctor\", \"need\", \"pet\", \"wife\", \"granddaughter\", \"vaccine\", \"husband\", \"okay\", \"helped\", \"sausage\", \"wanted\", \"instead\", \"form\", \"person\", \"missiles\", \"protected\", \"son\", \"grandson\", \"old\", \"young\", \"family\", \"free\", \"created\", \"mental\", \"mother\", \"hurt\", \"research\", \"come\", \"covid\", \"prevents\", \"drc\", \"floor\", \"flu\", \"forever\", \"zone\", \"fight\", \"gants\", \"gerome\", \"getting\", \"ginger\", \"function\", \"feel\", \"fever\", \"feeling\", \"gonna\", \"fatalities\", \"far\", \"extension\", \"explain\", \"exactly\", \"everyday\", \"epidemiological\"], \"Freq\": [52.0, 33.0, 19.0, 13.0, 12.0, 12.0, 9.0, 47.0, 13.0, 15.0, 12.0, 17.0, 19.0, 10.0, 6.0, 9.0, 9.0, 8.0, 6.0, 10.0, 5.0, 7.0, 5.0, 6.0, 6.0, 6.0, 6.0, 4.0, 3.0, 6.0, 12.802683396206232, 11.263429088556034, 1.532715617822846, 10.844802665396342, 0.7813844326325126, 0.7813844326325126, 0.7813844326325126, 0.7813844326325047, 0.7813844326325047, 1.532715617859426, 0.7813844326302262, 0.7813844326326029, 0.7813844325217568, 0.7813844326316509, 0.781384432626552, 7.358518350137684, 1.6750159160786, 0.030053247412497056, 0.03005324740894391, 0.03005324740894391, 0.03005324740894391, 0.03005324740894391, 0.03005324740894391, 0.03005324740894391, 0.03005324740894391, 0.03005324740894391, 0.03005324740894391, 0.03005324740894391, 0.03005324740894391, 0.03005324740894391, 0.10452438721114776, 0.03005324740894391, 0.030053247425890547, 0.030053247422411833, 0.03005324742229474, 0.030053247421040822, 0.030053247418011728, 0.03005324741513012, 0.03005324741458228, 0.030053247413193266, 0.030053247413193266, 0.030053247411467098, 0.030053247411365707, 7.5608280720356875, 8.39720285877828, 1.7062045649296231, 3.378954138409588, 0.869829778199404, 0.869829778199404, 0.8698297781994035, 0.8698297781994035, 0.8698297781994028, 0.8698297781994028, 0.8698297781994014, 0.8698297781993992, 0.8698297781752068, 1.7062045649263526, 1.7062045649119857, 0.8698297782104379, 0.8698297781992985, 0.8698297781966912, 0.8698297781918248, 0.8698297781929424, 0.8698297782000747, 3.0582833950247386, 8.925681859083653, 0.8698297781924565, 0.869829778185969, 1.7062045647435289, 0.03345499146920883, 0.03345499146920883, 0.03345499146920883, 0.03345499146920883, 0.03345499146920883, 0.03345499146920883, 0.03345499146920883, 0.03345499146920883, 0.03345499146920883, 0.03345499146920883, 0.03345499146920883, 0.03345499146920883, 0.033454991494138296, 0.033454991485345885, 0.033454991485345885, 0.033454991484066464, 1.6348311800156636, 1.634831180015661, 3.237606846707244, 5.641770346740823, 0.8334433466746395, 0.8334433466746395, 0.8334433466746395, 0.8334433466746357, 0.8334433466746357, 0.8334433466746319, 0.8334433466678773, 0.8334433466647981, 0.83344334666034, 2.4362190133384964, 3.237606846719359, 0.8334433466721057, 0.8334433466717196, 0.8334433466508194, 0.8334433466729522, 0.8334433466666321, 3.2376068467068104, 3.6136641887365544, 0.8334433466549207, 1.792410522003625, 1.6816736386871107, 0.032055513333640775, 0.032055513333640775, 0.032055513333640775, 0.032055513333640775, 0.032055513333640775, 0.032055513333640775, 0.032055513333640775, 0.032055513333640775, 0.032055513333640775, 0.032055513333640775, 0.032055513333640775, 0.032055513333640775, 0.032055513363966295, 0.03205551333549319, 0.032055513335321334, 0.0320555133347313, 0.03205551333461163, 0.7430624264918664, 0.7430624264918652, 0.7430624264918643, 0.7430624264918642, 0.7430624264918642, 0.7430624264918643, 0.7430624264918643, 0.7430624264918624, 0.7430624264918584, 0.7430624264918584, 0.7430624264918583, 0.7430624264918584, 0.7430624264918583, 0.7430624264884717, 1.4575455288870245, 4.315477938459392, 0.7430624264887773, 0.7430624264919413, 0.7430624264904319, 0.7430624264634983, 0.7430624264957117, 0.7430624264880028, 0.7430624264883454, 0.7430624264909832, 0.7430624264901088, 0.743062426491387, 0.743062426486527, 0.7430624264886915, 0.7430624264876982, 9.395625922771009, 2.77986559126231, 8.936066639136687, 1.5293502451751728, 3.7783947233808037, 1.5293502451820113, 0.7796687524436554, 0.7796687524436535, 0.7796687524436535, 0.7796687524436535, 0.7796687524339454, 0.7796687524152079, 0.7796687524447191, 0.7796687524412916, 1.8918668978186424, 0.7796687524317009, 8.276483679864818, 0.7796687524250118, 4.5280762160639725, 1.5293502451209138, 0.0299872597093722, 0.0299872597093722, 0.0299872597093722, 0.0299872597093722, 0.0299872597093722, 0.0299872597093722, 0.0299872597093722, 0.0299872597093722, 0.0299872597093722, 0.0299872597093722, 0.0299872597093722, 0.0299872597093722, 0.0299872597093722, 0.029987259715991272, 0.029987259710582963, 0.02998725971056, 0.029987259710219198, 0.029987259710085683, 0.029987259710016142, 0.029987259709938933, 0.0299872597093722, 0.0299872597093722, 0.0299872597093722, 0.0299872597093722, 0.0299872597093722, 5.232358030422714, 13.364614127960548, 2.259427331319476, 0.7729619817654472, 0.7729619817654454, 0.7729619817654416, 0.7729619817654416, 0.7729619817510694, 0.7729619817263823, 0.7729619817479214, 0.772961981751766, 5.733088552859649, 1.5161946564959432, 4.441453954065673, 0.02972930699097956, 0.02972930699097956, 0.02972930699097956, 0.02972930699097956, 0.02972930699097956, 0.02972930699097956, 0.02972930699097956, 0.02972930699097956, 0.02972930699097956, 0.02972930699097956, 0.02972930699097956, 0.02972930699097956, 0.02972930699097956, 0.02972930699097956, 0.02972930699097956, 0.02972930699097956, 0.02972930700276981, 0.029729307000707483, 0.029729307000707483, 0.029729306997113857, 0.02972930699670289, 0.029729306995674283, 0.02972930699482065, 0.02972930699452511, 0.02972930699402912, 0.0297293069938615, 0.029729306993820006, 0.029729306993093955, 0.029729306992476938, 0.02972930699191495, 0.029729306991677036, 0.02972930699165274, 11.626092414110209, 11.626092414110209, 1.5769433859590538, 0.8039319222525041, 0.8039319222525041, 0.8039319222525041, 0.8039319222525021, 0.8039319222525004, 0.8039319222524963, 0.8039319222524963, 0.8039319222423579, 0.8039319222414649, 0.8039319222524168, 0.8039319222373273, 0.8039319222523167, 0.803931922242453, 0.8039319222523256, 0.8039319222444125, 0.8039319222416014, 0.030920458548173962, 0.030920458548173962, 0.030920458548173962, 0.030920458548173962, 0.030920458548173962, 0.030920458548173962, 0.030920458548173962, 0.030920458548173962, 0.030920458548173962, 0.030920458548173962, 0.030920458548173962, 0.030920458548173962, 0.030920458548173962, 0.030921700001702253, 0.030920458569997054, 0.03092045856744583, 0.030920458564983034, 0.03092045855590847, 0.03092045855590847, 0.030920458552798756, 0.030920458551620403, 0.030920458551620403, 0.030920458549118644, 0.030920458548563574, 3.080491957802375, 2.3179939484369365, 4.60548797654736, 0.7929979297349312, 0.7929979297349312, 0.7929979297349297, 0.7929979297349297, 0.7929979297349259, 0.7929979297336174, 0.7929979297213503, 0.7929979297344832, 0.792997929710491, 0.7929979297170994, 0.7929979297274705, 9.793040500642077, 0.7929979297301836, 0.7929979297180132, 3.8429899671596712, 0.38571770947078143, 1.5554959389477485, 0.03049992037442121, 0.03049992037442121, 0.03049992037442121, 0.03049992037442121, 0.03049992037442121, 0.03049992037442121, 0.03049992037442121, 0.03049992037442121, 0.03049992037442121, 0.03049992037442121, 0.03049992037442121, 0.03049992037442121, 0.03049992037442121, 0.03049992038526064, 0.030499920383760377, 0.03049992037764368, 0.03049992037758622, 0.030499920375001103, 0.030499920374940377, 0.030499920374932862, 0.030499920374932862, 0.03049992037492822, 0.030499920374725757, 3.176941044958704, 0.8178264076136926, 0.8178264076136875, 0.8178264076136875, 0.8178264076102365, 0.8178264076102365, 0.8178264075958869, 1.6041979533982613, 13.839132298837507, 0.8178264076141512, 1.6041979533933857, 0.8178264076151179, 0.8178264076189272, 1.6041979533822226, 0.8178264076154067, 0.8178264076135885, 0.8178264076056746, 0.8178264075822079, 0.8178264075827406, 0.9123344402296006, 0.0314548618312966, 0.0314548618312966, 0.0314548618312966, 0.0314548618312966, 0.0314548618312966, 0.0314548618312966, 0.0314548618312966, 0.0314548618312966, 0.0314548618312966, 0.0314548618312966, 0.0314548618312966, 0.8682647625699166, 0.0314548618312966, 0.0314548618312966, 0.03145486184888566, 0.03145486183827481, 0.031454861835579336, 0.031454861834861354, 0.031454861834861354, 0.031454861834861354, 0.03145486183466515, 0.03145486183466515, 0.03145486183371988, 1.6908724633515417, 0.8620134126890606, 0.8620134126890606, 0.8620134126890606, 0.8620134126890606, 0.8620134126890606, 0.8620134126890606, 0.8620134126890584, 0.8620134126890572, 0.8620134126890572, 0.862013412689054, 0.862013412686378, 0.862013412686378, 0.8620134126852879, 0.8620134126756608, 1.690872463356921, 0.8620134126934181, 0.8620134126907204, 0.8620134126881903, 0.8620134126891604, 0.8620134126818106, 0.862013412692281, 0.8620134126949984, 0.8620134126857936, 0.8620134126923624, 0.8620134126878862, 0.8620134126765076, 3.3485905647198466, 1.1923857525917527, 0.03315436202650291, 0.03315436202650291, 0.03315436202650291, 0.03315436202650291, 0.03315436202650291, 0.03315436202650291, 0.033154362028551106, 4.7480613763759285, 3.9619584995126766, 0.8175469919589035, 0.8175469919589035, 2.3897527457579493, 0.8175469919454198, 1.6036498688509595, 0.8175469919637722, 3.1758556226363144, 0.8175469919590446, 0.8175469919577467, 2.389752745752185, 1.2235212591175988, 1.9040260682046177, 1.603649868756235, 0.03144411507534309, 0.03144411507534309, 0.03144411507534309, 0.03144411507534309, 0.03144411507534309, 0.03144411507534309, 0.03144411507534309, 0.03144411507534309, 0.03144411507534309, 0.03144411507534309, 0.03144411507534309, 0.03144411507534309, 0.03144411507534309, 0.03144411507534309, 0.03144411507534309, 0.03144411507534309, 0.1698924892674931, 0.03144411508016326, 0.03144411507620857, 0.03144411507534309, 0.03144411507534309, 0.03144411507534309, 0.03144411507534309, 0.03144411507534309, 0.03144411507534309, 0.03144411507534309, 0.03144411507534309, 0.03144411507534309, 0.03144411507534309, 0.03144411507534309, 3.036773082320282, 1.5334200712710404, 1.5334200712710389, 0.7817435657460075, 0.7817435657460075, 0.7817435657403505, 0.7817435657340511, 0.7817435657247336, 1.5334200712781214, 0.7817435657459169, 1.5334200712707031, 1.5334200712751354, 0.781743565743952, 0.7817435657474686, 0.78174356574544, 0.7817435657282764, 4.54012609351711, 2.4762103200310985, 1.533420071128591, 0.030067060221001057, 0.030067060221001057, 0.030067060221001057, 0.030067060221001057, 0.030067060221001057, 0.030067060221001057, 0.030067060221001057, 0.030067060221001057, 0.030067060221001057, 0.030067060221001057, 0.030067060221001057, 0.030067060221001057, 0.030067060221001057, 0.030067060224818233, 0.03006706022182831, 0.030067060221700047, 0.030067060221313644, 0.030067060221212413, 0.030067060221212413, 0.030067060221001057, 0.030067060221001057, 0.030067060221001057, 0.030067060221001057, 0.030067060221001057, 1.635528039099476, 0.8337986081683522, 0.8337986081683522, 0.8337986081683509, 0.8337986081683495, 0.8337986081683468, 0.8337986081683468, 0.8337986081683467, 0.8337986081649045, 0.8337986081649045, 0.8337986081603093, 0.8337986081578201, 1.6355280390933014, 0.8337986081671915, 0.8337986081707893, 0.8337986081706195, 0.8337986081697087, 0.8337986081718646, 1.6355280390983433, 0.8337986081661439, 1.6355280390809344, 0.8337986081714068, 0.833798608174057, 0.8337986081684614, 0.8337986081578748, 2.4372574700261294, 0.03206917723724487, 0.03206917723724487, 0.03206917723724487, 0.03206917723724487, 0.03206917723724487, 0.03206917723724487, 0.03206917723724487, 0.03206917723724487, 0.03206917723724487, 0.03206917723724487, 0.03206917723724487, 0.03206917723865702, 0.032069177238071664, 0.03206917723798508, 0.032069177237940595, 4.893977709360664, 3.2734552890424493, 4.893977709371254, 1.6529328687278708, 6.476772746000358, 2.4631940789551066, 0.03241044840638528, 0.03241044840638528, 0.03241044840638528, 0.03241044840638528, 0.03241044840638528, 0.03241044840638528, 0.03241044840638528, 0.03241044840638528, 0.03241044840638528, 0.03241044840638528, 0.03241044840638528, 0.03241044840638528, 0.03241044840638528, 0.03241044840638528, 0.03241044840638528, 0.03241044840638528, 0.03241044840638528, 0.03241044840638528, 0.03241044840638528, 0.03241044840638528, 0.03241044840638528, 0.03241044840638528, 0.03241044840638528, 0.03241044840638528, 0.03241044840638528, 0.03241044840638528, 0.03241044840638528, 0.032410448424129545, 0.032410448424129545, 0.032410448418238945, 0.03241044841311997, 0.03241044841256665, 0.03241044841256665, 0.032410448411815715, 0.032410448407506294, 0.03241044840742698, 0.03241044840638528, 0.03241044840638528, 0.03241044840638528, 0.03241044840638528, 0.03241044840638528, 0.03241044840638528, 0.03241044840638528, 0.03241044840638528, 0.03241044840638528, 0.03241044840638528, 0.03241044840638528, 0.03241044840638528, 0.03241044840638528, 2.379517562916187, 1.5967815224835147, 1.5967815224785558, 0.8140454820504116, 0.8140454820504116, 0.8140454820504117, 0.8140454820504117, 0.8140454820503976, 0.8140454820485687, 0.814045482047046, 0.814045482047046, 0.8140454820469778, 0.81404548205326, 0.814045482052948, 0.8140454820445908, 0.8140454820408356, 1.653870385420191, 3.944989643982366, 0.03130944161732406, 0.03130944161732406, 0.03130944161732406, 0.03130944161732406, 0.03130944161732406, 0.03130944161732406, 0.03130944161732406, 0.03130944161732406, 0.03130944161732406, 0.03130944161732406, 0.03130944161732406, 0.03130944161732406, 0.2482256697948569, 0.03130944161732406, 0.03130944161932118, 0.03130944161732406, 0.03130944161732406, 0.03130944161732406, 0.03130944161732406, 0.03130944161732406, 0.03130944161732406, 0.03130944161732406, 0.03130944161732406, 0.03130944161732406, 2.335387438095065, 0.7989483340865048, 0.798948334083913, 0.7989483340696587, 1.5671678861069067, 3.103606990123709, 0.7989483340865721, 0.7989483340889304, 0.7989483340701538, 8.991831750307906, 0.7989483340505968, 0.03072878208025075, 0.03072878208025075, 0.03072878208025075, 0.03072878208025075, 0.03072878208025075, 0.03072878208025075, 0.03072878208025075, 0.03072878208025075, 0.03072878208025075, 0.03072878208025075, 0.03072878208025075, 0.03072878208025075, 0.03072878208025075, 0.03072878208025075, 0.03072878208025075, 0.03072878208025075, 0.03072878208025075, 0.03072878208025075, 0.03072878208025075, 0.03072878209701471, 0.03072878208236561, 0.03072878208207281, 0.030728782081079393, 0.03072878208098074, 0.03072878208098074, 0.030728782080864565, 0.030728782080818966, 0.030728782080807513, 0.03072878208025075, 0.03072878208025075, 0.03072878208025075, 0.03072878208025075, 0.03072878208025075, 0.03072878208025075, 0.03072878208025075, 0.03072878208025075, 9.37396148103029, 1.519894672690892, 0.7748482645124526, 0.77484826451245, 0.7748482645132319, 0.774848264507703, 0.7748482645102781, 3.755033897381295, 1.5646460043588026, 0.774848264481398, 0.8766400896221413, 0.02980185632740257, 0.02980185632740257, 0.02980185632740257, 0.02980185632740257, 0.02980185632740257, 0.02980185632740257, 0.02980185632740257, 0.02980185632740257, 0.02980185632740257, 0.02980185632740257, 0.02980185632740257, 0.02980185632740257, 0.02980185632740257, 0.02980185632740257, 0.029801856344303528, 0.02980185632740257, 0.02980185632740257, 0.02980185632740257, 0.02980185632740257, 0.02980185633367177, 0.029801856332516037, 0.02980185633009582, 0.029801856329583567, 0.029801856329583567, 0.029801856328445873, 0.029801856328210412, 0.029801856327975763, 0.029801856327951824, 0.02980185632785009, 0.02980185632740257, 0.02980185632740257, 0.02980185632740257, 0.02980185632740257, 0.02980185632740257, 0.02980185632740257, 0.02980185632740257, 1.6597127912189928, 1.6597127912166088, 0.8461280896364305, 0.8461280896364305, 6.508568417202911, 0.8461280896365415, 1.6597127912406426, 3.579094314495985, 0.8461280896279246, 1.659712791185338, 0.03254338806311773, 0.03254338806311773, 0.03254338806311773, 0.03254338806311773, 0.03254338806311773, 0.03254338806311773, 0.03254338806311773, 0.03254338806311773, 0.03254338806311773, 0.03254338806311773, 0.03254338806311773, 0.03254338806311773, 0.03254338806311773, 0.03254338806311773, 0.03254338806311773, 0.03254338806311773, 0.03254338806311773, 0.03254338806311773, 0.03254338806311773, 0.03254338806311773, 0.03254338806629385, 0.03254338806614158, 0.03254338806581408, 0.03254338806573345, 0.032543388064949066, 0.0325433880643058, 0.03254338806412159, 0.03254338806394731, 0.03254338806375135, 0.03254338806356672, 0.03254338806344304, 0.03254338806344304, 0.03254338806311773, 0.03254338806311773, 0.03254338806311773, 0.03254338806311773, 0.03254338806311773, 0.03254338806311773, 0.8030652033909009, 0.8030652033909009, 0.8030652033909009, 0.8030652033909009, 0.8030652033908895, 0.8030652033850022, 0.8030652033850022, 0.8030652033740658, 3.119599443966769, 0.8030652033940247, 1.5752432835849857, 0.8030652033918604, 0.8030652033941439, 0.8030652033806996, 3.119599444008646, 0.8030652033765765, 1.5752432835696604, 0.030887123207342864, 0.030887123207342864, 0.030887123207342864, 0.030887123207342864, 0.030887123207342864, 0.030887123207342864, 0.030887123207342864, 0.030887123207342864, 0.030887123207342864, 0.030887123207342864, 0.030887123207342864, 0.030887123207342864, 0.030887123207342864, 0.03088712321045115, 0.030887123209449193, 0.030887123209449193, 0.030887123208946685, 0.030887123208446176, 0.030887123207797403, 0.030887123207797403, 0.030887123207342864, 0.030887123207342864, 0.030887123207342864, 0.030887123207342864, 0.030887123207342864, 5.456256693075822, 3.353028546889329, 2.523070985777628, 0.8631558635558543, 0.8631558635558523, 0.8631558635576019, 0.86315586355424, 2.51089423960962, 1.1813662069201523, 0.03319830244445636, 0.03319830244445636, 0.03319830244445636, 0.03319830244445636, 0.03319830244445636, 0.03319830244445636, 0.03319830244445636, 0.03319830244445636, 0.03319830244445636, 0.03319830244445636, 0.03319830244445636, 0.03319830244445636, 0.03319830244445636, 0.03319830244445636, 0.03319830244445636, 0.03319830244445636, 0.03319830244445636, 0.03319830244445636, 0.03319830244445636, 0.03319830244445636, 0.03319830244445636, 0.03319830244445636, 0.03319830246843747, 0.033198302452255544, 0.03319830244939835, 0.033198302448232124, 0.03319830244801273, 0.03319830244588225, 0.03319830244586986, 0.03319830244445636, 0.03319830244445636, 0.03319830244445636, 0.03319830244445636, 0.03319830244445636, 0.03319830244445636, 0.03319830244445636, 0.03319830244445636, 0.03319830244445636, 0.03319830244445636, 0.03319830244445636, 8.498940692962327, 0.8006248478884117, 0.8006248478884117, 1.5704564324104244, 1.5704564324063366, 0.8006248478840855, 0.836469747372285, 0.03079326338032395, 0.03079326338032395, 0.03079326338032395, 0.03079326338032395, 0.03079326338032395, 0.03079326338032395, 0.03079326338032395, 0.03079326338032395, 0.03079326338032395, 0.03079326338032395, 0.03079326338032395, 0.03079326338032395, 0.03079326338032395, 0.03079326338032395, 0.030793263403243776, 0.03079326338032395, 0.03079326338032395, 0.03079326338032395, 0.03079326338032395, 0.03079326338032395, 0.03079326338032395, 0.03079326338032395, 0.03079326338032395, 0.03079326338769821, 0.030793263383628724, 0.030793263383628724, 0.030793263383628724, 0.03079326338315842, 0.03079326338314316, 0.030793263382186072, 0.030793263382064177, 0.030793263381489175, 0.030793263381352905, 0.030793263381350622, 0.030793263381065587, 0.03079326338078665, 0.030793263380763908, 0.03079326338032395, 0.03079326338032395, 0.03079326338032395, 0.03079326338032395, 0.03079326338032395, 1.5652645808623065, 0.7979780216199334, 0.7979780216199335, 1.5652645808828283, 0.7979780216168221, 0.7979780216178941, 0.7979780216333746, 1.5652645809249086, 0.7979780216177095, 0.7979780215847021, 0.030691462369997775, 0.030691462369997775, 0.030691462369997775, 0.030691462369997775, 0.030691462369997775, 0.030691462369997775, 0.030691462369997775, 0.030691462369997775, 0.030691462369997775, 0.030691462369997775, 0.030691462369997775, 0.030691462369997775, 0.030691462369997775, 0.030691462369997775, 0.030691462369997775, 0.030691462369997775, 0.030691462369997775, 0.030691462369997775, 0.030691462369997775, 0.030691462369997775, 0.03069146247287039, 0.030691462372194663, 0.03069146237096618, 0.03069146237040029, 0.03069146237035814, 0.030691462369997775, 0.030691462369997775, 0.030691462369997775, 0.030691462369997775, 0.030691462369997775, 0.030691462369997775, 0.030691462369997775, 0.030691462369997775, 0.030691462369997775, 0.030691462369997775, 0.030691462369997775, 0.030691462369997775, 0.030691462369997775, 2.3416694033752075, 0.8010974274712105, 1.5713834154263535, 0.8010974274745399, 0.8010974274904917, 1.571383415430624, 0.030811439518123842, 0.030811439518123842, 0.030811439518123842, 0.030811439518123842, 0.030811439518123842, 0.030811439518123842, 0.030811439518123842, 0.030811439518123842, 0.030811439518123842, 0.030811439518123842, 0.030811439518123842, 0.030811439518123842, 0.030811439518123842, 0.030811439518123842, 0.030811439518123842, 0.030811439518123842, 0.030811439518123842, 0.030811439518123842, 0.030811439518123842, 0.030811439518123842, 0.030811439518123842, 0.030811439518123842, 0.030811439518123842, 0.030811439518123842, 0.030811439518123842, 0.8010974274549862, 0.03081143952036001, 0.030811439518123842, 0.030811439518123842, 0.030811439518123842, 0.030811439518123842, 0.030811439518123842, 0.030811439518123842, 0.030811439518123842, 0.030811439518123842, 0.030811439518123842, 0.030811439518123842, 0.030811439518123842, 0.030811439518123842, 0.030811439518123842, 0.030811439518123842, 0.030811439518123842, 0.030811439518123842, 0.030811439518123842, 0.030811439518123842, 0.030811439518123842, 0.8326774641211101, 0.8326774641211089, 0.8326774641175323, 0.8326774641175323, 0.8326774641255222, 0.8326774641228504, 0.8326774641233551, 0.8326774641280676, 0.8716714345612611, 0.032026056312350684, 0.032026056312350684, 0.032026056312350684, 0.032026056312350684, 0.032026056312350684, 0.032026056312350684, 0.032026056312350684, 0.032026056312350684, 0.032026056312350684, 0.032026056312350684, 0.032026056312350684, 0.032026056312350684, 0.032026056312350684, 0.032026056312350684, 0.032026056312350684, 0.032026056312350684, 0.032026056312350684, 0.032026056312350684, 0.032026056312350684, 0.032026056312350684, 0.032026056312350684, 0.032026056312350684, 0.03202605636776125, 0.0320260563137762, 0.0320260563137762, 0.032026056313175115, 0.03202605631281363, 0.032026056312350684, 0.032026056312350684, 0.032026056312350684, 0.032026056312350684, 0.032026056312350684, 0.032026056312350684, 0.032026056312350684, 0.032026056312350684, 0.032026056312350684, 0.032026056312350684, 0.032026056312350684, 0.032026056312350684, 0.032026056312350684, 0.032026056312350684, 0.8214996614787031, 1.6114031821461774, 1.6114031821373906, 0.8214996614830777, 0.0315961408261042, 0.0315961408261042, 0.0315961408261042, 0.0315961408261042, 0.0315961408261042, 0.0315961408261042, 0.0315961408261042, 0.0315961408261042, 0.0315961408261042, 0.0315961408261042, 0.0315961408261042, 0.0315961408261042, 0.0315961408261042, 0.0315961408261042, 0.0315961408261042, 0.0315961408261042, 0.0315961408261042, 0.0315961408261042, 0.0315961408261042, 0.0315961408261042, 0.0315961408261042, 0.0315961408261042, 0.0315961408261042, 0.0315961408261042, 0.0315961408261042, 0.0315961408261042, 0.8214996615209332, 0.0315961408261042, 0.03159614082832373, 0.0315961408261042, 0.0315961408261042, 0.0315961408261042, 0.0315961408261042, 0.0315961408261042, 0.0315961408261042, 0.0315961408261042, 0.0315961408261042, 0.0315961408261042, 0.0315961408261042, 0.0315961408261042, 0.0315961408261042, 0.0315961408261042, 0.0315961408261042, 0.0315961408261042, 0.0315961408261042, 0.0315961408261042, 0.0315961408261042, 0.0315961408261042, 0.0315961408261042, 0.0315961408261042], \"Total\": [52.0, 33.0, 19.0, 13.0, 12.0, 12.0, 9.0, 47.0, 13.0, 15.0, 12.0, 17.0, 19.0, 10.0, 6.0, 9.0, 9.0, 8.0, 6.0, 10.0, 5.0, 7.0, 5.0, 6.0, 6.0, 6.0, 6.0, 4.0, 3.0, 6.0, 13.552897451676444, 12.853288522286352, 2.282929673323406, 19.864474914582292, 1.531598488098719, 1.531598488098719, 1.531598488098719, 1.5315984880987112, 1.5315984880987112, 3.0559411370261946, 2.333327919029977, 2.3679732748288997, 2.367973274832065, 2.989314265270807, 3.8713759703374984, 52.05567174674745, 15.825537575895655, 1.4947504052713336, 1.494750405271167, 1.494750405271167, 1.494750405271167, 1.494750405271167, 1.494750405271167, 1.494750405271171, 1.4947504052711729, 1.4947504052711729, 1.494750405271173, 1.494750405271173, 1.494750405271173, 1.494750405271174, 13.745448993871134, 1.494750405271175, 1.5666388486566876, 2.383384567145996, 1.5816551362152007, 1.6091263535364053, 3.0578998224416956, 4.666200464543609, 1.5319438084001382, 1.5938520044527131, 1.5938520044527131, 1.5484868548813362, 1.6091263535374474, 8.307640383446708, 9.917026633882193, 2.4530168763355653, 4.92715428313778, 1.6166420896053457, 1.6166420896053457, 1.6166420896053453, 1.6166420896053453, 1.6166420896053446, 1.6166420896053446, 1.6166420896053433, 1.616642089605341, 1.6166420896051297, 3.2260283400396026, 4.067978803880575, 2.367973274832065, 2.3679732748288997, 2.399378130038257, 2.4172934974133797, 2.4455011402675026, 3.1174967377843323, 15.825537575895655, 52.05567174674745, 5.506368674222993, 6.221566943667293, 47.929382048209064, 1.494750405271167, 1.494750405271167, 1.494750405271167, 1.494750405271167, 1.494750405271167, 1.494750405271171, 1.4947504052711729, 1.494750405271173, 1.494750405271174, 1.494750405271175, 1.4947504052711729, 1.494750405271173, 2.3236094559382163, 2.989314265270807, 1.5234999776513776, 1.5427653122369374, 2.3830429695571738, 2.383042969557171, 4.735500128974192, 10.216116998611659, 1.5816551362161493, 1.5816551362161493, 1.5816551362161493, 1.5816551362161455, 1.5816551362161455, 1.5816551362161417, 1.5816551362156563, 1.5816551362156472, 1.5816551362152007, 4.666200464543609, 6.344395935789091, 2.3498746882222954, 2.3643911766491654, 2.383384567145996, 2.4116126973276075, 3.898964295148653, 17.3391614213242, 19.864474914582292, 4.92715428313778, 47.929382048209064, 52.05567174674745, 1.494750405271167, 1.494750405271167, 1.494750405271167, 1.494750405271167, 1.494750405271167, 1.494750405271171, 1.4947504052711729, 1.4947504052711729, 1.494750405271175, 1.494750405271173, 1.494750405271174, 1.494750405271173, 1.5299487956113118, 6.905277958721168, 3.0559411370261946, 6.221566943667293, 13.745448993871134, 1.494750405271175, 1.494750405271174, 1.494750405271173, 1.4947504052711729, 1.4947504052711729, 1.494750405271173, 1.494750405271173, 1.494750405271171, 1.494750405271167, 1.494750405271167, 1.494750405271167, 1.494750405271167, 1.494750405271167, 1.4947504052713336, 2.9814115878508507, 9.65868737761968, 2.265036393224502, 2.267761868975493, 2.323609455933958, 2.3236094559382163, 2.989314265270807, 2.994113390739951, 3.040773332680138, 3.0461613289368312, 3.0493415030608864, 3.0578998224416956, 3.1174967377843323, 3.1524685065966036, 3.8479982758647964, 52.05567174674745, 15.825537575895655, 10.567226260705322, 2.279630288343975, 6.132133628408847, 2.994113390739951, 1.5299487956094338, 1.5299487956094318, 1.5299487956094318, 1.5299487956094318, 1.5299487956089297, 1.5299487956113118, 2.3316782265404443, 3.0461613289368312, 10.216116998611659, 4.735500128974192, 52.05567174674745, 5.433482673521064, 47.929382048209064, 17.3391614213242, 1.494750405271167, 1.494750405271167, 1.494750405271167, 1.494750405271167, 1.494750405271167, 1.494750405271171, 1.4947504052711729, 1.4947504052711729, 1.494750405271173, 1.494750405271173, 1.494750405271173, 1.494750405271174, 1.494750405271175, 2.368099610689504, 9.65868737761968, 15.825537575895655, 33.923314325902496, 9.248414732464227, 6.344395935789091, 19.864474914582292, 2.265036393224502, 1.563003343308239, 2.2836203139251885, 1.5816551362156563, 1.5234999776503741, 7.586354888158014, 19.75598098073583, 3.7724633365588294, 1.523499977649618, 1.5234999776496163, 1.5234999776496125, 1.5234999776496125, 1.5234999776513776, 1.5234999776503741, 2.989314265270807, 3.059939081662593, 33.923314325902496, 9.65868737761968, 47.929382048209064, 1.494750405271167, 1.494750405271167, 1.494750405271167, 1.494750405271167, 1.494750405271167, 1.494750405271171, 1.494750405271173, 1.4947504052711729, 1.4947504052711729, 1.494750405271173, 1.494750405271173, 1.494750405271174, 1.494750405271175, 1.4947504052713336, 1.5253137110601984, 1.5253137110602009, 1.5319438083999908, 1.5532787665790624, 3.0559411370261946, 4.666200464543609, 4.067978803880575, 2.3457393837410776, 3.0849259588938063, 15.825537575895655, 5.469095639064357, 3.8479982758647964, 2.4455011402675026, 3.0911252667343487, 6.558543482607839, 3.2701399862092586, 52.05567174674745, 4.100097547320696, 12.375439258440425, 12.375439258440425, 3.040773332680138, 1.5532787665794807, 1.5532787665794807, 1.5532787665794807, 1.5532787665794787, 1.5532787665794772, 1.553278766579473, 1.553278766579473, 1.5532787665790624, 1.553278766579281, 2.267761868975493, 3.0559411370261946, 3.2260283400396026, 5.433482673521064, 5.476843402285238, 6.31265220165937, 9.917026633882193, 1.494750405271167, 1.494750405271167, 1.494750405271167, 1.494750405271167, 1.494750405271167, 1.494750405271171, 1.4947504052711729, 1.4947504052711729, 1.494750405271173, 1.494750405271173, 1.494750405271173, 1.494750405271174, 1.494750405271175, 47.929382048209064, 1.5319438084007062, 3.067761330956938, 1.552445383058683, 1.5819967338059495, 2.383384567145996, 6.221566943667293, 1.580918710683779, 1.580918710683779, 33.923314325902496, 19.75598098073583, 3.8302593403181344, 3.067761330956938, 6.905277958721168, 1.5427653122356606, 1.5427653122356606, 1.542765312235659, 1.542765312235659, 1.5427653122356553, 1.5427653122357725, 1.5427653122369374, 2.3291368580180674, 3.0578998224416956, 3.1225723535416776, 3.7724633365588294, 47.929382048209064, 3.8825427944744564, 4.585781492301875, 33.923314325902496, 6.558543482607839, 52.05567174674745, 1.494750405271167, 1.494750405271167, 1.494750405271167, 1.494750405271167, 1.494750405271167, 1.494750405271171, 1.4947504052711729, 1.4947504052711729, 1.494750405271173, 1.494750405271173, 1.494750405271174, 1.494750405271173, 1.494750405271175, 1.553278766579281, 1.5816551362156472, 10.216116998611659, 3.2260283400396026, 8.307640383446708, 9.917026633882193, 12.375439258440425, 12.375439258440425, 15.825537575895655, 9.248414732464227, 5.469095639064357, 1.5666388486575467, 1.5666388486575415, 1.5666388486575415, 1.5666388486577572, 1.5666388486577572, 1.5666388486566876, 3.1046868999650665, 33.923314325902496, 2.3291368580180674, 5.476843402285238, 3.0493415030608864, 3.1174967377843323, 6.198066682648084, 3.8713759703374984, 3.8825427944744564, 4.7270554470193575, 5.506368674222993, 6.344395935789091, 10.567226260705322, 1.494750405271167, 1.494750405271167, 1.494750405271167, 1.494750405271167, 1.494750405271167, 1.494750405271171, 1.4947504052711729, 1.4947504052711729, 1.494750405271173, 1.494750405271173, 1.494750405271173, 47.929382048209064, 1.494750405271174, 1.494750405271175, 2.282929673323406, 2.2703601192456184, 2.368099610689504, 3.1524685065966036, 2.3236094559382163, 1.6091263535375002, 1.581996733806179, 1.581996733806179, 8.307640383446708, 3.1524685065966036, 1.6091263535377083, 1.6091263535377083, 1.6091263535377083, 1.6091263535377083, 1.6091263535377083, 1.6091263535377083, 1.609126353537706, 1.6091263535377047, 1.6091263535377047, 1.6091263535377016, 1.6091263535374474, 1.6091263535374474, 1.6091263535375002, 1.6091263535364053, 3.1830318123858694, 2.3236094559382163, 2.323609455933958, 2.3541727617226673, 2.360802859062724, 2.4097777613460516, 2.4455011402675026, 4.067978803880575, 4.670760321654646, 5.469095639064357, 5.476843402285238, 6.31265220165937, 47.929382048209064, 52.05567174674745, 1.494750405271167, 1.494750405271167, 1.494750405271167, 1.494750405271167, 1.494750405271173, 1.494750405271173, 12.853288522286352, 5.496884564176595, 6.31265220165937, 1.566370179758711, 1.566370179758711, 5.506368674222993, 2.368099610689504, 6.344395935789091, 4.067978803880575, 17.3391614213242, 4.670760321654646, 4.7270554470193575, 19.864474914582292, 10.216116998611659, 52.05567174674745, 47.929382048209064, 1.494750405271167, 1.494750405271167, 1.494750405271167, 1.494750405271167, 1.494750405271167, 1.494750405271171, 1.4947504052711729, 1.494750405271173, 1.494750405271173, 1.494750405271173, 1.4947504052711729, 1.494750405271174, 1.494750405271175, 1.4947504052713336, 1.5234999776496125, 1.5234999776496125, 33.923314325902496, 12.853288522286352, 10.567226260705322, 1.5484868548813362, 1.5234999776513776, 2.323609455933958, 1.6091263535377083, 1.6166420896053457, 1.553278766579281, 2.3457393837413414, 1.5427653122356553, 9.65868737761968, 1.552445383058709, 2.367973274832065, 3.78697332497526, 2.2836203139251903, 2.2836203139251885, 1.5319438084001569, 1.5319438084001569, 1.5319438084001382, 1.5319438083999908, 1.5319438084007062, 4.585781492301875, 2.360802859062724, 4.670760321654646, 5.433482673521064, 3.1046868999650665, 3.8713759703374984, 3.8825427944744564, 5.476843402285238, 47.929382048209064, 33.923314325902496, 52.05567174674745, 1.494750405271167, 1.494750405271167, 1.494750405271167, 1.494750405271167, 1.494750405271167, 1.494750405271171, 1.494750405271173, 1.494750405271173, 1.4947504052711729, 1.4947504052711729, 1.494750405271173, 1.494750405271174, 1.494750405271175, 6.198066682648084, 19.864474914582292, 13.552897451676444, 19.75598098073583, 12.375439258440425, 12.375439258440425, 2.323609455933958, 1.5484868548813362, 1.5234999776513776, 1.6091263535377083, 1.6166420896053457, 2.3837261647373817, 1.581996733806258, 1.581996733806258, 1.5819967338062566, 1.5819967338062553, 1.5819967338062526, 1.5819967338062526, 1.5819967338062524, 1.581996733806179, 1.581996733806179, 1.5819967338059495, 1.581996733806683, 3.9635332060424937, 2.3316782265404443, 2.333327919029977, 2.368099610689504, 2.383384567145996, 3.0461613289368312, 6.132133628408847, 3.202519154125535, 7.586354888158014, 3.8713759703374984, 3.8825427944744564, 6.221566943667293, 6.443563994763994, 47.929382048209064, 1.494750405271167, 1.494750405271167, 1.494750405271167, 1.494750405271167, 1.494750405271167, 1.494750405271171, 1.4947504052711729, 1.494750405271174, 1.494750405271173, 1.494750405271175, 1.4947504052711729, 33.923314325902496, 8.307640383446708, 9.917026633882193, 52.05567174674745, 5.6418345638327745, 4.0213121435135974, 6.443563994763994, 3.202519154125535, 17.3391614213242, 47.929382048209064, 1.494750405271167, 1.494750405271167, 1.494750405271167, 1.494750405271167, 1.494750405271167, 1.494750405271171, 1.4947504052711729, 1.4947504052711729, 1.494750405271173, 1.494750405271173, 1.494750405271173, 1.494750405271174, 1.494750405271175, 1.4947504052713336, 1.5234999776496125, 1.5234999776496125, 1.5234999776496163, 1.523499977649618, 1.5234999776503741, 1.5234999776513776, 1.5253137110601984, 1.5253137110602009, 1.5299487956089297, 1.5299487956094318, 1.5299487956094318, 1.5299487956094338, 1.5299487956094318, 1.548486854882303, 3.0493415030608864, 3.8302593403181344, 33.923314325902496, 1.5524453830589917, 1.5524453830589917, 15.825537575895655, 9.248414732464227, 6.221566943667293, 1.553278766579281, 1.5484868548813362, 2.323609455933958, 2.3837261647373817, 2.3457393837413414, 1.6166420896053457, 1.5427653122356553, 1.6091263535377083, 9.65868737761968, 1.552445383058709, 2.367973274832065, 1.5630033433082242, 2.265036393224502, 3.1284754241744452, 2.3457393837413414, 2.3457393837410776, 1.5630033433082382, 1.5630033433082382, 1.5630033433082382, 1.5630033433082382, 1.5630033433082242, 1.563003343308239, 1.5630033433081774, 1.5630033433081774, 2.331222895314431, 2.3643911766491654, 2.399378130038257, 3.898964295148653, 6.905277958721168, 19.75598098073583, 47.929382048209064, 1.494750405271167, 1.494750405271167, 1.494750405271167, 1.494750405271167, 1.494750405271167, 1.494750405271171, 1.4947504052711729, 1.4947504052711729, 1.494750405271173, 1.494750405271173, 1.494750405271173, 1.494750405271174, 33.923314325902496, 1.494750405271175, 9.248414732464227, 1.5234999776513776, 2.3837261647373817, 1.5484868548813362, 2.323609455933958, 1.6091263535377083, 1.5427653122356553, 1.553278766579281, 1.6166420896053457, 1.5666388486577572, 3.0849259588938063, 1.5484868548814048, 1.5484868548813362, 1.548486854882303, 3.059939081662593, 6.198066682648084, 2.331222895314431, 2.3498746882222954, 3.0493415030608864, 52.05567174674745, 19.864474914582292, 1.494750405271167, 1.494750405271167, 1.494750405271167, 1.494750405271167, 1.494750405271167, 1.494750405271171, 1.494750405271173, 1.4947504052711729, 1.494750405271173, 1.4947504052711729, 1.494750405271173, 1.494750405271174, 1.494750405271175, 1.4947504052713336, 1.5234999776496125, 1.5234999776496125, 1.5234999776496163, 1.523499977649618, 1.5234999776503741, 2.282929673323406, 47.929382048209064, 12.853288522286352, 3.78697332497526, 6.443563994763994, 5.6418345638327745, 7.586354888158014, 13.745448993871134, 33.923314325902496, 1.5234999776513776, 1.553278766579281, 1.6091263535377083, 1.5630033433081774, 2.3457393837413414, 1.6166420896053457, 1.6166420896053457, 2.3837261647373817, 13.745448993871134, 2.2703601192456184, 1.5253137110602009, 1.5253137110601984, 2.3541727617226673, 3.1830318123858694, 5.506368674222993, 47.929382048209064, 33.923314325902496, 17.3391614213242, 19.864474914582292, 1.494750405271167, 1.494750405271167, 1.494750405271167, 1.494750405271167, 1.494750405271167, 1.494750405271171, 1.4947504052711729, 1.4947504052711729, 1.494750405271173, 1.494750405271173, 1.494750405271173, 1.494750405271174, 1.494750405271175, 1.4947504052713336, 1.5234999776503741, 1.5234999776496125, 1.5234999776496125, 1.5234999776496163, 1.523499977649618, 1.5816551362156563, 2.4172934974133797, 12.853288522286352, 2.407436706030823, 5.433482673521064, 5.469095639064357, 13.552897451676444, 10.216116998611659, 52.05567174674745, 9.248414732464227, 1.553278766579281, 2.323609455933958, 2.3837261647373817, 1.5484868548813362, 1.5234999776513776, 1.6091263535377083, 2.3457393837413414, 2.407436706031026, 2.407436706030823, 1.5938520044527131, 1.5938520044527131, 15.825537575895655, 2.3837555251055482, 5.433482673521064, 13.745448993871134, 3.8479982758647964, 33.923314325902496, 1.494750405271167, 1.494750405271167, 1.494750405271167, 1.494750405271167, 1.494750405271167, 1.494750405271171, 1.494750405271173, 1.4947504052711729, 1.494750405271173, 1.4947504052711729, 1.494750405271173, 1.494750405271174, 1.494750405271175, 1.4947504052713336, 1.5234999776496125, 1.5234999776496125, 1.5234999776496163, 1.523499977649618, 1.5234999776503741, 1.5234999776513776, 3.8302593403181344, 2.279630288343975, 47.929382048209064, 12.853288522286352, 19.75598098073583, 19.864474914582292, 13.552897451676444, 4.0213121435135974, 17.3391614213242, 52.05567174674745, 5.6418345638327745, 6.443563994763994, 1.5484868548813362, 1.553278766579281, 2.323609455933958, 2.3837261647373817, 1.6091263535377083, 2.3457393837413414, 1.552445383058709, 1.552445383058709, 1.552445383058709, 1.552445383058709, 1.5524453830586977, 1.5524453830589917, 1.5524453830589917, 1.552445383058683, 6.221566943667293, 2.3197319423086573, 4.7270554470193575, 2.9814115878508507, 4.670760321654646, 6.198066682648084, 33.923314325902496, 10.216116998611659, 47.929382048209064, 1.494750405271167, 1.494750405271167, 1.494750405271167, 1.494750405271167, 1.494750405271167, 1.494750405271171, 1.4947504052711729, 1.4947504052711729, 1.494750405271173, 1.494750405271173, 1.494750405271173, 1.494750405271174, 1.494750405271175, 4.735500128974192, 5.6418345638327745, 6.443563994763994, 3.040773332680138, 19.864474914582292, 12.375439258440425, 12.375439258440425, 1.6166420896053457, 1.553278766579281, 1.5427653122356553, 2.3457393837413414, 1.6091263535377083, 6.558543482607839, 4.100097547320696, 3.2701399862092586, 1.6102248639865488, 1.6102248639865469, 2.4116126973276075, 4.7270554470193575, 19.75598098073583, 15.825537575895655, 1.494750405271167, 1.494750405271167, 1.494750405271167, 1.494750405271167, 1.494750405271167, 1.494750405271171, 1.4947504052711729, 1.4947504052711729, 1.494750405271173, 1.494750405271173, 1.494750405271173, 1.494750405271174, 1.494750405271175, 1.4947504052713336, 1.5234999776496125, 1.5234999776496125, 1.5234999776496163, 1.523499977649618, 1.5234999776503741, 1.5234999776513776, 1.5253137110601984, 1.5253137110602009, 1.6166420896051297, 47.929382048209064, 33.923314325902496, 3.1225723535416776, 5.469095639064357, 1.5427653122357725, 52.05567174674745, 1.6166420896053433, 2.3837261647373817, 2.323609455933958, 2.2836203139251903, 1.5484868548813362, 1.553278766579473, 1.5319438084007062, 1.553278766579281, 2.265036393224502, 2.3457393837413414, 1.563003343308239, 9.248414732464227, 1.5500988873832389, 1.5500988873832389, 3.8479982758647964, 4.585781492301875, 9.65868737761968, 17.3391614213242, 1.494750405271167, 1.494750405271167, 1.494750405271167, 1.494750405271167, 1.494750405271167, 1.494750405271171, 1.4947504052711729, 1.4947504052711729, 1.494750405271173, 1.494750405271173, 1.494750405271173, 1.494750405271174, 1.494750405271175, 1.4947504052713336, 1.5234999776503741, 1.5234999776496125, 1.5234999776496125, 1.5234999776496163, 1.523499977649618, 1.5234999776513776, 1.5253137110601984, 1.5253137110602009, 1.5299487956089297, 5.506368674222993, 1.5630033433081774, 1.5630033433081774, 2.331222895314431, 19.75598098073583, 5.476843402285238, 10.216116998611659, 15.825537575895655, 6.132133628408847, 47.929382048209064, 4.0213121435135974, 13.745448993871134, 10.567226260705322, 52.05567174674745, 1.5484868548813362, 1.553278766579281, 2.3457393837413414, 1.6166420896053457, 1.6166420896053457, 2.3148404213756946, 1.5475538621250864, 1.5475538621250866, 3.898964295148653, 2.3197319423086573, 3.0881258380312766, 4.666200464543609, 9.65868737761968, 6.905277958721168, 33.923314325902496, 1.494750405271167, 1.494750405271167, 1.494750405271167, 1.494750405271167, 1.494750405271167, 1.494750405271171, 1.4947504052711729, 1.4947504052711729, 1.494750405271173, 1.494750405271173, 1.494750405271173, 1.494750405271174, 1.494750405271175, 1.4947504052713336, 1.5234999776496125, 1.5234999776496125, 1.5234999776496163, 1.523499977649618, 1.5234999776503741, 1.5234999776513776, 2.367973274832065, 47.929382048209064, 4.92715428313778, 8.307640383446708, 9.917026633882193, 1.5630033433082242, 2.2836203139251903, 1.553278766579473, 1.5319438084007062, 1.5666388486577572, 5.506368674222993, 2.3837261647373817, 1.563003343308239, 2.323609455933958, 1.5484868548813362, 2.265036393224502, 1.553278766579281, 2.3457393837413414, 3.0911252667343487, 1.5505532908282376, 3.0881258380312766, 2.265036393224502, 5.476843402285238, 19.75598098073583, 1.494750405271167, 1.494750405271167, 1.494750405271167, 1.494750405271167, 1.494750405271167, 1.494750405271171, 1.4947504052711729, 1.4947504052711729, 1.494750405271173, 1.494750405271173, 1.494750405271173, 1.494750405271174, 1.494750405271175, 1.4947504052713336, 1.5234999776496125, 1.5234999776496125, 1.5234999776496163, 1.523499977649618, 1.5234999776503741, 1.5234999776513776, 1.5253137110601984, 1.5253137110602009, 1.5299487956089297, 1.5299487956094318, 1.5299487956094318, 52.05567174674745, 7.586354888158014, 1.6091263535377083, 2.323609455933958, 1.5484868548813362, 2.3837261647373817, 2.3457393837413414, 5.506368674222993, 1.5666388486577572, 12.853288522286352, 1.581996733806179, 1.553278766579281, 1.552445383058709, 1.6166420896053457, 1.5427653122356553, 9.65868737761968, 2.367973274832065, 1.5630033433082242, 1.5816551362156563, 2.2836203139251885, 1.563003343308239, 1.5809187106839102, 1.580918710683909, 1.580918710683779, 1.580918710683779, 2.4097777613460516, 2.4172934974133797, 3.0578998224416956, 9.65868737761968, 12.853288522286352, 1.494750405271167, 1.494750405271167, 1.494750405271167, 1.494750405271167, 1.494750405271167, 1.494750405271171, 1.4947504052711729, 1.494750405271173, 1.494750405271173, 1.494750405271173, 1.4947504052711729, 1.494750405271174, 1.494750405271175, 1.4947504052713336, 1.5234999776496125, 1.5234999776496125, 1.5234999776496163, 1.523499977649618, 1.5234999776503741, 1.5234999776513776, 1.5253137110601984, 1.5253137110602009, 13.745448993871134, 12.375439258440425, 12.375439258440425, 52.05567174674745, 13.552897451676444, 2.265036393224502, 1.553278766579473, 1.5666388486577572, 5.506368674222993, 2.3837261647373817, 2.323609455933958, 1.5484868548813362, 1.6166420896053433, 2.2836203139251903, 1.553278766579281, 1.5630033433082242, 1.5319438084007062, 2.3457393837413414, 1.563003343308239, 1.5701708235277496, 3.1225723535416776, 3.9635332060424937, 2.3837555251055482, 1.494750405271167, 1.494750405271167, 1.494750405271167, 1.494750405271167, 1.494750405271167, 1.494750405271171, 1.4947504052711729, 1.4947504052711729, 1.494750405271173, 1.494750405271173, 1.494750405271173, 1.494750405271174, 1.494750405271175, 1.4947504052713336, 1.5234999776496125, 1.5234999776496125, 1.5234999776496163, 1.523499977649618, 1.5234999776503741, 1.5234999776513776, 1.5253137110601984, 1.5253137110602009, 1.5299487956089297, 1.5299487956094318, 1.5299487956094318, 1.5299487956094318, 47.929382048209064, 1.5299487956094338, 6.558543482607839, 1.6166420896053457, 2.3457393837413414, 1.553278766579281, 1.6091263535377083, 1.5427653122356553, 2.323609455933958, 2.3837261647373817, 5.506368674222993, 1.5666388486577572, 1.5484868548813362, 2.367973274832065, 9.65868737761968, 1.552445383058709, 1.581996733806179, 1.5630033433082242, 2.265036393224502, 1.5816551362156563, 2.2836203139251885, 1.563003343308239, 1.5319438084007062, 1.553278766579473], \"Category\": [\"Default\", \"Default\", \"Default\", \"Default\", \"Default\", \"Default\", \"Default\", \"Default\", \"Default\", \"Default\", \"Default\", \"Default\", \"Default\", \"Default\", \"Default\", \"Default\", \"Default\", \"Default\", \"Default\", \"Default\", \"Default\", \"Default\", \"Default\", \"Default\", \"Default\", \"Default\", \"Default\", \"Default\", \"Default\", \"Default\", \"Topic1\", \"Topic1\", \"Topic1\", \"Topic1\", \"Topic1\", \"Topic1\", \"Topic1\", \"Topic1\", \"Topic1\", \"Topic1\", \"Topic1\", \"Topic1\", \"Topic1\", \"Topic1\", \"Topic1\", \"Topic1\", \"Topic1\", \"Topic1\", \"Topic1\", \"Topic1\", \"Topic1\", \"Topic1\", \"Topic1\", \"Topic1\", \"Topic1\", \"Topic1\", \"Topic1\", \"Topic1\", \"Topic1\", \"Topic1\", \"Topic1\", \"Topic1\", \"Topic1\", \"Topic1\", \"Topic1\", \"Topic1\", \"Topic1\", \"Topic1\", \"Topic1\", \"Topic1\", \"Topic1\", \"Topic1\", \"Topic1\", \"Topic2\", \"Topic2\", \"Topic2\", \"Topic2\", \"Topic2\", \"Topic2\", \"Topic2\", \"Topic2\", \"Topic2\", \"Topic2\", \"Topic2\", \"Topic2\", \"Topic2\", \"Topic2\", \"Topic2\", \"Topic2\", \"Topic2\", \"Topic2\", \"Topic2\", \"Topic2\", \"Topic2\", \"Topic2\", \"Topic2\", \"Topic2\", \"Topic2\", \"Topic2\", \"Topic2\", \"Topic2\", \"Topic2\", \"Topic2\", \"Topic2\", \"Topic2\", \"Topic2\", \"Topic2\", \"Topic2\", \"Topic2\", \"Topic2\", \"Topic2\", \"Topic2\", \"Topic2\", \"Topic2\", \"Topic2\", \"Topic3\", \"Topic3\", \"Topic3\", \"Topic3\", \"Topic3\", \"Topic3\", \"Topic3\", \"Topic3\", \"Topic3\", \"Topic3\", \"Topic3\", \"Topic3\", \"Topic3\", \"Topic3\", \"Topic3\", \"Topic3\", \"Topic3\", \"Topic3\", \"Topic3\", \"Topic3\", \"Topic3\", \"Topic3\", \"Topic3\", \"Topic3\", \"Topic3\", \"Topic3\", \"Topic3\", \"Topic3\", \"Topic3\", \"Topic3\", \"Topic3\", \"Topic3\", \"Topic3\", \"Topic3\", \"Topic3\", \"Topic3\", \"Topic3\", \"Topic3\", \"Topic3\", \"Topic3\", \"Topic3\", \"Topic3\", \"Topic4\", \"Topic4\", \"Topic4\", \"Topic4\", \"Topic4\", \"Topic4\", \"Topic4\", \"Topic4\", \"Topic4\", \"Topic4\", \"Topic4\", \"Topic4\", \"Topic4\", \"Topic4\", \"Topic4\", \"Topic4\", \"Topic4\", \"Topic4\", \"Topic4\", \"Topic4\", \"Topic4\", \"Topic4\", \"Topic4\", \"Topic4\", \"Topic4\", \"Topic4\", \"Topic4\", \"Topic4\", \"Topic4\", \"Topic4\", \"Topic4\", \"Topic5\", \"Topic5\", \"Topic5\", \"Topic5\", \"Topic5\", \"Topic5\", \"Topic5\", \"Topic5\", \"Topic5\", \"Topic5\", \"Topic5\", \"Topic5\", \"Topic5\", \"Topic5\", \"Topic5\", \"Topic5\", \"Topic5\", \"Topic5\", \"Topic5\", \"Topic5\", \"Topic5\", \"Topic5\", \"Topic5\", \"Topic5\", \"Topic5\", \"Topic5\", \"Topic5\", \"Topic5\", \"Topic5\", \"Topic5\", \"Topic5\", \"Topic5\", \"Topic5\", \"Topic5\", \"Topic5\", \"Topic5\", \"Topic5\", \"Topic5\", \"Topic5\", \"Topic5\", \"Topic5\", \"Topic5\", \"Topic5\", \"Topic6\", \"Topic6\", \"Topic6\", \"Topic6\", \"Topic6\", \"Topic6\", \"Topic6\", \"Topic6\", \"Topic6\", \"Topic6\", \"Topic6\", \"Topic6\", \"Topic6\", \"Topic6\", \"Topic6\", \"Topic6\", \"Topic6\", \"Topic6\", \"Topic6\", \"Topic6\", \"Topic6\", \"Topic6\", \"Topic6\", \"Topic6\", \"Topic6\", \"Topic6\", \"Topic6\", \"Topic6\", \"Topic6\", \"Topic6\", \"Topic6\", \"Topic6\", \"Topic6\", \"Topic6\", \"Topic6\", \"Topic6\", \"Topic6\", \"Topic6\", \"Topic6\", \"Topic6\", \"Topic6\", \"Topic6\", \"Topic6\", \"Topic6\", \"Topic6\", \"Topic6\", \"Topic7\", \"Topic7\", \"Topic7\", \"Topic7\", \"Topic7\", \"Topic7\", \"Topic7\", \"Topic7\", \"Topic7\", \"Topic7\", \"Topic7\", \"Topic7\", \"Topic7\", \"Topic7\", \"Topic7\", \"Topic7\", \"Topic7\", \"Topic7\", \"Topic7\", \"Topic7\", \"Topic7\", \"Topic7\", \"Topic7\", \"Topic7\", \"Topic7\", \"Topic7\", \"Topic7\", \"Topic7\", \"Topic7\", \"Topic7\", \"Topic7\", \"Topic7\", \"Topic7\", \"Topic7\", \"Topic7\", \"Topic7\", \"Topic7\", \"Topic7\", \"Topic7\", \"Topic7\", \"Topic7\", \"Topic7\", \"Topic7\", \"Topic8\", \"Topic8\", \"Topic8\", \"Topic8\", \"Topic8\", \"Topic8\", \"Topic8\", \"Topic8\", \"Topic8\", \"Topic8\", \"Topic8\", \"Topic8\", \"Topic8\", \"Topic8\", \"Topic8\", \"Topic8\", \"Topic8\", \"Topic8\", \"Topic8\", \"Topic8\", \"Topic8\", \"Topic8\", \"Topic8\", \"Topic8\", \"Topic8\", \"Topic8\", \"Topic8\", \"Topic8\", \"Topic8\", \"Topic8\", \"Topic8\", \"Topic8\", \"Topic8\", \"Topic8\", \"Topic8\", \"Topic8\", \"Topic8\", \"Topic8\", \"Topic8\", \"Topic8\", \"Topic8\", \"Topic8\", \"Topic8\", \"Topic9\", \"Topic9\", \"Topic9\", \"Topic9\", \"Topic9\", \"Topic9\", \"Topic9\", \"Topic9\", \"Topic9\", \"Topic9\", \"Topic9\", \"Topic9\", \"Topic9\", \"Topic9\", \"Topic9\", \"Topic9\", \"Topic9\", \"Topic9\", \"Topic9\", \"Topic9\", \"Topic9\", \"Topic9\", \"Topic9\", \"Topic9\", \"Topic9\", \"Topic9\", \"Topic9\", \"Topic9\", \"Topic9\", \"Topic9\", \"Topic9\", \"Topic9\", \"Topic9\", \"Topic9\", \"Topic9\", \"Topic9\", \"Topic9\", \"Topic9\", \"Topic9\", \"Topic9\", \"Topic9\", \"Topic9\", \"Topic9\", \"Topic10\", \"Topic10\", \"Topic10\", \"Topic10\", \"Topic10\", \"Topic10\", \"Topic10\", \"Topic10\", \"Topic10\", \"Topic10\", \"Topic10\", \"Topic10\", \"Topic10\", \"Topic10\", \"Topic10\", \"Topic10\", \"Topic10\", \"Topic10\", \"Topic10\", \"Topic10\", \"Topic10\", \"Topic10\", \"Topic10\", \"Topic10\", \"Topic10\", \"Topic10\", \"Topic10\", \"Topic10\", \"Topic10\", \"Topic10\", \"Topic10\", \"Topic10\", \"Topic10\", \"Topic10\", \"Topic10\", \"Topic10\", \"Topic11\", \"Topic11\", \"Topic11\", \"Topic11\", \"Topic11\", \"Topic11\", \"Topic11\", \"Topic11\", \"Topic11\", \"Topic11\", \"Topic11\", \"Topic11\", \"Topic11\", \"Topic11\", \"Topic11\", \"Topic11\", \"Topic11\", \"Topic11\", \"Topic11\", \"Topic11\", \"Topic11\", \"Topic11\", \"Topic11\", \"Topic11\", \"Topic11\", \"Topic11\", \"Topic11\", \"Topic11\", \"Topic11\", \"Topic11\", \"Topic11\", \"Topic11\", \"Topic11\", \"Topic11\", \"Topic11\", \"Topic11\", \"Topic11\", \"Topic11\", \"Topic11\", \"Topic11\", \"Topic11\", \"Topic11\", \"Topic11\", \"Topic11\", \"Topic11\", \"Topic12\", \"Topic12\", \"Topic12\", \"Topic12\", \"Topic12\", \"Topic12\", \"Topic12\", \"Topic12\", \"Topic12\", \"Topic12\", \"Topic12\", \"Topic12\", \"Topic12\", \"Topic12\", \"Topic12\", \"Topic12\", \"Topic12\", \"Topic12\", \"Topic12\", \"Topic12\", \"Topic12\", \"Topic12\", \"Topic12\", \"Topic12\", \"Topic12\", \"Topic12\", \"Topic12\", \"Topic12\", \"Topic12\", \"Topic12\", \"Topic12\", \"Topic12\", \"Topic12\", \"Topic12\", \"Topic12\", \"Topic12\", \"Topic12\", \"Topic12\", \"Topic12\", \"Topic12\", \"Topic12\", \"Topic12\", \"Topic12\", \"Topic13\", \"Topic13\", \"Topic13\", \"Topic13\", \"Topic13\", \"Topic13\", \"Topic13\", \"Topic13\", \"Topic13\", \"Topic13\", \"Topic13\", \"Topic13\", \"Topic13\", \"Topic13\", \"Topic13\", \"Topic13\", \"Topic13\", \"Topic13\", \"Topic13\", \"Topic13\", \"Topic13\", \"Topic13\", \"Topic13\", \"Topic13\", \"Topic13\", \"Topic13\", \"Topic13\", \"Topic13\", \"Topic13\", \"Topic13\", \"Topic13\", \"Topic13\", \"Topic13\", \"Topic13\", \"Topic13\", \"Topic13\", \"Topic13\", \"Topic13\", \"Topic13\", \"Topic13\", \"Topic13\", \"Topic14\", \"Topic14\", \"Topic14\", \"Topic14\", \"Topic14\", \"Topic14\", \"Topic14\", \"Topic14\", \"Topic14\", \"Topic14\", \"Topic14\", \"Topic14\", \"Topic14\", \"Topic14\", \"Topic14\", \"Topic14\", \"Topic14\", \"Topic14\", \"Topic14\", \"Topic14\", \"Topic14\", \"Topic14\", \"Topic14\", \"Topic14\", \"Topic14\", \"Topic14\", \"Topic14\", \"Topic14\", \"Topic14\", \"Topic14\", \"Topic14\", \"Topic14\", \"Topic14\", \"Topic14\", \"Topic14\", \"Topic14\", \"Topic14\", \"Topic14\", \"Topic14\", \"Topic14\", \"Topic14\", \"Topic14\", \"Topic14\", \"Topic14\", \"Topic14\", \"Topic14\", \"Topic14\", \"Topic14\", \"Topic14\", \"Topic14\", \"Topic14\", \"Topic14\", \"Topic14\", \"Topic14\", \"Topic14\", \"Topic15\", \"Topic15\", \"Topic15\", \"Topic15\", \"Topic15\", \"Topic15\", \"Topic15\", \"Topic15\", \"Topic15\", \"Topic15\", \"Topic15\", \"Topic15\", \"Topic15\", \"Topic15\", \"Topic15\", \"Topic15\", \"Topic15\", \"Topic15\", \"Topic15\", \"Topic15\", \"Topic15\", \"Topic15\", \"Topic15\", \"Topic15\", \"Topic15\", \"Topic15\", \"Topic15\", \"Topic15\", \"Topic15\", \"Topic15\", \"Topic15\", \"Topic15\", \"Topic15\", \"Topic15\", \"Topic15\", \"Topic15\", \"Topic15\", \"Topic15\", \"Topic15\", \"Topic15\", \"Topic15\", \"Topic15\", \"Topic16\", \"Topic16\", \"Topic16\", \"Topic16\", \"Topic16\", \"Topic16\", \"Topic16\", \"Topic16\", \"Topic16\", \"Topic16\", \"Topic16\", \"Topic16\", \"Topic16\", \"Topic16\", \"Topic16\", \"Topic16\", \"Topic16\", \"Topic16\", \"Topic16\", \"Topic16\", \"Topic16\", \"Topic16\", \"Topic16\", \"Topic16\", \"Topic16\", \"Topic16\", \"Topic16\", \"Topic16\", \"Topic16\", \"Topic16\", \"Topic16\", \"Topic16\", \"Topic16\", \"Topic16\", \"Topic16\", \"Topic16\", \"Topic16\", \"Topic16\", \"Topic16\", \"Topic16\", \"Topic16\", \"Topic16\", \"Topic16\", \"Topic16\", \"Topic16\", \"Topic16\", \"Topic16\", \"Topic17\", \"Topic17\", \"Topic17\", \"Topic17\", \"Topic17\", \"Topic17\", \"Topic17\", \"Topic17\", \"Topic17\", \"Topic17\", \"Topic17\", \"Topic17\", \"Topic17\", \"Topic17\", \"Topic17\", \"Topic17\", \"Topic17\", \"Topic17\", \"Topic17\", \"Topic17\", \"Topic17\", \"Topic17\", \"Topic17\", \"Topic17\", \"Topic17\", \"Topic17\", \"Topic17\", \"Topic17\", \"Topic17\", \"Topic17\", \"Topic17\", \"Topic17\", \"Topic17\", \"Topic17\", \"Topic17\", \"Topic17\", \"Topic17\", \"Topic17\", \"Topic17\", \"Topic17\", \"Topic17\", \"Topic17\", \"Topic17\", \"Topic17\", \"Topic17\", \"Topic17\", \"Topic17\", \"Topic18\", \"Topic18\", \"Topic18\", \"Topic18\", \"Topic18\", \"Topic18\", \"Topic18\", \"Topic18\", \"Topic18\", \"Topic18\", \"Topic18\", \"Topic18\", \"Topic18\", \"Topic18\", \"Topic18\", \"Topic18\", \"Topic18\", \"Topic18\", \"Topic18\", \"Topic18\", \"Topic18\", \"Topic18\", \"Topic18\", \"Topic18\", \"Topic18\", \"Topic18\", \"Topic18\", \"Topic18\", \"Topic18\", \"Topic18\", \"Topic18\", \"Topic18\", \"Topic18\", \"Topic18\", \"Topic18\", \"Topic18\", \"Topic18\", \"Topic18\", \"Topic18\", \"Topic18\", \"Topic18\", \"Topic18\", \"Topic18\", \"Topic18\", \"Topic18\", \"Topic18\", \"Topic18\", \"Topic18\", \"Topic19\", \"Topic19\", \"Topic19\", \"Topic19\", \"Topic19\", \"Topic19\", \"Topic19\", \"Topic19\", \"Topic19\", \"Topic19\", \"Topic19\", \"Topic19\", \"Topic19\", \"Topic19\", \"Topic19\", \"Topic19\", \"Topic19\", \"Topic19\", \"Topic19\", \"Topic19\", \"Topic19\", \"Topic19\", \"Topic19\", \"Topic19\", \"Topic19\", \"Topic19\", \"Topic19\", \"Topic19\", \"Topic19\", \"Topic19\", \"Topic19\", \"Topic19\", \"Topic19\", \"Topic19\", \"Topic19\", \"Topic19\", \"Topic19\", \"Topic19\", \"Topic19\", \"Topic19\", \"Topic19\", \"Topic19\", \"Topic20\", \"Topic20\", \"Topic20\", \"Topic20\", \"Topic20\", \"Topic20\", \"Topic20\", \"Topic20\", \"Topic20\", \"Topic20\", \"Topic20\", \"Topic20\", \"Topic20\", \"Topic20\", \"Topic20\", \"Topic20\", \"Topic20\", \"Topic20\", \"Topic20\", \"Topic20\", \"Topic20\", \"Topic20\", \"Topic20\", \"Topic20\", \"Topic20\", \"Topic20\", \"Topic20\", \"Topic20\", \"Topic20\", \"Topic20\", \"Topic20\", \"Topic20\", \"Topic20\", \"Topic20\", \"Topic20\", \"Topic20\", \"Topic20\", \"Topic20\", \"Topic20\", \"Topic20\", \"Topic20\", \"Topic20\", \"Topic20\", \"Topic20\", \"Topic20\", \"Topic20\", \"Topic20\", \"Topic20\", \"Topic20\", \"Topic21\", \"Topic21\", \"Topic21\", \"Topic21\", \"Topic21\", \"Topic21\", \"Topic21\", \"Topic21\", \"Topic21\", \"Topic21\", \"Topic21\", \"Topic21\", \"Topic21\", \"Topic21\", \"Topic21\", \"Topic21\", \"Topic21\", \"Topic21\", \"Topic21\", \"Topic21\", \"Topic21\", \"Topic21\", \"Topic21\", \"Topic21\", \"Topic21\", \"Topic21\", \"Topic21\", \"Topic21\", \"Topic21\", \"Topic21\", \"Topic21\", \"Topic21\", \"Topic21\", \"Topic21\", \"Topic21\", \"Topic21\", \"Topic21\", \"Topic21\", \"Topic21\", \"Topic21\", \"Topic21\", \"Topic21\", \"Topic21\", \"Topic21\", \"Topic21\", \"Topic21\", \"Topic21\", \"Topic21\", \"Topic21\", \"Topic22\", \"Topic22\", \"Topic22\", \"Topic22\", \"Topic22\", \"Topic22\", \"Topic22\", \"Topic22\", \"Topic22\", \"Topic22\", \"Topic22\", \"Topic22\", \"Topic22\", \"Topic22\", \"Topic22\", \"Topic22\", \"Topic22\", \"Topic22\", \"Topic22\", \"Topic22\", \"Topic22\", \"Topic22\", \"Topic22\", \"Topic22\", \"Topic22\", \"Topic22\", \"Topic22\", \"Topic22\", \"Topic22\", \"Topic22\", \"Topic22\", \"Topic22\", \"Topic22\", \"Topic22\", \"Topic22\", \"Topic22\", \"Topic22\", \"Topic22\", \"Topic22\", \"Topic22\", \"Topic22\", \"Topic22\", \"Topic22\", \"Topic22\", \"Topic22\", \"Topic22\", \"Topic22\", \"Topic22\", \"Topic23\", \"Topic23\", \"Topic23\", \"Topic23\", \"Topic23\", \"Topic23\", \"Topic23\", \"Topic23\", \"Topic23\", \"Topic23\", \"Topic23\", \"Topic23\", \"Topic23\", \"Topic23\", \"Topic23\", \"Topic23\", \"Topic23\", \"Topic23\", \"Topic23\", \"Topic23\", \"Topic23\", \"Topic23\", \"Topic23\", \"Topic23\", \"Topic23\", \"Topic23\", \"Topic23\", \"Topic23\", \"Topic23\", \"Topic23\", \"Topic23\", \"Topic23\", \"Topic23\", \"Topic23\", \"Topic23\", \"Topic23\", \"Topic23\", \"Topic23\", \"Topic23\", \"Topic23\", \"Topic23\", \"Topic23\", \"Topic23\", \"Topic23\", \"Topic23\", \"Topic23\", \"Topic23\", \"Topic23\", \"Topic23\", \"Topic23\", \"Topic23\", \"Topic23\", \"Topic24\", \"Topic24\", \"Topic24\", \"Topic24\", \"Topic24\", \"Topic24\", \"Topic24\", \"Topic24\", \"Topic24\", \"Topic24\", \"Topic24\", \"Topic24\", \"Topic24\", \"Topic24\", \"Topic24\", \"Topic24\", \"Topic24\", \"Topic24\", \"Topic24\", \"Topic24\", \"Topic24\", \"Topic24\", \"Topic24\", \"Topic24\", \"Topic24\", \"Topic24\", \"Topic24\", \"Topic24\", \"Topic24\", \"Topic24\", \"Topic24\", \"Topic24\", \"Topic24\", \"Topic24\", \"Topic24\", \"Topic24\", \"Topic24\", \"Topic24\", \"Topic24\", \"Topic24\", \"Topic24\", \"Topic24\", \"Topic24\", \"Topic24\", \"Topic24\", \"Topic24\", \"Topic24\", \"Topic24\", \"Topic24\", \"Topic24\", \"Topic25\", \"Topic25\", \"Topic25\", \"Topic25\", \"Topic25\", \"Topic25\", \"Topic25\", \"Topic25\", \"Topic25\", \"Topic25\", \"Topic25\", \"Topic25\", \"Topic25\", \"Topic25\", \"Topic25\", \"Topic25\", \"Topic25\", \"Topic25\", \"Topic25\", \"Topic25\", \"Topic25\", \"Topic25\", \"Topic25\", \"Topic25\", \"Topic25\", \"Topic25\", \"Topic25\", \"Topic25\", \"Topic25\", \"Topic25\", \"Topic25\", \"Topic25\", \"Topic25\", \"Topic25\", \"Topic25\", \"Topic25\", \"Topic25\", \"Topic25\", \"Topic25\", \"Topic25\", \"Topic25\", \"Topic25\", \"Topic25\", \"Topic25\", \"Topic25\", \"Topic25\", \"Topic25\", \"Topic25\", \"Topic25\", \"Topic25\", \"Topic25\", \"Topic25\", \"Topic25\", \"Topic25\"], \"logprob\": [30.0, 29.0, 28.0, 27.0, 26.0, 25.0, 24.0, 23.0, 22.0, 21.0, 20.0, 19.0, 18.0, 17.0, 16.0, 15.0, 14.0, 13.0, 12.0, 11.0, 10.0, 9.0, 8.0, 7.0, 6.0, 5.0, 4.0, 3.0, 2.0, 1.0, -1.5744, -1.7025, -3.697, -1.7404, -4.3708, -4.3708, -4.3708, -4.3708, -4.3708, -3.697, -4.3708, -4.3708, -4.3708, -4.3708, -4.3708, -2.1282, -3.6082, -7.6289, -7.6289, -7.6289, -7.6289, -7.6289, -7.6289, -7.6289, -7.6289, -7.6289, -7.6289, -7.6289, -7.6289, -7.6289, -6.3824, -7.6289, -7.6289, -7.6289, -7.6289, -7.6289, -7.6289, -7.6289, -7.6289, -7.6289, -7.6289, -7.6289, -7.6289, -2.0768, -1.9719, -3.5655, -2.8822, -4.2392, -4.2392, -4.2392, -4.2392, -4.2392, -4.2392, -4.2392, -4.2392, -4.2392, -3.5655, -3.5655, -4.2392, -4.2392, -4.2392, -4.2392, -4.2392, -4.2392, -2.9819, -1.9108, -4.2392, -4.2392, -3.5655, -7.4973, -7.4973, -7.4973, -7.4973, -7.4973, -7.4973, -7.4973, -7.4973, -7.4973, -7.4973, -7.4973, -7.4973, -7.4973, -7.4973, -7.4973, -7.4973, -3.3748, -3.3748, -2.6915, -2.1361, -4.0485, -4.0485, -4.0485, -4.0485, -4.0485, -4.0485, -4.0485, -4.0485, -4.0485, -2.9759, -2.6915, -4.0485, -4.0485, -4.0485, -4.0485, -4.0485, -2.6915, -2.5816, -4.0485, -3.2828, -3.3465, -7.3066, -7.3066, -7.3066, -7.3066, -7.3066, -7.3066, -7.3066, -7.3066, -7.3066, -7.3066, -7.3066, -7.3066, -7.3066, -7.3066, -7.3066, -7.3066, -7.3066, -4.1631, -4.1631, -4.1631, -4.1631, -4.1631, -4.1631, -4.1631, -4.1631, -4.1631, -4.1631, -4.1631, -4.1631, -4.1631, -4.1631, -3.4894, -2.4039, -4.1631, -4.1631, -4.1631, -4.1631, -4.1631, -4.1631, -4.1631, -4.1631, -4.1631, -4.1631, -4.1631, -4.1631, -4.1631, -1.6259, -2.8437, -1.6528, -3.4181, -2.5136, -3.4181, -4.0918, -4.0918, -4.0918, -4.0918, -4.0918, -4.0918, -4.0918, -4.0918, -3.2054, -4.0918, -1.7295, -4.0918, -2.3326, -3.4181, -7.3499, -7.3499, -7.3499, -7.3499, -7.3499, -7.3499, -7.3499, -7.3499, -7.3499, -7.3499, -7.3499, -7.3499, -7.3499, -7.3499, -7.3499, -7.3499, -7.3499, -7.3499, -7.3499, -7.3499, -7.3499, -7.3499, -7.3499, -7.3499, -7.3499, -2.1663, -1.2286, -3.0061, -4.0787, -4.0787, -4.0787, -4.0787, -4.0787, -4.0787, -4.0787, -4.0787, -2.0749, -3.405, -2.3302, -7.3368, -7.3368, -7.3368, -7.3368, -7.3368, -7.3368, -7.3368, -7.3368, -7.3368, -7.3368, -7.3368, -7.3368, -7.3368, -7.3368, -7.3368, -7.3368, -7.3368, -7.3368, -7.3368, -7.3368, -7.3368, -7.3368, -7.3368, -7.3368, -7.3368, -7.3368, -7.3368, -7.3368, -7.3368, -7.3368, -7.3368, -7.3368, -1.3477, -1.3477, -3.3454, -4.0192, -4.0192, -4.0192, -4.0192, -4.0192, -4.0192, -4.0192, -4.0192, -4.0192, -4.0192, -4.0192, -4.0192, -4.0192, -4.0192, -4.0192, -4.0192, -7.2772, -7.2772, -7.2772, -7.2772, -7.2772, -7.2772, -7.2772, -7.2772, -7.2772, -7.2772, -7.2772, -7.2772, -7.2772, -7.2772, -7.2772, -7.2772, -7.2772, -7.2772, -7.2772, -7.2772, -7.2772, -7.2772, -7.2772, -7.2772, -2.6318, -2.9162, -2.2296, -3.9888, -3.9888, -3.9888, -3.9888, -3.9888, -3.9888, -3.9888, -3.9888, -3.9888, -3.9888, -3.9888, -1.4752, -3.9888, -3.9888, -2.4106, -4.7095, -3.3151, -7.2469, -7.2469, -7.2469, -7.2469, -7.2469, -7.2469, -7.2469, -7.2469, -7.2469, -7.2469, -7.2469, -7.2469, -7.2469, -7.2469, -7.2469, -7.2469, -7.2469, -7.2469, -7.2469, -7.2469, -7.2469, -7.2469, -7.2469, -2.5857, -3.9428, -3.9428, -3.9428, -3.9428, -3.9428, -3.9428, -3.269, -1.1142, -3.9428, -3.269, -3.9428, -3.9428, -3.269, -3.9428, -3.9428, -3.9428, -3.9428, -3.9428, -3.8334, -7.2009, -7.2009, -7.2009, -7.2009, -7.2009, -7.2009, -7.2009, -7.2009, -7.2009, -7.2009, -7.2009, -3.8829, -7.2009, -7.2009, -7.2009, -7.2009, -7.2009, -7.2009, -7.2009, -7.2009, -7.2009, -7.2009, -7.2009, -3.0776, -3.7513, -3.7513, -3.7513, -3.7513, -3.7513, -3.7513, -3.7513, -3.7513, -3.7513, -3.7513, -3.7513, -3.7513, -3.7513, -3.7513, -3.0776, -3.7513, -3.7513, -3.7513, -3.7513, -3.7513, -3.7513, -3.7513, -3.7513, -3.7513, -3.7513, -3.7513, -2.3943, -3.4268, -7.0094, -7.0094, -7.0094, -7.0094, -7.0094, -7.0094, -7.0094, -2.0073, -2.1882, -3.7664, -3.7664, -2.6938, -3.7664, -3.0927, -3.7664, -2.4094, -3.7664, -3.7664, -2.6938, -3.3633, -2.921, -3.0927, -7.0245, -7.0245, -7.0245, -7.0245, -7.0245, -7.0245, -7.0245, -7.0245, -7.0245, -7.0245, -7.0245, -7.0245, -7.0245, -7.0245, -7.0245, -7.0245, -5.3376, -7.0245, -7.0245, -7.0245, -7.0245, -7.0245, -7.0245, -7.0245, -7.0245, -7.0245, -7.0245, -7.0245, -7.0245, -7.0245, -2.4134, -3.0967, -3.0967, -3.7704, -3.7704, -3.7704, -3.7704, -3.7704, -3.0967, -3.7704, -3.0967, -3.0967, -3.7704, -3.7704, -3.7704, -3.7704, -2.0112, -2.6175, -3.0967, -7.0285, -7.0285, -7.0285, -7.0285, -7.0285, -7.0285, -7.0285, -7.0285, -7.0285, -7.0285, -7.0285, -7.0285, -7.0285, -7.0285, -7.0285, -7.0285, -7.0285, -7.0285, -7.0285, -7.0285, -7.0285, -7.0285, -7.0285, -7.0285, -3.0219, -3.6956, -3.6956, -3.6956, -3.6956, -3.6956, -3.6956, -3.6956, -3.6956, -3.6956, -3.6956, -3.6956, -3.0219, -3.6956, -3.6956, -3.6956, -3.6956, -3.6956, -3.0219, -3.6956, -3.0219, -3.6956, -3.6956, -3.6956, -3.6956, -2.623, -6.9537, -6.9537, -6.9537, -6.9537, -6.9537, -6.9537, -6.9537, -6.9537, -6.9537, -6.9537, -6.9537, -6.9537, -6.9537, -6.9537, -6.9537, -1.8609, -2.263, -1.8609, -2.9463, -1.5807, -2.5474, -6.8782, -6.8782, -6.8782, -6.8782, -6.8782, -6.8782, -6.8782, -6.8782, -6.8782, -6.8782, -6.8782, -6.8782, -6.8782, -6.8782, -6.8782, -6.8782, -6.8782, -6.8782, -6.8782, -6.8782, -6.8782, -6.8782, -6.8782, -6.8782, -6.8782, -6.8782, -6.8782, -6.8782, -6.8782, -6.8782, -6.8782, -6.8782, -6.8782, -6.8782, -6.8782, -6.8782, -6.8782, -6.8782, -6.8782, -6.8782, -6.8782, -6.8782, -6.8782, -6.8782, -6.8782, -6.8782, -6.8782, -6.8782, -6.8782, -2.5053, -2.9042, -2.9042, -3.5779, -3.5779, -3.5779, -3.5779, -3.5779, -3.5779, -3.5779, -3.5779, -3.5779, -3.5779, -3.5779, -3.5779, -3.5779, -2.869, -1.9997, -6.836, -6.836, -6.836, -6.836, -6.836, -6.836, -6.836, -6.836, -6.836, -6.836, -6.836, -6.836, -4.7656, -6.836, -6.836, -6.836, -6.836, -6.836, -6.836, -6.836, -6.836, -6.836, -6.836, -6.836, -2.5137, -3.5863, -3.5863, -3.5863, -2.9126, -2.2293, -3.5863, -3.5863, -3.5863, -1.1655, -3.5863, -6.8444, -6.8444, -6.8444, -6.8444, -6.8444, -6.8444, -6.8444, -6.8444, -6.8444, -6.8444, -6.8444, -6.8444, -6.8444, -6.8444, -6.8444, -6.8444, -6.8444, -6.8444, -6.8444, -6.8444, -6.8444, -6.8444, -6.8444, -6.8444, -6.8444, -6.8444, -6.8444, -6.8444, -6.8444, -6.8444, -6.8444, -6.8444, -6.8444, -6.8444, -6.8444, -6.8444, -1.1215, -2.9408, -3.6145, -3.6145, -3.6145, -3.6145, -3.6145, -2.0363, -2.9118, -3.6145, -3.4911, -6.8726, -6.8726, -6.8726, -6.8726, -6.8726, -6.8726, -6.8726, -6.8726, -6.8726, -6.8726, -6.8726, -6.8726, -6.8726, -6.8726, -6.8726, -6.8726, -6.8726, -6.8726, -6.8726, -6.8726, -6.8726, -6.8726, -6.8726, -6.8726, -6.8726, -6.8726, -6.8726, -6.8726, -6.8726, -6.8726, -6.8726, -6.8726, -6.8726, -6.8726, -6.8726, -6.8726, -2.8192, -2.8192, -3.493, -3.493, -1.4528, -3.493, -2.8192, -2.0508, -3.493, -2.8192, -6.7511, -6.7511, -6.7511, -6.7511, -6.7511, -6.7511, -6.7511, -6.7511, -6.7511, -6.7511, -6.7511, -6.7511, -6.7511, -6.7511, -6.7511, -6.7511, -6.7511, -6.7511, -6.7511, -6.7511, -6.7511, -6.7511, -6.7511, -6.7511, -6.7511, -6.7511, -6.7511, -6.7511, -6.7511, -6.7511, -6.7511, -6.7511, -6.7511, -6.7511, -6.7511, -6.7511, -6.7511, -6.7511, -3.5127, -3.5127, -3.5127, -3.5127, -3.5127, -3.5127, -3.5127, -3.5127, -2.1557, -3.5127, -2.839, -3.5127, -3.5127, -3.5127, -2.1557, -3.5127, -2.839, -6.7708, -6.7708, -6.7708, -6.7708, -6.7708, -6.7708, -6.7708, -6.7708, -6.7708, -6.7708, -6.7708, -6.7708, -6.7708, -6.7708, -6.7708, -6.7708, -6.7708, -6.7708, -6.7708, -6.7708, -6.7708, -6.7708, -6.7708, -6.7708, -6.7708, -1.5758, -2.0627, -2.3471, -3.4197, -3.4197, -3.4197, -3.4197, -2.3519, -3.1059, -6.6778, -6.6778, -6.6778, -6.6778, -6.6778, -6.6778, -6.6778, -6.6778, -6.6778, -6.6778, -6.6778, -6.6778, -6.6778, -6.6778, -6.6778, -6.6778, -6.6778, -6.6778, -6.6778, -6.6778, -6.6778, -6.6778, -6.6778, -6.6778, -6.6778, -6.6778, -6.6778, -6.6778, -6.6778, -6.6778, -6.6778, -6.6778, -6.6778, -6.6778, -6.6778, -6.6778, -6.6778, -6.6778, -6.6778, -6.6778, -0.9632, -3.3255, -3.3255, -2.6518, -2.6518, -3.3255, -3.2817, -6.5836, -6.5836, -6.5836, -6.5836, -6.5836, -6.5836, -6.5836, -6.5836, -6.5836, -6.5836, -6.5836, -6.5836, -6.5836, -6.5836, -6.5836, -6.5836, -6.5836, -6.5836, -6.5836, -6.5836, -6.5836, -6.5836, -6.5836, -6.5836, -6.5836, -6.5836, -6.5836, -6.5836, -6.5836, -6.5836, -6.5836, -6.5836, -6.5836, -6.5836, -6.5836, -6.5836, -6.5836, -6.5836, -6.5836, -6.5836, -6.5836, -6.5836, -2.4173, -3.091, -3.091, -2.4173, -3.091, -3.091, -3.091, -2.4173, -3.091, -3.091, -6.3491, -6.3491, -6.3491, -6.3491, -6.3491, -6.3491, -6.3491, -6.3491, -6.3491, -6.3491, -6.3491, -6.3491, -6.3491, -6.3491, -6.3491, -6.3491, -6.3491, -6.3491, -6.3491, -6.3491, -6.3491, -6.3491, -6.3491, -6.3491, -6.3491, -6.3491, -6.3491, -6.3491, -6.3491, -6.3491, -6.3491, -6.3491, -6.3491, -6.3491, -6.3491, -6.3491, -6.3491, -6.3491, -1.9269, -2.9996, -2.3258, -2.9996, -2.9996, -2.3258, -6.2577, -6.2577, -6.2577, -6.2577, -6.2577, -6.2577, -6.2577, -6.2577, -6.2577, -6.2577, -6.2577, -6.2577, -6.2577, -6.2577, -6.2577, -6.2577, -6.2577, -6.2577, -6.2577, -6.2577, -6.2577, -6.2577, -6.2577, -6.2577, -6.2577, -2.9996, -6.2577, -6.2577, -6.2577, -6.2577, -6.2577, -6.2577, -6.2577, -6.2577, -6.2577, -6.2577, -6.2577, -6.2577, -6.2577, -6.2577, -6.2577, -6.2577, -6.2577, -6.2577, -6.2577, -6.2577, -2.9015, -2.9015, -2.9015, -2.9015, -2.9015, -2.9015, -2.9015, -2.9015, -2.8557, -6.1596, -6.1596, -6.1596, -6.1596, -6.1596, -6.1596, -6.1596, -6.1596, -6.1596, -6.1596, -6.1596, -6.1596, -6.1596, -6.1596, -6.1596, -6.1596, -6.1596, -6.1596, -6.1596, -6.1596, -6.1596, -6.1596, -6.1596, -6.1596, -6.1596, -6.1596, -6.1596, -6.1596, -6.1596, -6.1596, -6.1596, -6.1596, -6.1596, -6.1596, -6.1596, -6.1596, -6.1596, -6.1596, -6.1596, -6.1596, -6.1596, -2.7869, -2.1132, -2.1132, -2.7869, -6.045, -6.045, -6.045, -6.045, -6.045, -6.045, -6.045, -6.045, -6.045, -6.045, -6.045, -6.045, -6.045, -6.045, -6.045, -6.045, -6.045, -6.045, -6.045, -6.045, -6.045, -6.045, -6.045, -6.045, -6.045, -6.045, -2.7869, -6.045, -6.045, -6.045, -6.045, -6.045, -6.045, -6.045, -6.045, -6.045, -6.045, -6.045, -6.045, -6.045, -6.045, -6.045, -6.045, -6.045, -6.045, -6.045, -6.045, -6.045, -6.045, -6.045], \"loglift\": [30.0, 29.0, 28.0, 27.0, 26.0, 25.0, 24.0, 23.0, 22.0, 21.0, 20.0, 19.0, 18.0, 17.0, 16.0, 15.0, 14.0, 13.0, 12.0, 11.0, 10.0, 9.0, 8.0, 7.0, 6.0, 5.0, 4.0, 3.0, 2.0, 1.0, 2.5794, 2.5043, 2.2379, 2.0311, 1.9633, 1.9633, 1.9633, 1.9633, 1.9633, 1.9463, 1.5424, 1.5276, 1.5276, 1.2946, 1.036, 0.6799, 0.3905, -1.2704, -1.2704, -1.2704, -1.2704, -1.2704, -1.2704, -1.2704, -1.2704, -1.2704, -1.2704, -1.2704, -1.2704, -1.2704, -2.2427, -1.2704, -1.3174, -1.737, -1.3269, -1.3441, -1.9862, -2.4088, -1.295, -1.3346, -1.3346, -1.3057, -1.3441, 2.5664, 2.4943, 2.2976, 2.2834, 2.0408, 2.0408, 2.0408, 2.0408, 2.0408, 2.0408, 2.0408, 2.0408, 2.0408, 2.0237, 1.7918, 1.6592, 1.6592, 1.646, 1.6385, 1.6269, 1.3842, 1.0169, 0.8973, 0.8153, 0.6932, -0.6748, -1.1389, -1.1389, -1.1389, -1.1389, -1.1389, -1.1389, -1.1389, -1.1389, -1.1389, -1.1389, -1.1389, -1.1389, -1.58, -1.832, -1.1579, -1.1705, 2.5173, 2.5173, 2.5138, 2.3003, 2.2534, 2.2534, 2.2534, 2.2534, 2.2534, 2.2534, 2.2534, 2.2534, 2.2534, 2.2442, 2.2214, 1.8575, 1.8514, 1.8434, 1.8316, 1.3512, 1.216, 1.1899, 1.1171, -0.3921, -0.5384, -0.9481, -0.9481, -0.9481, -0.9481, -0.9481, -0.9481, -0.9481, -0.9481, -0.9481, -0.9481, -0.9481, -0.9481, -0.9714, -2.4785, -1.6633, -2.3742, -3.1669, 2.1954, 2.1954, 2.1954, 2.1954, 2.1954, 2.1954, 2.1954, 2.1954, 2.1954, 2.1954, 2.1954, 2.1954, 2.1954, 2.1954, 2.1787, 2.0886, 1.7797, 1.7785, 1.7542, 1.7542, 1.5023, 1.5007, 1.4852, 1.4834, 1.4824, 1.4796, 1.4603, 1.4491, 1.2498, 1.1822, 1.1551, 2.7498, 2.5183, 2.4332, 2.2457, 2.2433, 2.2433, 2.2433, 2.2433, 2.2433, 2.2433, 1.822, 1.5547, 1.2311, 1.1135, 1.0786, 0.976, 0.558, 0.4893, -0.9915, -0.9915, -0.9915, -0.9915, -0.9915, -0.9915, -0.9915, -0.9915, -0.9915, -0.9915, -0.9915, -0.9915, -0.9915, -1.4516, -2.8574, -3.3511, -4.1136, -2.814, -2.4371, -3.5784, -1.4071, -1.0361, -1.4153, -1.048, -1.0105, 2.5678, 2.5484, 2.4266, 2.2607, 2.2607, 2.2607, 2.2607, 2.2607, 2.2607, 1.5867, 1.5633, 1.1614, 1.0876, 0.5605, -0.9783, -0.9783, -0.9783, -0.9783, -0.9783, -0.9783, -0.9783, -0.9783, -0.9783, -0.9783, -0.9783, -0.9783, -0.9783, -0.9783, -0.9986, -0.9986, -1.0029, -1.0167, -1.6935, -2.1167, -1.9795, -1.429, -1.7029, -3.338, -2.2755, -1.9239, -1.4706, -1.7049, -2.4571, -1.7612, -4.5287, -1.9874, 2.897, 2.897, 2.3029, 2.3009, 2.3009, 2.3009, 2.3009, 2.3009, 2.3009, 2.3009, 2.3009, 2.3009, 1.9225, 1.6242, 1.57, 1.0487, 1.0407, 0.8987, 0.447, -0.9188, -0.9188, -0.9188, -0.9188, -0.9188, -0.9188, -0.9188, -0.9188, -0.9188, -0.9188, -0.9188, -0.9188, -0.9188, -4.3865, -0.9434, -1.6378, -0.9567, -0.9755, -1.3854, -2.3449, -0.9748, -0.9748, -4.0409, -3.5003, 2.7857, 2.7233, 2.5985, 2.338, 2.338, 2.338, 2.338, 2.338, 2.338, 2.338, 1.9261, 1.6539, 1.633, 1.4439, 1.4155, 1.4151, 1.2487, 0.8257, 0.1701, -0.507, -0.8884, -0.8884, -0.8884, -0.8884, -0.8884, -0.8884, -0.8884, -0.8884, -0.8884, -0.8884, -0.8884, -0.8884, -0.8884, -0.9268, -0.9449, -2.8104, -1.6577, -2.6036, -2.7807, -3.0022, -3.0022, -3.2481, -2.7109, 2.4756, 2.3687, 2.3687, 2.3687, 2.3687, 2.3687, 2.3687, 2.3585, 2.1222, 1.9722, 1.7909, 1.7027, 1.6806, 1.6671, 1.464, 1.4612, 1.2644, 1.1118, 0.9701, 0.5693, -0.8424, -0.8424, -0.8424, -0.8424, -0.8424, -0.8424, -0.8424, -0.8424, -0.8424, -0.8424, -0.8424, -0.9922, -0.8424, -0.8424, -1.2659, -1.2604, -1.3025, -1.5886, -1.2836, -0.9161, -0.8991, -0.8991, -2.5576, 2.5347, 2.5334, 2.5334, 2.5334, 2.5334, 2.5334, 2.5334, 2.5334, 2.5334, 2.5334, 2.5334, 2.5334, 2.5334, 2.5334, 2.5334, 2.525, 2.166, 2.166, 2.1529, 2.1501, 2.1296, 2.1149, 1.606, 1.4678, 1.31, 1.3086, 1.1666, 0.4964, -0.6187, -0.6509, -0.6509, -0.6509, -0.6509, -0.6509, -0.6509, -2.8026, 3.049, 2.7296, 2.5452, 2.5452, 2.3607, 2.1319, 1.8201, 1.5908, 1.498, 1.4527, 1.4407, 1.0777, 1.0732, -0.1129, -0.202, -0.6661, -0.6661, -0.6661, -0.6661, -0.6661, -0.6661, -0.6661, -0.6661, -0.6661, -0.6661, -0.6661, -0.6661, -0.6661, -0.6661, -0.6851, -0.6851, -2.1013, -2.8177, -2.6219, -0.7014, -0.6851, -1.1072, -0.7398, -0.7445, -0.7045, -1.1167, -0.6977, -2.532, -0.7039, -1.1262, 3.0155, 2.838, 2.838, 2.5635, 2.5635, 2.5635, 2.5635, 2.5635, 2.1408, 2.131, 2.1224, 1.9711, 1.8571, 1.6364, 1.6335, 1.2895, 0.8794, 0.6188, -0.2886, -0.6701, -0.6701, -0.6701, -0.6701, -0.6701, -0.6701, -0.6701, -0.6701, -0.6701, -0.6701, -0.6701, -0.6701, -0.6701, -2.0923, -3.257, -2.8747, -3.2516, -2.7838, -2.7838, -1.1112, -0.7054, -0.6891, -0.7438, -0.7485, 2.8699, 2.6061, 2.6061, 2.6061, 2.6061, 2.6061, 2.6061, 2.6061, 2.6061, 2.6061, 2.6061, 2.6061, 2.3614, 2.2182, 2.2175, 2.2027, 2.1963, 1.9509, 1.925, 1.9009, 1.7122, 1.7112, 1.7083, 1.2368, 1.2017, 0.2677, -0.5952, -0.5952, -0.5952, -0.5952, -0.5952, -0.5952, -0.5952, -0.5952, -0.5952, -0.5952, -0.5952, -3.7174, -2.3104, -2.4875, -4.1456, 3.1693, 3.1058, 3.0365, 2.6501, 2.3268, 0.3433, -0.5197, -0.5197, -0.5197, -0.5197, -0.5197, -0.5197, -0.5197, -0.5197, -0.5197, -0.5197, -0.5197, -0.5197, -0.5197, -0.5197, -0.5388, -0.5388, -0.5388, -0.5388, -0.5388, -0.5388, -0.5399, -0.5399, -0.543, -0.543, -0.543, -0.543, -0.543, -0.555, -1.2327, -1.4607, -3.6418, -0.5576, -0.5576, -2.8794, -2.3422, -1.9458, -0.5581, -0.555, -0.9609, -0.9864, -0.9703, -0.5981, -0.5513, -0.5934, -2.3856, -0.5576, -0.9798, -0.5644, -0.9353, 3.1146, 3.0036, 3.0036, 2.7359, 2.7359, 2.7359, 2.7359, 2.7359, 2.7359, 2.7359, 2.7359, 2.3361, 2.322, 2.3073, 1.8218, 1.2502, 0.9079, 0.891, -0.4775, -0.4775, -0.4775, -0.4775, -0.4775, -0.4775, -0.4775, -0.4775, -0.4775, -0.4775, -0.4775, -0.4775, -1.5293, -0.4775, -2.3, -0.4966, -0.9442, -0.5129, -0.9187, -0.5513, -0.5092, -0.5159, -0.5559, -0.5245, 3.1202, 2.7368, 2.7368, 2.7368, 2.7294, 2.7069, 2.3277, 2.3197, 2.0592, 1.6426, 0.1852, -0.486, -0.486, -0.486, -0.486, -0.486, -0.486, -0.486, -0.486, -0.486, -0.486, -0.486, -0.486, -0.486, -0.486, -0.505, -0.505, -0.505, -0.505, -0.505, -0.9095, -3.9537, -2.6376, -1.4156, -1.9471, -1.8142, -2.1103, -2.7047, -3.6081, -0.505, -0.5244, -0.5597, -0.5306, -0.9366, -0.5643, -0.5643, -0.9527, 3.0182, 2.9997, 2.7237, 2.7237, 2.2897, 1.9881, 1.44, 0.8544, 0.3246, 0.2929, 0.2804, -0.5141, -0.5141, -0.5141, -0.5141, -0.5141, -0.5141, -0.5141, -0.5141, -0.5141, -0.5141, -0.5141, -0.5141, -0.5141, -0.5141, -0.5332, -0.5332, -0.5332, -0.5332, -0.5332, -0.5707, -0.9948, -2.6658, -0.9908, -1.8048, -1.8113, -2.7188, -2.4362, -4.0645, -2.3366, -0.5526, -0.9553, -0.9809, -0.5495, -0.5332, -0.5879, -0.9648, 3.0626, 3.0626, 2.8013, 2.8013, 2.546, 2.3988, 2.2486, 2.0889, 1.9199, 0.4171, -0.3926, -0.3926, -0.3926, -0.3926, -0.3926, -0.3926, -0.3926, -0.3926, -0.3926, -0.3926, -0.3926, -0.3926, -0.3926, -0.3926, -0.4117, -0.4117, -0.4117, -0.4117, -0.4117, -0.4117, -1.3336, -0.8147, -3.8604, -2.5443, -2.9741, -2.9796, -2.5973, -1.3823, -2.8436, -3.943, -1.7209, -1.8537, -0.4279, -0.431, -0.8338, -0.8593, -0.4663, -0.8433, 2.8079, 2.8079, 2.8079, 2.8079, 2.8079, 2.8079, 2.8079, 2.8079, 2.7767, 2.4063, 2.3681, 2.1553, 1.7064, 1.4235, 1.0806, 0.9238, 0.0517, -0.4123, -0.4123, -0.4123, -0.4123, -0.4123, -0.4123, -0.4123, -0.4123, -0.4123, -0.4123, -0.4123, -0.4123, -0.4123, -1.5655, -1.7406, -1.8735, -1.1225, -2.9993, -2.5261, -2.5261, -0.4907, -0.4507, -0.444, -0.863, -0.4861, 3.3039, 3.2867, 3.2285, 2.8643, 2.8643, 2.4604, 1.7874, 1.4251, 0.8929, -0.3193, -0.3193, -0.3193, -0.3193, -0.3193, -0.3193, -0.3193, -0.3193, -0.3193, -0.3193, -0.3193, -0.3193, -0.3193, -0.3193, -0.3384, -0.3384, -0.3384, -0.3384, -0.3384, -0.3384, -0.3396, -0.3396, -0.3977, -3.7871, -3.4415, -1.056, -1.6165, -0.351, -3.8697, -0.3977, -0.7861, -0.7605, -0.7432, -0.3547, -0.3578, -0.3439, -0.3578, -0.735, -0.77, -0.364, 3.5727, 2.9966, 2.9966, 2.7611, 2.5856, 1.167, 0.6257, -0.2252, -0.2252, -0.2252, -0.2252, -0.2252, -0.2252, -0.2252, -0.2252, -0.2252, -0.2252, -0.2252, -0.2252, -0.2252, -0.2252, -0.2442, -0.2442, -0.2442, -0.2442, -0.2442, -0.2442, -0.2454, -0.2454, -0.2485, -1.5291, -0.2698, -0.2698, -0.6696, -2.8067, -1.5238, -2.1472, -2.5848, -1.6368, -3.693, -1.2148, -2.4439, -2.181, -3.7755, -0.2605, -0.2636, -0.6758, -0.3036, -0.3036, 3.5038, 3.2327, 3.2327, 2.9824, 2.8279, 2.5418, 2.129, 2.0752, 1.7371, 0.1453, 0.0093, 0.0093, 0.0093, 0.0093, 0.0093, 0.0093, 0.0093, 0.0093, 0.0093, 0.0093, 0.0093, 0.0093, 0.0093, 0.0093, -0.0097, -0.0097, -0.0097, -0.0097, -0.0097, -0.0097, -0.4508, -3.4585, -1.1835, -1.7059, -1.883, -0.0353, -0.4145, -0.0291, -0.0153, -0.0377, -1.2946, -0.4574, -0.0353, -0.4318, -0.026, -0.4063, -0.0291, -0.4413, 3.7049, 3.3222, 3.307, 2.9433, 2.0603, 1.4511, 0.1008, 0.1008, 0.1008, 0.1008, 0.1008, 0.1008, 0.1008, 0.1008, 0.1008, 0.1008, 0.1008, 0.1008, 0.1008, 0.1008, 0.0817, 0.0817, 0.0817, 0.0817, 0.0817, 0.0817, 0.0805, 0.0805, 0.0775, 0.0775, 0.0775, -0.1915, -1.5236, 0.0271, -0.3404, 0.0655, -0.3659, -0.3499, -1.2032, 0.0538, -2.0509, 0.0441, 0.0624, 0.0629, 0.0224, 0.0692, -1.7651, -0.3593, 0.0561, 0.0443, -0.323, 0.0561, 3.4009, 3.4009, 3.4009, 3.4009, 2.9794, 2.9763, 2.7412, 1.5911, 1.3511, 0.1989, 0.1989, 0.1989, 0.1989, 0.1989, 0.1989, 0.1989, 0.1989, 0.1989, 0.1989, 0.1989, 0.1989, 0.1989, 0.1989, 0.1798, 0.1798, 0.1798, 0.1798, 0.1798, 0.1798, 0.1787, 0.1787, -2.0198, -1.9149, -1.9149, -3.3515, -2.0057, -0.2167, 0.1605, 0.1519, -1.105, -0.2678, -0.2423, 0.1636, 0.1205, -0.2249, 0.1605, 0.1543, 0.1743, -0.2517, 0.1543, 3.5223, 3.5086, 3.2701, 3.1048, 0.3135, 0.3135, 0.3135, 0.3135, 0.3135, 0.3135, 0.3135, 0.3135, 0.3135, 0.3135, 0.3135, 0.3135, 0.3135, 0.3135, 0.2944, 0.2944, 0.2944, 0.2944, 0.2944, 0.2944, 0.2932, 0.2932, 0.2902, 0.2902, 0.2902, 0.2902, 0.1038, 0.2902, -1.1654, 0.2351, -0.1372, 0.275, 0.2397, 0.2818, -0.1277, -0.1533, -0.9905, 0.2665, 0.2781, -0.1466, -1.5524, 0.2756, 0.2567, 0.2688, -0.1022, 0.2569, -0.1104, 0.2688, 0.2889, 0.275]}, \"token.table\": {\"Topic\": [7, 12, 1, 2, 9, 12, 8, 15, 22, 9, 7, 9, 10, 12, 23, 23, 3, 15, 18, 7, 1, 13, 9, 3, 8, 2, 4, 18, 21, 3, 22, 2, 24, 8, 5, 15, 1, 2, 3, 11, 1, 2, 3, 4, 5, 8, 10, 11, 12, 16, 23, 6, 8, 9, 12, 17, 18, 19, 22, 12, 21, 16, 10, 2, 3, 5, 6, 8, 9, 10, 11, 12, 13, 14, 15, 17, 19, 25, 7, 17, 2, 7, 5, 9, 6, 8, 5, 8, 7, 15, 24, 3, 13, 10, 12, 6, 16, 3, 16, 15, 12, 19, 1, 21, 13, 14, 3, 5, 13, 25, 3, 4, 5, 11, 14, 17, 21, 8, 1, 7, 20, 2, 3, 3, 21, 2, 12, 7, 12, 15, 12, 3, 6, 4, 23, 15, 1, 2, 19, 4, 6, 21, 22, 24, 8, 2, 15, 7, 4, 6, 16, 4, 10, 13, 2, 9, 11, 17, 9, 1, 24, 13, 10, 24, 2, 4, 6, 1, 7, 2, 10, 19, 10, 17, 7, 10, 11, 4, 10, 15, 16, 4, 5, 2, 5, 4, 24, 10, 1, 2, 3, 2, 6, 13, 3, 2, 4, 10, 15, 8, 2, 15, 16, 9, 3, 4, 22, 10, 13, 13, 14, 3, 15, 22, 16, 8, 9, 1, 3, 4, 11, 16, 17, 19, 22, 5, 13, 17, 24, 4, 13, 1, 9, 12, 13, 4, 19, 5, 18, 25, 3, 20, 4, 6, 4, 10, 8, 12, 21, 13, 3, 6, 15, 20, 23, 4, 4, 5, 20, 8, 9, 12, 13, 3, 5, 11, 19, 13, 5, 3, 15, 18, 17, 18, 4, 10, 18, 13, 10, 10, 17, 10, 12, 10, 2, 5, 11, 7, 2, 10, 11, 9, 13, 4, 7, 9, 16, 19, 4, 15, 1, 4, 6, 10, 4, 9, 10, 17, 7, 13, 4, 7, 6, 1, 14, 20, 22, 8, 25, 15, 19, 8, 9, 11, 19, 20, 10, 11, 12, 19, 2, 10, 15, 19, 11, 13, 22, 2, 7, 18, 5, 13, 8, 22, 23, 20, 19, 8, 9, 12, 1, 24, 13, 20, 19, 7, 19, 4, 10, 10, 4, 5, 13, 11, 13, 4, 9, 16, 13, 14, 2, 4, 13, 19, 4, 2, 4, 9, 1, 2, 4, 18, 20, 25, 23, 4, 7, 5, 7, 12, 18, 1, 3, 9, 11, 10, 3, 4, 4, 8, 24, 3, 6, 10], \"Freq\": [0.6437994399434999, 0.6527654568768566, 0.6529126319792665, 0.618566104662115, 0.644187341410338, 0.322093670705169, 0.7240838138434592, 0.14481676276869182, 0.14481676276869182, 0.6383092062710584, 0.18258692581620017, 0.36517385163240035, 0.18258692581620017, 0.18258692581620017, 0.18258692581620017, 0.6470135718934874, 0.42294185914583227, 0.42294185914583227, 0.8307591202667297, 0.6437994399435014, 0.4285724230376179, 0.4285724230376179, 0.6383092062710563, 0.6322490769968594, 0.6481867281232008, 0.815322560270232, 0.2598753763150428, 0.2598753763150428, 0.5197507526300856, 0.8392630873842983, 0.6461810632082359, 0.4136858023529406, 0.4136858023529406, 0.6481867281232001, 0.6536166457790931, 0.6392890238310784, 0.6529126319792665, 0.618566104662115, 0.632249076996861, 0.6384186911385425, 0.1344714181012826, 0.17289182327307762, 0.03842040517179503, 0.17289182327307762, 0.1536816206871801, 0.03842040517179503, 0.019210202585897514, 0.03842040517179503, 0.03842040517179503, 0.17289182327307762, 0.019210202585897514, 0.17686951051886574, 0.11791300701257715, 0.41269552454402003, 0.058956503506288574, 0.058956503506288574, 0.058956503506288574, 0.08843475525943287, 0.029478251753144287, 0.6527654568768645, 0.6451201327472245, 0.6457917268381254, 0.6214552373724268, 0.04172805729037628, 0.04172805729037628, 0.10432014322594069, 0.08345611458075256, 0.20864028645188137, 0.02086402864518814, 0.06259208593556441, 0.04172805729037628, 0.10432014322594069, 0.04172805729037628, 0.04172805729037628, 0.08345611458075256, 0.08345611458075256, 0.04172805729037628, 0.02086402864518814, 0.6437994399436733, 0.6556028394348667, 0.619957355977675, 0.3099786779888375, 0.8516899116153953, 0.09463221240171059, 0.5301575712129684, 0.2650787856064842, 0.8773352460818938, 0.648186728123153, 0.6437994399434999, 0.8526096350952344, 0.6325435920531282, 0.4195714001779656, 0.4195714001779656, 0.423584712362224, 0.423584712362224, 0.3268038916175606, 0.6536077832351213, 0.42555460723589067, 0.42555460723589067, 0.6397938969749158, 0.7921893666942053, 0.644145044271862, 0.8760672846695591, 0.8650131110489692, 0.3122541823713324, 0.6245083647426648, 0.6335128113806772, 0.2111709371268924, 0.5046002886896358, 0.5046002886896358, 0.17301874797188943, 0.05767291599062981, 0.11534583198125962, 0.17301874797188943, 0.34603749594377886, 0.05767291599062981, 0.05767291599062981, 0.6481867281232008, 0.6544628676801822, 0.3272314338400911, 0.762364389785501, 0.6088707248861502, 0.20295690829538343, 0.8392630873842992, 0.6451201327472245, 0.6185661046621156, 0.8758023336034829, 0.6437994399435031, 0.6527654568766225, 0.6397938969749155, 0.8758023336034837, 0.632249076997055, 0.6563833374925645, 0.4414940099820655, 0.4414940099820655, 0.6397938969749216, 0.4223020633841061, 0.4223020633841061, 0.644145044271862, 0.41413494853021876, 0.20706747426510938, 0.10353373713255469, 0.20706747426510938, 0.10353373713255469, 0.6481867281232023, 0.6185661046621146, 0.8526096350951384, 0.6437994399435827, 0.6690080139624267, 0.6563833374921322, 0.645791726838154, 0.43036492102673823, 0.43036492102673823, 0.839022547801896, 0.181607890637855, 0.181607890637855, 0.36321578127571, 0.181607890637855, 0.6383092062709704, 0.8558121122798318, 0.07780110111634835, 0.6321125566385125, 0.414976026437152, 0.414976026437152, 0.6185661046621973, 0.6690080139624295, 0.6563833374928927, 0.6529126319792665, 0.9696625509123352, 0.40891414178225016, 0.40891414178225016, 0.6441450442718668, 0.6283317660280883, 0.31416588301404413, 0.15841202208750482, 0.15841202208750482, 0.6336480883500193, 0.6690080139624268, 0.6214552373724257, 0.4289594109640562, 0.4289594109640562, 0.33398868696581485, 0.6679773739316297, 0.962968981654563, 0.6536166457790931, 0.6690080139624295, 0.6325435920531277, 0.6214552373725046, 0.4223020633846706, 0.4223020633846706, 0.6322490769972371, 0.6185661046621146, 0.6590780518065129, 0.26363122072260514, 0.6322490769970587, 0.6185661046621148, 0.6690080139624267, 0.6214552373724243, 0.6397938969749407, 0.783236782016652, 0.4167746581836417, 0.4167746581836417, 0.6457917268377508, 0.6383092062714063, 0.42861424732973097, 0.21430712366486548, 0.21430712366486548, 0.6214552373724243, 0.6321125566385125, 0.15519361657812272, 0.7759680828906136, 0.2564783681769709, 0.2564783681769709, 0.5129567363539418, 0.6483137769430164, 0.6519411988859423, 0.6383092062710584, 0.553752366840818, 0.20136449703302473, 0.05034112425825618, 0.10068224851651236, 0.05034112425825618, 0.05034112425825618, 0.4310842911464909, 0.4310842911464909, 0.6523015058688327, 0.32615075293441637, 0.6556028394348657, 0.6325435920531802, 0.6690080139624258, 0.632112556638483, 0.2583060926301152, 0.2583060926301152, 0.2583060926301152, 0.2583060926301152, 0.33541158962250145, 0.33541158962250145, 0.6536166457793076, 0.419506106841943, 0.419506106841943, 0.414660281523702, 0.414660281523702, 0.6690080139624276, 0.656383337492891, 0.31721173356925847, 0.6344234671385169, 0.218065339937957, 0.436130679875914, 0.436130679875914, 0.6321125566384831, 0.632249076996858, 0.658028574368257, 0.10123516528742417, 0.15185274793113623, 0.10123516528742417, 0.6690080139624264, 0.6690080139624295, 0.6536166457782898, 0.9173919198112358, 0.2575631623232013, 0.2575631623232013, 0.2575631623232013, 0.2575631623232013, 0.5873072910985048, 0.1957690970328349, 0.09788454851641745, 0.09788454851641745, 0.632112556638483, 0.6536166457790922, 0.632249076996858, 0.6397938969749158, 0.6274108243465012, 0.6547621692105474, 0.29100540853802104, 0.6690080139623549, 0.6214552373725251, 0.8307591202666595, 0.632112556638482, 0.6214552373724243, 0.4247776612912, 0.4247776612912, 0.6214552373725251, 0.6527654568769273, 0.6214552373724243, 0.6185661046621148, 0.6536166457790931, 0.6384186911385425, 0.6437994399435008, 0.4916446462533522, 0.2458223231266761, 0.2458223231266761, 0.6383092062709704, 0.6321125566384814, 0.44096340699641895, 0.44096340699641895, 0.32268126536927044, 0.48402189805390566, 0.16134063268463522, 0.6690080139624268, 0.6397938969749158, 0.33452488138091707, 0.33452488138091707, 0.33452488138091707, 0.6214552373724251, 0.18284558654583669, 0.5485367596375101, 0.18284558654583669, 0.8809175174661489, 0.6437994399435031, 0.6321125566384809, 0.3288637101794759, 0.6577274203589518, 0.6563833374928927, 0.6529126319792699, 0.7460251512280686, 0.6210312748023464, 0.6461810632082358, 0.3202487842646086, 0.6404975685292172, 0.6397938969749407, 0.6441450442717448, 0.6481867281226636, 0.211548184955298, 0.211548184955298, 0.423096369910596, 0.211548184955298, 0.2140979050806323, 0.2140979050806323, 0.4281958101612646, 0.2140979050806323, 0.6185661046621165, 0.6214552373724243, 0.6397938969749158, 0.6441450442717448, 0.9096061490148782, 0.6321125566383111, 0.8639904425080901, 0.8066934067382111, 0.10083667584227639, 0.6274108243465012, 0.42887564356755997, 0.42887564356755997, 0.6481867281232001, 0.32382100097239364, 0.6476420019447873, 0.7316899086853237, 0.644145044271862, 0.42934359849121534, 0.42934359849121534, 0.6527654568768566, 0.6529126319792699, 0.6325435920531802, 0.6321125566386041, 0.6210312748023457, 0.6441450442718728, 0.6437994399434999, 0.644145044271862, 0.43036492102594953, 0.43036492102594953, 0.6214552373724257, 0.3282820218681652, 0.3282820218681652, 0.3282820218681652, 0.4222795339714771, 0.4222795339714771, 0.32793965483899196, 0.32793965483899196, 0.32793965483899196, 0.6321125566384809, 0.8862365500847397, 0.16073121274020263, 0.16073121274020263, 0.16073121274020263, 0.4821936382206079, 0.6690080139624295, 0.3207701832947932, 0.3207701832947932, 0.3207701832947932, 0.12637801341082144, 0.1895670201162322, 0.1895670201162322, 0.4423230469378751, 0.06318900670541072, 0.6368733802818156, 0.6449310745494234, 0.6690080139624267, 0.9696625509123352, 0.18404402113460117, 0.18404402113460117, 0.36808804226920233, 0.36808804226920233, 0.9592044834952947, 0.4728582563829021, 0.1576194187943007, 0.3152388375886014, 0.6214552373729275, 0.6322490769968594, 0.6690080139624295, 0.3270218313435501, 0.3270218313435501, 0.3270218313435501, 0.632249076996858, 0.6563833374928902, 0.6214552373724243], \"Term\": [\"add\", \"affected\", \"age\", \"amo\", \"animals\", \"animals\", \"antibiotics\", \"antibiotics\", \"antibiotics\", \"ask\", \"avoid\", \"avoid\", \"avoid\", \"avoid\", \"avoid\", \"away\", \"bad\", \"bad\", \"best\", \"better\", \"bite\", \"bite\", \"bites\", \"blacks\", \"called\", \"cases\", \"catch\", \"catch\", \"catch\", \"catching\", \"child\", \"children\", \"children\", \"cold\", \"come\", \"congo\", \"contain\", \"containing\", \"contaminated\", \"cope\", \"corona\", \"corona\", \"corona\", \"corona\", \"corona\", \"corona\", \"corona\", \"corona\", \"corona\", \"corona\", \"corona\", \"coronavirus\", \"coronavirus\", \"coronavirus\", \"coronavirus\", \"coronavirus\", \"coronavirus\", \"coronavirus\", \"coronavirus\", \"correct\", \"cough\", \"countries\", \"country\", \"covid\", \"covid\", \"covid\", \"covid\", \"covid\", \"covid\", \"covid\", \"covid\", \"covid\", \"covid\", \"covid\", \"covid\", \"covid\", \"covid\", \"covid\", \"crazy\", \"created\", \"crown\", \"crown\", \"cure\", \"cure\", \"cured\", \"cured\", \"cures\", \"current\", \"daily\", \"dangerous\", \"daughter\", \"day\", \"day\", \"deal\", \"deal\", \"deaths\", \"deaths\", \"die\", \"die\", \"died\", \"difference\", \"differences\", \"different\", \"disease\", \"disinfect\", \"disinfect\", \"disinfectant\", \"disinfectant\", \"doctor\", \"doctor\", \"does\", \"does\", \"does\", \"does\", \"does\", \"does\", \"does\", \"dog\", \"don\", \"don\", \"drc\", \"drink\", \"drink\", \"drinking\", \"dry\", \"effective\", \"epidemic\", \"epidemiological\", \"everyday\", \"exactly\", \"explain\", \"extension\", \"family\", \"far\", \"far\", \"fatalities\", \"feel\", \"feel\", \"feeling\", \"fever\", \"fever\", \"fever\", \"fever\", \"fever\", \"fight\", \"floor\", \"flu\", \"forever\", \"form\", \"free\", \"function\", \"gants\", \"gants\", \"gerome\", \"getting\", \"getting\", \"getting\", \"getting\", \"ginger\", \"gloves\", \"gloves\", \"gonna\", \"good\", \"good\", \"got\", \"granddaughter\", \"grandson\", \"group\", \"hands\", \"harmed\", \"harmed\", \"headache\", \"health\", \"health\", \"help\", \"help\", \"help\", \"helped\", \"hi\", \"home\", \"home\", \"hospital\", \"hospital\", \"hot\", \"hurt\", \"husband\", \"idea\", \"illness\", \"immune\", \"immune\", \"important\", \"infect\", \"infected\", \"infected\", \"infection\", \"infections\", \"instead\", \"ituri\", \"just\", \"kill\", \"killing\", \"killing\", \"kills\", \"kind\", \"know\", \"know\", \"know\", \"komanda\", \"life\", \"light\", \"light\", \"like\", \"like\", \"like\", \"likely\", \"long\", \"makeup\", \"mask\", \"mask\", \"mask\", \"mask\", \"mask\", \"mask\", \"masks\", \"masks\", \"medicine\", \"medicine\", \"mental\", \"minimum\", \"missiles\", \"modes\", \"mosquito\", \"mosquito\", \"mosquito\", \"mosquito\", \"mosquitos\", \"mosquitos\", \"mother\", \"need\", \"need\", \"number\", \"number\", \"okay\", \"old\", \"origin\", \"origin\", \"pandemic\", \"pandemic\", \"pandemic\", \"patient\", \"patients\", \"people\", \"people\", \"people\", \"people\", \"person\", \"pet\", \"point\", \"positive\", \"possible\", \"possible\", \"possible\", \"possible\", \"prevent\", \"prevent\", \"prevent\", \"prevent\", \"prevention\", \"prevents\", \"problem\", \"proof\", \"properly\", \"protect\", \"protect\", \"protected\", \"protecting\", \"protection\", \"protocol\", \"province\", \"quarantine\", \"quarantine\", \"really\", \"recover\", \"refer\", \"regularly\", \"research\", \"resources\", \"right\", \"risk\", \"risk\", \"risk\", \"said\", \"sale\", \"sanitizer\", \"sanitizer\", \"sars\", \"sars\", \"sars\", \"sausage\", \"say\", \"send\", \"send\", \"send\", \"seriously\", \"sick\", \"sick\", \"sick\", \"signs\", \"situation\", \"skin\", \"soap\", \"soap\", \"son\", \"sore\", \"spread\", \"spreading\", \"start\", \"statistics\", \"statistics\", \"stay\", \"sterilize\", \"stick\", \"stop\", \"stop\", \"stop\", \"stop\", \"stress\", \"stress\", \"stress\", \"stress\", \"stressed\", \"structures\", \"succumbed\", \"surface\", \"symptoms\", \"takes\", \"taking\", \"tea\", \"tea\", \"tell\", \"temperature\", \"temperature\", \"temperatures\", \"test\", \"test\", \"tested\", \"therapies\", \"thing\", \"thing\", \"think\", \"throat\", \"time\", \"times\", \"total\", \"touch\", \"toxins\", \"transfer\", \"treat\", \"treat\", \"treated\", \"treatment\", \"treatment\", \"treatment\", \"treatments\", \"treatments\", \"true\", \"true\", \"true\", \"ultaviolet\", \"ultraviolet\", \"use\", \"use\", \"use\", \"use\", \"vaccine\", \"vaccines\", \"vaccines\", \"vaccines\", \"virus\", \"virus\", \"virus\", \"virus\", \"virus\", \"visit\", \"want\", \"wanted\", \"wash\", \"way\", \"way\", \"way\", \"way\", \"wear\", \"wearing\", \"wearing\", \"wearing\", \"wears\", \"whites\", \"wife\", \"won\", \"won\", \"won\", \"yesterday\", \"young\", \"zone\"]}, \"R\": 30, \"lambda.step\": 0.01, \"plot.opts\": {\"xlab\": \"PC1\", \"ylab\": \"PC2\"}, \"topic.order\": [14, 24, 22, 20, 1, 3, 15, 16, 4, 25, 18, 21, 19, 23, 2, 8, 6, 17, 5, 13, 10, 12, 11, 9, 7]};\n",
              "\n",
              "function LDAvis_load_lib(url, callback){\n",
              "  var s = document.createElement('script');\n",
              "  s.src = url;\n",
              "  s.async = true;\n",
              "  s.onreadystatechange = s.onload = callback;\n",
              "  s.onerror = function(){console.warn(\"failed to load library \" + url);};\n",
              "  document.getElementsByTagName(\"head\")[0].appendChild(s);\n",
              "}\n",
              "\n",
              "if(typeof(LDAvis) !== \"undefined\"){\n",
              "   // already loaded: just create the visualization\n",
              "   !function(LDAvis){\n",
              "       new LDAvis(\"#\" + \"ldavis_el1001399076554779122968578862\", ldavis_el1001399076554779122968578862_data);\n",
              "   }(LDAvis);\n",
              "}else if(typeof define === \"function\" && define.amd){\n",
              "   // require.js is available: use it to load d3/LDAvis\n",
              "   require.config({paths: {d3: \"https://cdnjs.cloudflare.com/ajax/libs/d3/3.5.5/d3.min\"}});\n",
              "   require([\"d3\"], function(d3){\n",
              "      window.d3 = d3;\n",
              "      LDAvis_load_lib(\"https://cdn.rawgit.com/bmabey/pyLDAvis/files/ldavis.v1.0.0.js\", function(){\n",
              "        new LDAvis(\"#\" + \"ldavis_el1001399076554779122968578862\", ldavis_el1001399076554779122968578862_data);\n",
              "      });\n",
              "    });\n",
              "}else{\n",
              "    // require.js not available: dynamically load d3 & LDAvis\n",
              "    LDAvis_load_lib(\"https://cdnjs.cloudflare.com/ajax/libs/d3/3.5.5/d3.min.js\", function(){\n",
              "         LDAvis_load_lib(\"https://cdn.rawgit.com/bmabey/pyLDAvis/files/ldavis.v1.0.0.js\", function(){\n",
              "                 new LDAvis(\"#\" + \"ldavis_el1001399076554779122968578862\", ldavis_el1001399076554779122968578862_data);\n",
              "            })\n",
              "         });\n",
              "}\n",
              "</script>"
            ],
            "text/plain": [
              "<IPython.core.display.HTML object>"
            ]
          },
          "metadata": {
            "tags": []
          },
          "execution_count": 211
        }
      ]
    },
    {
      "cell_type": "markdown",
      "metadata": {
        "id": "FDEa4ar313SJ",
        "colab_type": "text"
      },
      "source": [
        "# Predict New"
      ]
    },
    {
      "cell_type": "code",
      "metadata": {
        "id": "wvbMC7Ewabac",
        "colab_type": "code",
        "colab": {
          "base_uri": "https://localhost:8080/",
          "height": 35
        },
        "outputId": "bf1df18c-e4b6-4b85-8dcb-39c1ec6c45cc"
      },
      "source": [
        "np.argmax(lda.transform([count_data.toarray()[13]]))"
      ],
      "execution_count": 212,
      "outputs": [
        {
          "output_type": "execute_result",
          "data": {
            "text/plain": [
              "7"
            ]
          },
          "metadata": {
            "tags": []
          },
          "execution_count": 212
        }
      ]
    },
    {
      "cell_type": "code",
      "metadata": {
        "id": "D1WlzpyGgOnH",
        "colab_type": "code",
        "colab": {}
      },
      "source": [
        ""
      ],
      "execution_count": null,
      "outputs": []
    }
  ]
}